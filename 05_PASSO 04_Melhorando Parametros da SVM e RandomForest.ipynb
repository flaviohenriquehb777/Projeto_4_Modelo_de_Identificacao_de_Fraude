{
 "cells": [
  {
   "cell_type": "markdown",
   "id": "6ce56924",
   "metadata": {},
   "source": [
    "# Modelo de Identificação de Fraudes"
   ]
  },
  {
   "cell_type": "code",
   "execution_count": 3,
   "id": "66bb3cb1",
   "metadata": {},
   "outputs": [],
   "source": [
    "# Importando o pandas\n",
    "\n",
    "import pandas as pd"
   ]
  },
  {
   "cell_type": "code",
   "execution_count": 4,
   "id": "9a6f2650",
   "metadata": {},
   "outputs": [],
   "source": [
    "# Importando a base\n",
    "\n",
    "transacoes = pd.read_csv('creditcard.csv')"
   ]
  },
  {
   "cell_type": "markdown",
   "id": "845adde5",
   "metadata": {},
   "source": [
    "<a id='modelo'></a>\n",
    "### Criando um modelo de aprendizado de máquinas para identificar fraude\n",
    "- Vamos criar um modelo para identificar fraude sem fazer nenhum tratamento nessa base"
   ]
  },
  {
   "cell_type": "markdown",
   "id": "614e5c98",
   "metadata": {},
   "source": [
    "**Podemos ajustar as colunas Time e Amount para que elas fiquem entre 0 e 1**"
   ]
  },
  {
   "cell_type": "code",
   "execution_count": 5,
   "id": "e2413a0c",
   "metadata": {},
   "outputs": [],
   "source": [
    "# Primeiro para a coluna Time\n",
    "\n",
    "transacoes.Time = transacoes.Time / transacoes.Time.max()"
   ]
  },
  {
   "cell_type": "code",
   "execution_count": 6,
   "id": "9d7aa549",
   "metadata": {},
   "outputs": [],
   "source": [
    "# E então para a coluna Amount\n",
    "\n",
    "transacoes.Amount = transacoes.Amount / transacoes.Amount.max()"
   ]
  },
  {
   "cell_type": "code",
   "execution_count": 7,
   "id": "9a8a6c6a",
   "metadata": {},
   "outputs": [],
   "source": [
    "# Separando X e y\n",
    "\n",
    "X = transacoes.drop('Class',axis=1)\n",
    "y = transacoes.Class"
   ]
  },
  {
   "cell_type": "markdown",
   "id": "22ec593d",
   "metadata": {},
   "source": [
    "**Separando em treino e teste**"
   ]
  },
  {
   "cell_type": "code",
   "execution_count": 8,
   "id": "5f29a21f",
   "metadata": {},
   "outputs": [],
   "source": [
    "# Separando em treino e teste\n",
    "\n",
    "from sklearn.model_selection import train_test_split\n",
    "\n",
    "X_train, X_test, y_train, y_test = train_test_split(X, y, test_size=0.33, random_state=0,stratify=y)"
   ]
  },
  {
   "cell_type": "markdown",
   "id": "6d8634fe",
   "metadata": {},
   "source": [
    "### Realizando o random undersampling"
   ]
  },
  {
   "cell_type": "code",
   "execution_count": 9,
   "id": "bea332fc",
   "metadata": {},
   "outputs": [],
   "source": [
    "# Importando o RandomUnderSampler do imblearn\n",
    "\n",
    "from imblearn.under_sampling import RandomUnderSampler "
   ]
  },
  {
   "cell_type": "code",
   "execution_count": 10,
   "id": "01a88693",
   "metadata": {},
   "outputs": [],
   "source": [
    "# Definindo o RandomUnderSampler\n",
    "\n",
    "rus = RandomUnderSampler(random_state=42)"
   ]
  },
  {
   "cell_type": "code",
   "execution_count": 11,
   "id": "2efe2412",
   "metadata": {},
   "outputs": [],
   "source": [
    "# Definindo a nova amostra\n",
    "\n",
    "X_resRUS, y_resRUS = rus.fit_resample(X_train, y_train)"
   ]
  },
  {
   "cell_type": "markdown",
   "id": "a99f00c1",
   "metadata": {},
   "source": [
    "**<font color='blue'>Com Support Vector Machines (SVC)**"
   ]
  },
  {
   "cell_type": "code",
   "execution_count": 12,
   "id": "a6df94cf",
   "metadata": {},
   "outputs": [],
   "source": [
    "# Fazendo o fit\n",
    "\n",
    "from sklearn.svm import SVC\n",
    "\n",
    "clf_SVC = SVC(random_state=0,probability=True).fit(X_resRUS, y_resRUS)"
   ]
  },
  {
   "cell_type": "code",
   "execution_count": 13,
   "id": "add5d156",
   "metadata": {},
   "outputs": [],
   "source": [
    "# Fazendo a previsão\n",
    "\n",
    "y_pred_SVC = clf_SVC.predict(X_test)\n",
    "\n",
    "y_pred_proba_SVC = clf_SVC.predict_proba(X_test)[:,1]"
   ]
  },
  {
   "cell_type": "code",
   "execution_count": 14,
   "id": "af61eed1",
   "metadata": {},
   "outputs": [
    {
     "data": {
      "text/plain": [
       "array([[92611,  1214],\n",
       "       [   22,   140]], dtype=int64)"
      ]
     },
     "execution_count": 14,
     "metadata": {},
     "output_type": "execute_result"
    }
   ],
   "source": [
    "# Visualizando a matriz de confusão\n",
    "\n",
    "from sklearn.metrics import confusion_matrix\n",
    "\n",
    "confusion_matrix(y_test,y_pred_SVC)"
   ]
  },
  {
   "cell_type": "code",
   "execution_count": 15,
   "id": "da82df83",
   "metadata": {},
   "outputs": [
    {
     "name": "stdout",
     "output_type": "stream",
     "text": [
      "0.6847172261858195\n"
     ]
    }
   ],
   "source": [
    "# Traçando a área sobre a curva precisão x recall\n",
    "\n",
    "from sklearn import metrics\n",
    "\n",
    "precision_SVC,recall_SVC,thresholds_SVC = metrics.precision_recall_curve(y_test,y_pred_proba_SVC)\n",
    "\n",
    "print(metrics.auc(recall_SVC, precision_SVC))"
   ]
  },
  {
   "cell_type": "markdown",
   "id": "c7f8ea0a",
   "metadata": {},
   "source": [
    "**E novamente utilizar o GridSearchCV**"
   ]
  },
  {
   "cell_type": "code",
   "execution_count": 16,
   "id": "eae889e4",
   "metadata": {},
   "outputs": [],
   "source": [
    "# Importando o GridSearchCV\n",
    "\n",
    "from sklearn.model_selection import GridSearchCV"
   ]
  },
  {
   "cell_type": "code",
   "execution_count": 17,
   "id": "9c401838",
   "metadata": {},
   "outputs": [],
   "source": [
    "# Utilizando os parâmetros do SVC\n",
    "\n",
    "parametros = {'C': [0.01, 0.1, 1, 10, 100], 'kernel': ['linear', 'poly', 'rbf', 'sigmoid']}\n",
    "\n",
    "parametros2 = {'C': [0.001, 0.1, 0.01, 1, 10, 100, 1000], 'kernel': ['linear', 'poly', 'rbf', 'sigmoid'], 'gamma': ['scale', 'auto']}"
   ]
  },
  {
   "cell_type": "code",
   "execution_count": 18,
   "id": "9d4e411d",
   "metadata": {},
   "outputs": [],
   "source": [
    "# Selecionando a SVC\n",
    "\n",
    "SVC_GS = SVC(random_state=0,probability=True)"
   ]
  },
  {
   "cell_type": "code",
   "execution_count": 19,
   "id": "4f3042b0",
   "metadata": {},
   "outputs": [],
   "source": [
    "# Criando um novo classificador usando os parâmetros que escolhemos anteriormente\n",
    "\n",
    "clf_GS = GridSearchCV(SVC_GS, parametros, scoring='recall')\n",
    "\n",
    "clf_GS2 = GridSearchCV(SVC_GS, parametros2, scoring='recall')"
   ]
  },
  {
   "cell_type": "code",
   "execution_count": 20,
   "id": "c4dcb7bf",
   "metadata": {},
   "outputs": [
    {
     "data": {
      "text/html": [
       "<style>#sk-container-id-1 {color: black;background-color: white;}#sk-container-id-1 pre{padding: 0;}#sk-container-id-1 div.sk-toggleable {background-color: white;}#sk-container-id-1 label.sk-toggleable__label {cursor: pointer;display: block;width: 100%;margin-bottom: 0;padding: 0.3em;box-sizing: border-box;text-align: center;}#sk-container-id-1 label.sk-toggleable__label-arrow:before {content: \"▸\";float: left;margin-right: 0.25em;color: #696969;}#sk-container-id-1 label.sk-toggleable__label-arrow:hover:before {color: black;}#sk-container-id-1 div.sk-estimator:hover label.sk-toggleable__label-arrow:before {color: black;}#sk-container-id-1 div.sk-toggleable__content {max-height: 0;max-width: 0;overflow: hidden;text-align: left;background-color: #f0f8ff;}#sk-container-id-1 div.sk-toggleable__content pre {margin: 0.2em;color: black;border-radius: 0.25em;background-color: #f0f8ff;}#sk-container-id-1 input.sk-toggleable__control:checked~div.sk-toggleable__content {max-height: 200px;max-width: 100%;overflow: auto;}#sk-container-id-1 input.sk-toggleable__control:checked~label.sk-toggleable__label-arrow:before {content: \"▾\";}#sk-container-id-1 div.sk-estimator input.sk-toggleable__control:checked~label.sk-toggleable__label {background-color: #d4ebff;}#sk-container-id-1 div.sk-label input.sk-toggleable__control:checked~label.sk-toggleable__label {background-color: #d4ebff;}#sk-container-id-1 input.sk-hidden--visually {border: 0;clip: rect(1px 1px 1px 1px);clip: rect(1px, 1px, 1px, 1px);height: 1px;margin: -1px;overflow: hidden;padding: 0;position: absolute;width: 1px;}#sk-container-id-1 div.sk-estimator {font-family: monospace;background-color: #f0f8ff;border: 1px dotted black;border-radius: 0.25em;box-sizing: border-box;margin-bottom: 0.5em;}#sk-container-id-1 div.sk-estimator:hover {background-color: #d4ebff;}#sk-container-id-1 div.sk-parallel-item::after {content: \"\";width: 100%;border-bottom: 1px solid gray;flex-grow: 1;}#sk-container-id-1 div.sk-label:hover label.sk-toggleable__label {background-color: #d4ebff;}#sk-container-id-1 div.sk-serial::before {content: \"\";position: absolute;border-left: 1px solid gray;box-sizing: border-box;top: 0;bottom: 0;left: 50%;z-index: 0;}#sk-container-id-1 div.sk-serial {display: flex;flex-direction: column;align-items: center;background-color: white;padding-right: 0.2em;padding-left: 0.2em;position: relative;}#sk-container-id-1 div.sk-item {position: relative;z-index: 1;}#sk-container-id-1 div.sk-parallel {display: flex;align-items: stretch;justify-content: center;background-color: white;position: relative;}#sk-container-id-1 div.sk-item::before, #sk-container-id-1 div.sk-parallel-item::before {content: \"\";position: absolute;border-left: 1px solid gray;box-sizing: border-box;top: 0;bottom: 0;left: 50%;z-index: -1;}#sk-container-id-1 div.sk-parallel-item {display: flex;flex-direction: column;z-index: 1;position: relative;background-color: white;}#sk-container-id-1 div.sk-parallel-item:first-child::after {align-self: flex-end;width: 50%;}#sk-container-id-1 div.sk-parallel-item:last-child::after {align-self: flex-start;width: 50%;}#sk-container-id-1 div.sk-parallel-item:only-child::after {width: 0;}#sk-container-id-1 div.sk-dashed-wrapped {border: 1px dashed gray;margin: 0 0.4em 0.5em 0.4em;box-sizing: border-box;padding-bottom: 0.4em;background-color: white;}#sk-container-id-1 div.sk-label label {font-family: monospace;font-weight: bold;display: inline-block;line-height: 1.2em;}#sk-container-id-1 div.sk-label-container {text-align: center;}#sk-container-id-1 div.sk-container {/* jupyter's `normalize.less` sets `[hidden] { display: none; }` but bootstrap.min.css set `[hidden] { display: none !important; }` so we also need the `!important` here to be able to override the default hidden behavior on the sphinx rendered scikit-learn.org. See: https://github.com/scikit-learn/scikit-learn/issues/21755 */display: inline-block !important;position: relative;}#sk-container-id-1 div.sk-text-repr-fallback {display: none;}</style><div id=\"sk-container-id-1\" class=\"sk-top-container\"><div class=\"sk-text-repr-fallback\"><pre>GridSearchCV(estimator=SVC(probability=True, random_state=0),\n",
       "             param_grid={&#x27;C&#x27;: [0.001, 0.1, 0.01, 1, 10, 100, 1000],\n",
       "                         &#x27;gamma&#x27;: [&#x27;scale&#x27;, &#x27;auto&#x27;],\n",
       "                         &#x27;kernel&#x27;: [&#x27;linear&#x27;, &#x27;poly&#x27;, &#x27;rbf&#x27;, &#x27;sigmoid&#x27;]},\n",
       "             scoring=&#x27;recall&#x27;)</pre><b>In a Jupyter environment, please rerun this cell to show the HTML representation or trust the notebook. <br />On GitHub, the HTML representation is unable to render, please try loading this page with nbviewer.org.</b></div><div class=\"sk-container\" hidden><div class=\"sk-item sk-dashed-wrapped\"><div class=\"sk-label-container\"><div class=\"sk-label sk-toggleable\"><input class=\"sk-toggleable__control sk-hidden--visually\" id=\"sk-estimator-id-1\" type=\"checkbox\" ><label for=\"sk-estimator-id-1\" class=\"sk-toggleable__label sk-toggleable__label-arrow\">GridSearchCV</label><div class=\"sk-toggleable__content\"><pre>GridSearchCV(estimator=SVC(probability=True, random_state=0),\n",
       "             param_grid={&#x27;C&#x27;: [0.001, 0.1, 0.01, 1, 10, 100, 1000],\n",
       "                         &#x27;gamma&#x27;: [&#x27;scale&#x27;, &#x27;auto&#x27;],\n",
       "                         &#x27;kernel&#x27;: [&#x27;linear&#x27;, &#x27;poly&#x27;, &#x27;rbf&#x27;, &#x27;sigmoid&#x27;]},\n",
       "             scoring=&#x27;recall&#x27;)</pre></div></div></div><div class=\"sk-parallel\"><div class=\"sk-parallel-item\"><div class=\"sk-item\"><div class=\"sk-label-container\"><div class=\"sk-label sk-toggleable\"><input class=\"sk-toggleable__control sk-hidden--visually\" id=\"sk-estimator-id-2\" type=\"checkbox\" ><label for=\"sk-estimator-id-2\" class=\"sk-toggleable__label sk-toggleable__label-arrow\">estimator: SVC</label><div class=\"sk-toggleable__content\"><pre>SVC(probability=True, random_state=0)</pre></div></div></div><div class=\"sk-serial\"><div class=\"sk-item\"><div class=\"sk-estimator sk-toggleable\"><input class=\"sk-toggleable__control sk-hidden--visually\" id=\"sk-estimator-id-3\" type=\"checkbox\" ><label for=\"sk-estimator-id-3\" class=\"sk-toggleable__label sk-toggleable__label-arrow\">SVC</label><div class=\"sk-toggleable__content\"><pre>SVC(probability=True, random_state=0)</pre></div></div></div></div></div></div></div></div></div></div>"
      ],
      "text/plain": [
       "GridSearchCV(estimator=SVC(probability=True, random_state=0),\n",
       "             param_grid={'C': [0.001, 0.1, 0.01, 1, 10, 100, 1000],\n",
       "                         'gamma': ['scale', 'auto'],\n",
       "                         'kernel': ['linear', 'poly', 'rbf', 'sigmoid']},\n",
       "             scoring='recall')"
      ]
     },
     "execution_count": 20,
     "metadata": {},
     "output_type": "execute_result"
    }
   ],
   "source": [
    "# Fazendo o fit dos nossos dados\n",
    "\n",
    "clf_GS.fit(X_resRUS, y_resRUS)\n",
    "\n",
    "clf_GS2.fit(X_resRUS, y_resRUS)"
   ]
  },
  {
   "cell_type": "code",
   "execution_count": 21,
   "id": "e0959ccb",
   "metadata": {},
   "outputs": [
    {
     "name": "stdout",
     "output_type": "stream",
     "text": [
      "{'C': 10, 'kernel': 'linear'}\n",
      "{'C': 100, 'gamma': 'auto', 'kernel': 'rbf'}\n"
     ]
    }
   ],
   "source": [
    "# Visualizando os melhores parâmetros definidos pelo GridSearchCV \n",
    "\n",
    "print(clf_GS.best_params_)\n",
    "print(clf_GS2.best_params_)"
   ]
  },
  {
   "cell_type": "code",
   "execution_count": 22,
   "id": "89768a0d",
   "metadata": {},
   "outputs": [],
   "source": [
    "# Usando esse modelo para fazer as previsões\n",
    "\n",
    "y_pred_SVC_GS = clf_GS.predict(X_test)\n",
    "y_pred_SVC_GS2 = clf_GS2.predict(X_test)"
   ]
  },
  {
   "cell_type": "code",
   "execution_count": 23,
   "id": "79223cf9",
   "metadata": {},
   "outputs": [
    {
     "name": "stdout",
     "output_type": "stream",
     "text": [
      "[[90816  3009]\n",
      " [   16   146]]\n",
      "[[85791  8034]\n",
      " [   12   150]]\n"
     ]
    }
   ],
   "source": [
    "# Analisando a matriz de confusão\n",
    "\n",
    "print(confusion_matrix(y_test,y_pred_SVC_GS))\n",
    "\n",
    "print(confusion_matrix(y_test,y_pred_SVC_GS2))"
   ]
  },
  {
   "cell_type": "markdown",
   "id": "e5bb19cc",
   "metadata": {},
   "source": [
    "**<font color='blue'>Random Forest**"
   ]
  },
  {
   "cell_type": "code",
   "execution_count": 34,
   "id": "35af9db9",
   "metadata": {},
   "outputs": [],
   "source": [
    "# Fazendo o fit\n",
    "\n",
    "from sklearn.ensemble import RandomForestClassifier\n",
    "\n",
    "clf_RF = RandomForestClassifier(max_depth=2, random_state=0).fit(X_resRUS, y_resRUS)"
   ]
  },
  {
   "cell_type": "code",
   "execution_count": 35,
   "id": "4a8b5bb1",
   "metadata": {},
   "outputs": [],
   "source": [
    "# Fazendo a previsão\n",
    "\n",
    "y_pred_RF = clf_RF.predict(X_test)\n",
    "\n",
    "y_pred_proba_RF = clf_RF.predict_proba(X_test)[:,1]"
   ]
  },
  {
   "cell_type": "code",
   "execution_count": 36,
   "id": "daf8acba",
   "metadata": {},
   "outputs": [
    {
     "data": {
      "text/plain": [
       "array([[92977,   848],\n",
       "       [   25,   137]], dtype=int64)"
      ]
     },
     "execution_count": 36,
     "metadata": {},
     "output_type": "execute_result"
    }
   ],
   "source": [
    "# Visualizando a matriz de confusão\n",
    "\n",
    "confusion_matrix(y_test,y_pred_RF)"
   ]
  },
  {
   "cell_type": "code",
   "execution_count": 37,
   "id": "eb19bd74",
   "metadata": {},
   "outputs": [],
   "source": [
    "# Utilizando os parâmetros do Random Forest\n",
    "\n",
    "parametros_RF = {'n_estimators': [40, 50, 100, 200], 'criterion': ['gini', 'entropy', 'log_loss'], 'max_depth': [2,3,4,5,6,7,8,9]}"
   ]
  },
  {
   "cell_type": "code",
   "execution_count": 38,
   "id": "17daf029",
   "metadata": {},
   "outputs": [],
   "source": [
    "# Selecionando o Random Forest\n",
    "\n",
    "RF_GS = RandomForestClassifier(random_state=0)"
   ]
  },
  {
   "cell_type": "code",
   "execution_count": 39,
   "id": "fbde0be5",
   "metadata": {},
   "outputs": [],
   "source": [
    "# Criando um novo classificador usando os parâmetros que escolhemos anteriormente\n",
    "\n",
    "clf_RF_GS = GridSearchCV(RF_GS, parametros_RF, scoring='recall')"
   ]
  },
  {
   "cell_type": "code",
   "execution_count": 41,
   "id": "d0d423d8",
   "metadata": {},
   "outputs": [
    {
     "data": {
      "text/html": [
       "<style>#sk-container-id-4 {color: black;background-color: white;}#sk-container-id-4 pre{padding: 0;}#sk-container-id-4 div.sk-toggleable {background-color: white;}#sk-container-id-4 label.sk-toggleable__label {cursor: pointer;display: block;width: 100%;margin-bottom: 0;padding: 0.3em;box-sizing: border-box;text-align: center;}#sk-container-id-4 label.sk-toggleable__label-arrow:before {content: \"▸\";float: left;margin-right: 0.25em;color: #696969;}#sk-container-id-4 label.sk-toggleable__label-arrow:hover:before {color: black;}#sk-container-id-4 div.sk-estimator:hover label.sk-toggleable__label-arrow:before {color: black;}#sk-container-id-4 div.sk-toggleable__content {max-height: 0;max-width: 0;overflow: hidden;text-align: left;background-color: #f0f8ff;}#sk-container-id-4 div.sk-toggleable__content pre {margin: 0.2em;color: black;border-radius: 0.25em;background-color: #f0f8ff;}#sk-container-id-4 input.sk-toggleable__control:checked~div.sk-toggleable__content {max-height: 200px;max-width: 100%;overflow: auto;}#sk-container-id-4 input.sk-toggleable__control:checked~label.sk-toggleable__label-arrow:before {content: \"▾\";}#sk-container-id-4 div.sk-estimator input.sk-toggleable__control:checked~label.sk-toggleable__label {background-color: #d4ebff;}#sk-container-id-4 div.sk-label input.sk-toggleable__control:checked~label.sk-toggleable__label {background-color: #d4ebff;}#sk-container-id-4 input.sk-hidden--visually {border: 0;clip: rect(1px 1px 1px 1px);clip: rect(1px, 1px, 1px, 1px);height: 1px;margin: -1px;overflow: hidden;padding: 0;position: absolute;width: 1px;}#sk-container-id-4 div.sk-estimator {font-family: monospace;background-color: #f0f8ff;border: 1px dotted black;border-radius: 0.25em;box-sizing: border-box;margin-bottom: 0.5em;}#sk-container-id-4 div.sk-estimator:hover {background-color: #d4ebff;}#sk-container-id-4 div.sk-parallel-item::after {content: \"\";width: 100%;border-bottom: 1px solid gray;flex-grow: 1;}#sk-container-id-4 div.sk-label:hover label.sk-toggleable__label {background-color: #d4ebff;}#sk-container-id-4 div.sk-serial::before {content: \"\";position: absolute;border-left: 1px solid gray;box-sizing: border-box;top: 0;bottom: 0;left: 50%;z-index: 0;}#sk-container-id-4 div.sk-serial {display: flex;flex-direction: column;align-items: center;background-color: white;padding-right: 0.2em;padding-left: 0.2em;position: relative;}#sk-container-id-4 div.sk-item {position: relative;z-index: 1;}#sk-container-id-4 div.sk-parallel {display: flex;align-items: stretch;justify-content: center;background-color: white;position: relative;}#sk-container-id-4 div.sk-item::before, #sk-container-id-4 div.sk-parallel-item::before {content: \"\";position: absolute;border-left: 1px solid gray;box-sizing: border-box;top: 0;bottom: 0;left: 50%;z-index: -1;}#sk-container-id-4 div.sk-parallel-item {display: flex;flex-direction: column;z-index: 1;position: relative;background-color: white;}#sk-container-id-4 div.sk-parallel-item:first-child::after {align-self: flex-end;width: 50%;}#sk-container-id-4 div.sk-parallel-item:last-child::after {align-self: flex-start;width: 50%;}#sk-container-id-4 div.sk-parallel-item:only-child::after {width: 0;}#sk-container-id-4 div.sk-dashed-wrapped {border: 1px dashed gray;margin: 0 0.4em 0.5em 0.4em;box-sizing: border-box;padding-bottom: 0.4em;background-color: white;}#sk-container-id-4 div.sk-label label {font-family: monospace;font-weight: bold;display: inline-block;line-height: 1.2em;}#sk-container-id-4 div.sk-label-container {text-align: center;}#sk-container-id-4 div.sk-container {/* jupyter's `normalize.less` sets `[hidden] { display: none; }` but bootstrap.min.css set `[hidden] { display: none !important; }` so we also need the `!important` here to be able to override the default hidden behavior on the sphinx rendered scikit-learn.org. See: https://github.com/scikit-learn/scikit-learn/issues/21755 */display: inline-block !important;position: relative;}#sk-container-id-4 div.sk-text-repr-fallback {display: none;}</style><div id=\"sk-container-id-4\" class=\"sk-top-container\"><div class=\"sk-text-repr-fallback\"><pre>GridSearchCV(estimator=RandomForestClassifier(random_state=0),\n",
       "             param_grid={&#x27;criterion&#x27;: [&#x27;gini&#x27;, &#x27;entropy&#x27;, &#x27;log_loss&#x27;],\n",
       "                         &#x27;max_depth&#x27;: [2, 3, 4, 5, 6, 7, 8, 9],\n",
       "                         &#x27;n_estimators&#x27;: [40, 50, 100, 200]},\n",
       "             scoring=&#x27;recall&#x27;)</pre><b>In a Jupyter environment, please rerun this cell to show the HTML representation or trust the notebook. <br />On GitHub, the HTML representation is unable to render, please try loading this page with nbviewer.org.</b></div><div class=\"sk-container\" hidden><div class=\"sk-item sk-dashed-wrapped\"><div class=\"sk-label-container\"><div class=\"sk-label sk-toggleable\"><input class=\"sk-toggleable__control sk-hidden--visually\" id=\"sk-estimator-id-10\" type=\"checkbox\" ><label for=\"sk-estimator-id-10\" class=\"sk-toggleable__label sk-toggleable__label-arrow\">GridSearchCV</label><div class=\"sk-toggleable__content\"><pre>GridSearchCV(estimator=RandomForestClassifier(random_state=0),\n",
       "             param_grid={&#x27;criterion&#x27;: [&#x27;gini&#x27;, &#x27;entropy&#x27;, &#x27;log_loss&#x27;],\n",
       "                         &#x27;max_depth&#x27;: [2, 3, 4, 5, 6, 7, 8, 9],\n",
       "                         &#x27;n_estimators&#x27;: [40, 50, 100, 200]},\n",
       "             scoring=&#x27;recall&#x27;)</pre></div></div></div><div class=\"sk-parallel\"><div class=\"sk-parallel-item\"><div class=\"sk-item\"><div class=\"sk-label-container\"><div class=\"sk-label sk-toggleable\"><input class=\"sk-toggleable__control sk-hidden--visually\" id=\"sk-estimator-id-11\" type=\"checkbox\" ><label for=\"sk-estimator-id-11\" class=\"sk-toggleable__label sk-toggleable__label-arrow\">estimator: RandomForestClassifier</label><div class=\"sk-toggleable__content\"><pre>RandomForestClassifier(random_state=0)</pre></div></div></div><div class=\"sk-serial\"><div class=\"sk-item\"><div class=\"sk-estimator sk-toggleable\"><input class=\"sk-toggleable__control sk-hidden--visually\" id=\"sk-estimator-id-12\" type=\"checkbox\" ><label for=\"sk-estimator-id-12\" class=\"sk-toggleable__label sk-toggleable__label-arrow\">RandomForestClassifier</label><div class=\"sk-toggleable__content\"><pre>RandomForestClassifier(random_state=0)</pre></div></div></div></div></div></div></div></div></div></div>"
      ],
      "text/plain": [
       "GridSearchCV(estimator=RandomForestClassifier(random_state=0),\n",
       "             param_grid={'criterion': ['gini', 'entropy', 'log_loss'],\n",
       "                         'max_depth': [2, 3, 4, 5, 6, 7, 8, 9],\n",
       "                         'n_estimators': [40, 50, 100, 200]},\n",
       "             scoring='recall')"
      ]
     },
     "execution_count": 41,
     "metadata": {},
     "output_type": "execute_result"
    }
   ],
   "source": [
    "# Fazendo o fit dos nossos dados\n",
    "\n",
    "clf_RF_GS.fit(X_resRUS, y_resRUS)"
   ]
  },
  {
   "cell_type": "code",
   "execution_count": 42,
   "id": "b66b792e",
   "metadata": {},
   "outputs": [
    {
     "data": {
      "text/plain": [
       "{'criterion': 'gini', 'max_depth': 9, 'n_estimators': 40}"
      ]
     },
     "execution_count": 42,
     "metadata": {},
     "output_type": "execute_result"
    }
   ],
   "source": [
    "# Visualizando os melhores parâmetros definidos pelo GridSearchCV \n",
    "\n",
    "clf_RF_GS.best_params_"
   ]
  },
  {
   "cell_type": "code",
   "execution_count": 43,
   "id": "62fd490b",
   "metadata": {},
   "outputs": [],
   "source": [
    "# Usando esse modelo para fazer as previsões\n",
    "\n",
    "y_pred_RF_GS = clf_RF_GS.predict(X_test)"
   ]
  },
  {
   "cell_type": "code",
   "execution_count": 44,
   "id": "d74a23d6",
   "metadata": {},
   "outputs": [
    {
     "data": {
      "text/plain": [
       "array([[91599,  2226],\n",
       "       [   19,   143]], dtype=int64)"
      ]
     },
     "execution_count": 44,
     "metadata": {},
     "output_type": "execute_result"
    }
   ],
   "source": [
    "# Analisando a matriz de confusão\n",
    "\n",
    "confusion_matrix(y_test,y_pred_RF_GS)"
   ]
  },
  {
   "cell_type": "code",
   "execution_count": 47,
   "id": "4dffd792",
   "metadata": {},
   "outputs": [
    {
     "data": {
      "text/plain": [
       "0.8827160493827161"
      ]
     },
     "execution_count": 47,
     "metadata": {},
     "output_type": "execute_result"
    }
   ],
   "source": [
    "# Calculando o Recall\n",
    "\n",
    "from sklearn.metrics import recall_score\n",
    "\n",
    "recall_score(y_test, y_pred_RF_GS)"
   ]
  }
 ],
 "metadata": {
  "kernelspec": {
   "display_name": "Python 3 (ipykernel)",
   "language": "python",
   "name": "python3"
  },
  "language_info": {
   "codemirror_mode": {
    "name": "ipython",
    "version": 3
   },
   "file_extension": ".py",
   "mimetype": "text/x-python",
   "name": "python",
   "nbconvert_exporter": "python",
   "pygments_lexer": "ipython3",
   "version": "3.9.7"
  }
 },
 "nbformat": 4,
 "nbformat_minor": 5
}
