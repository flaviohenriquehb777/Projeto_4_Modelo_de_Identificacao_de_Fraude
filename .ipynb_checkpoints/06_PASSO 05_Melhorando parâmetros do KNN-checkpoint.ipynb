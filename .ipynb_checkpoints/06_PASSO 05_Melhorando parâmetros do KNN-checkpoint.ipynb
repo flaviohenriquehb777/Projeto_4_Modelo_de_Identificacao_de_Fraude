{
 "cells": [
  {
   "cell_type": "markdown",
   "id": "9a4514e9",
   "metadata": {},
   "source": [
    "# Modelo de Identificação de Fraudes"
   ]
  },
  {
   "cell_type": "code",
   "execution_count": 1,
   "id": "93307265",
   "metadata": {},
   "outputs": [],
   "source": [
    "# Importando o pandas\n",
    "\n",
    "import pandas as pd"
   ]
  },
  {
   "cell_type": "code",
   "execution_count": 2,
   "id": "0dc5231c",
   "metadata": {},
   "outputs": [],
   "source": [
    "# Importando a base\n",
    "\n",
    "transacoes = pd.read_csv('creditcard.csv')"
   ]
  },
  {
   "cell_type": "markdown",
   "id": "a57c3906",
   "metadata": {},
   "source": [
    "<a id='modelo'></a>\n",
    "### Criando um modelo de aprendizado de máquinas para identificar fraude\n",
    "- Vamos criar um modelo para identificar fraude sem fazer nenhum tratamento nessa base"
   ]
  },
  {
   "cell_type": "markdown",
   "id": "77f17fad",
   "metadata": {},
   "source": [
    "**Podemos ajustar as colunas Time e Amount para que elas fiquem entre 0 e 1**"
   ]
  },
  {
   "cell_type": "code",
   "execution_count": 3,
   "id": "40c2c05a",
   "metadata": {},
   "outputs": [],
   "source": [
    "# Primeiro para a coluna Time\n",
    "\n",
    "transacoes.Time = transacoes.Time / transacoes.Time.max()"
   ]
  },
  {
   "cell_type": "code",
   "execution_count": 4,
   "id": "a82d8341",
   "metadata": {},
   "outputs": [],
   "source": [
    "# E então para a coluna Amount\n",
    "\n",
    "transacoes.Amount = transacoes.Amount / transacoes.Amount.max()"
   ]
  },
  {
   "cell_type": "code",
   "execution_count": 5,
   "id": "3c335c5c",
   "metadata": {},
   "outputs": [],
   "source": [
    "# Separando X e y\n",
    "\n",
    "X = transacoes.drop('Class',axis=1)\n",
    "y = transacoes.Class"
   ]
  },
  {
   "cell_type": "markdown",
   "id": "89f17718",
   "metadata": {},
   "source": [
    "**Separando em treino e teste**"
   ]
  },
  {
   "cell_type": "code",
   "execution_count": 6,
   "id": "e34690b4",
   "metadata": {},
   "outputs": [],
   "source": [
    "# Separando em treino e teste\n",
    "\n",
    "from sklearn.model_selection import train_test_split\n",
    "X_train, X_test, y_train, y_test = train_test_split(X, y, test_size=0.33, random_state=0,stratify=y)"
   ]
  },
  {
   "cell_type": "markdown",
   "id": "e34992d2",
   "metadata": {},
   "source": [
    "### Realizando o random undersampling"
   ]
  },
  {
   "cell_type": "code",
   "execution_count": 7,
   "id": "a4fea9f4",
   "metadata": {},
   "outputs": [],
   "source": [
    "# Importando o RandomUnderSampler do imblearn\n",
    "\n",
    "from imblearn.under_sampling import RandomUnderSampler "
   ]
  },
  {
   "cell_type": "code",
   "execution_count": 8,
   "id": "b6edf236",
   "metadata": {},
   "outputs": [],
   "source": [
    "# Definindo o RandomUnderSampler\n",
    "\n",
    "rus = RandomUnderSampler(random_state=42)"
   ]
  },
  {
   "cell_type": "code",
   "execution_count": 9,
   "id": "43fff476",
   "metadata": {},
   "outputs": [],
   "source": [
    "# Definindo a nova amostra\n",
    "\n",
    "X_resRUS, y_resRUS = rus.fit_resample(X_train, y_train)"
   ]
  },
  {
   "cell_type": "markdown",
   "id": "02349b25",
   "metadata": {},
   "source": [
    "**<font color='blue'>Com KNN**"
   ]
  },
  {
   "cell_type": "code",
   "execution_count": 10,
   "id": "6333ba66",
   "metadata": {},
   "outputs": [],
   "source": [
    "# Fazendo o fit\n",
    "\n",
    "from sklearn.neighbors import KNeighborsClassifier\n",
    "\n",
    "clf_KNN = KNeighborsClassifier(n_neighbors=3).fit(X_resRUS, y_resRUS)"
   ]
  },
  {
   "cell_type": "code",
   "execution_count": 11,
   "id": "559ac19a",
   "metadata": {},
   "outputs": [],
   "source": [
    "# Fazendo a previsão\n",
    "\n",
    "y_pred_KNN = clf_KNN.predict(X_test)\n",
    "\n",
    "y_pred_proba_KNN = clf_KNN.predict_proba(X_test)[:,1]"
   ]
  },
  {
   "cell_type": "code",
   "execution_count": 12,
   "id": "72e23e96",
   "metadata": {},
   "outputs": [
    {
     "data": {
      "text/plain": [
       "array([[91227,  2598],\n",
       "       [   18,   144]], dtype=int64)"
      ]
     },
     "execution_count": 12,
     "metadata": {},
     "output_type": "execute_result"
    }
   ],
   "source": [
    "# Visualizando a matriz de confusão\n",
    "\n",
    "from sklearn.metrics import confusion_matrix\n",
    "\n",
    "confusion_matrix(y_test,y_pred_KNN)  "
   ]
  },
  {
   "cell_type": "code",
   "execution_count": 13,
   "id": "72b3d99a",
   "metadata": {},
   "outputs": [
    {
     "name": "stdout",
     "output_type": "stream",
     "text": [
      "0.5534876929920411\n"
     ]
    }
   ],
   "source": [
    "# Traçando a área sobre a curva precisão x recall\n",
    "\n",
    "from sklearn import metrics\n",
    "\n",
    "precision_KNN,recall_KNN,thresholds_KNN = metrics.precision_recall_curve(y_test,y_pred_proba_KNN)\n",
    "\n",
    "print(metrics.auc(recall_KNN, precision_KNN))"
   ]
  },
  {
   "cell_type": "markdown",
   "id": "8c29595b",
   "metadata": {},
   "source": [
    "**E novamente utilizar o GridSearchCV**"
   ]
  },
  {
   "cell_type": "code",
   "execution_count": 14,
   "id": "bc6b501e",
   "metadata": {},
   "outputs": [],
   "source": [
    "# Importando o GridSearchCV\n",
    "\n",
    "from sklearn.model_selection import GridSearchCV"
   ]
  },
  {
   "cell_type": "code",
   "execution_count": 36,
   "id": "2ad291c4",
   "metadata": {},
   "outputs": [],
   "source": [
    "# Utilizando os parâmetros do KNN\n",
    "\n",
    "parametros = {'n_neighbors': [3,5,7,9,11], 'algorithm': ['auto', 'ball_tree', 'kd_tree', 'brute'], 'weights': ['uniform', 'distance']}"
   ]
  },
  {
   "cell_type": "code",
   "execution_count": 37,
   "id": "9eed4aeb",
   "metadata": {},
   "outputs": [],
   "source": [
    "# Selecionando o KNN\n",
    "\n",
    "KNN_GS = KNeighborsClassifier()"
   ]
  },
  {
   "cell_type": "code",
   "execution_count": 38,
   "id": "acd69275",
   "metadata": {},
   "outputs": [],
   "source": [
    "# Criando um novo classificador usando os parâmetros que escolhemos anteriormente\n",
    "\n",
    "clf_KNN_GS = GridSearchCV(KNN_GS, parametros, scoring='recall')"
   ]
  },
  {
   "cell_type": "code",
   "execution_count": 39,
   "id": "dfb958c5",
   "metadata": {},
   "outputs": [],
   "source": [
    "# Fazendo o fit dos nossos dados\n",
    "\n",
    "clf_KNN_GS = clf_KNN_GS.fit(X_resRUS, y_resRUS)"
   ]
  },
  {
   "cell_type": "code",
   "execution_count": 40,
   "id": "c8e65f5d",
   "metadata": {},
   "outputs": [
    {
     "data": {
      "text/plain": [
       "{'algorithm': 'auto', 'n_neighbors': 3, 'weights': 'uniform'}"
      ]
     },
     "execution_count": 40,
     "metadata": {},
     "output_type": "execute_result"
    }
   ],
   "source": [
    "# Visualizando os melhores parâmetros definidos pelo GridSearchCV \n",
    "\n",
    "clf_KNN_GS.best_params_"
   ]
  },
  {
   "cell_type": "code",
   "execution_count": 41,
   "id": "17e22c61",
   "metadata": {},
   "outputs": [],
   "source": [
    "# Usando esse modelo para fazer as previsões\n",
    "\n",
    "y_pred_KNN_GS = clf_KNN_GS.predict(X_test)"
   ]
  },
  {
   "cell_type": "code",
   "execution_count": 42,
   "id": "9ef44ff6",
   "metadata": {},
   "outputs": [
    {
     "data": {
      "text/plain": [
       "array([[91227,  2598],\n",
       "       [   18,   144]], dtype=int64)"
      ]
     },
     "execution_count": 42,
     "metadata": {},
     "output_type": "execute_result"
    }
   ],
   "source": [
    "# Analisando a matriz de confusão\n",
    "\n",
    "confusion_matrix(y_test,y_pred_KNN_GS)  "
   ]
  }
 ],
 "metadata": {
  "kernelspec": {
   "display_name": "Python 3 (ipykernel)",
   "language": "python",
   "name": "python3"
  },
  "language_info": {
   "codemirror_mode": {
    "name": "ipython",
    "version": 3
   },
   "file_extension": ".py",
   "mimetype": "text/x-python",
   "name": "python",
   "nbconvert_exporter": "python",
   "pygments_lexer": "ipython3",
   "version": "3.9.7"
  }
 },
 "nbformat": 4,
 "nbformat_minor": 5
}
