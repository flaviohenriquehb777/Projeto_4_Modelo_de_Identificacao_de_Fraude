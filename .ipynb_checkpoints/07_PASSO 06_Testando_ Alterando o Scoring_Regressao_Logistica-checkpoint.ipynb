{
 "cells": [
  {
   "cell_type": "markdown",
   "id": "fcbcb834",
   "metadata": {},
   "source": [
    "# Modelo de Identificação de Fraudes"
   ]
  },
  {
   "cell_type": "code",
   "execution_count": 1,
   "id": "a82f7e20",
   "metadata": {},
   "outputs": [],
   "source": [
    "# Importando o pandas\n",
    "\n",
    "import pandas as pd"
   ]
  },
  {
   "cell_type": "code",
   "execution_count": 2,
   "id": "5ddf401c",
   "metadata": {},
   "outputs": [],
   "source": [
    "# Importando a base\n",
    "\n",
    "transacoes = pd.read_csv('creditcard.csv')"
   ]
  },
  {
   "cell_type": "markdown",
   "id": "f55da0d3",
   "metadata": {},
   "source": [
    "<a id='modelo'></a>\n",
    "### Criando um modelo de aprendizado de máquinas para identificar fraude\n",
    "- Vamos criar um modelo para identificar fraude sem fazer nenhum tratamento nessa base"
   ]
  },
  {
   "cell_type": "markdown",
   "id": "8cf6d2b0",
   "metadata": {},
   "source": [
    "**Podemos ajustar as colunas Time e Amount para que elas fiquem entre 0 e 1**"
   ]
  },
  {
   "cell_type": "code",
   "execution_count": 3,
   "id": "635d6061",
   "metadata": {},
   "outputs": [],
   "source": [
    "# Primeiro para a coluna Time\n",
    "\n",
    "transacoes.Time = transacoes.Time / transacoes.Time.max()"
   ]
  },
  {
   "cell_type": "code",
   "execution_count": 4,
   "id": "63c62f5c",
   "metadata": {},
   "outputs": [],
   "source": [
    "# E então para a coluna Amount\n",
    "\n",
    "transacoes.Amount = transacoes.Amount / transacoes.Amount.max()"
   ]
  },
  {
   "cell_type": "code",
   "execution_count": 5,
   "id": "34c3eb7a",
   "metadata": {},
   "outputs": [],
   "source": [
    "# Separando X e y\n",
    "\n",
    "X = transacoes.drop('Class',axis=1)\n",
    "y = transacoes.Class"
   ]
  },
  {
   "cell_type": "markdown",
   "id": "2abb04b8",
   "metadata": {},
   "source": [
    "**Separando em treino e teste**"
   ]
  },
  {
   "cell_type": "code",
   "execution_count": 6,
   "id": "3bd99723",
   "metadata": {},
   "outputs": [],
   "source": [
    "# Separando em treino e teste\n",
    "\n",
    "from sklearn.model_selection import train_test_split\n",
    "\n",
    "X_train, X_test, y_train, y_test = train_test_split(X, y, test_size=0.33, random_state=0,stratify=y)"
   ]
  },
  {
   "cell_type": "code",
   "execution_count": 7,
   "id": "e515c64e",
   "metadata": {},
   "outputs": [
    {
     "data": {
      "text/plain": [
       "0    190490\n",
       "1       330\n",
       "Name: Class, dtype: int64"
      ]
     },
     "execution_count": 7,
     "metadata": {},
     "output_type": "execute_result"
    }
   ],
   "source": [
    "# Contando os valores\n",
    "\n",
    "y_train.value_counts()"
   ]
  },
  {
   "cell_type": "markdown",
   "id": "2acfe60b",
   "metadata": {},
   "source": [
    "### Realizando o random undersampling"
   ]
  },
  {
   "cell_type": "code",
   "execution_count": 8,
   "id": "522e2557",
   "metadata": {},
   "outputs": [],
   "source": [
    "# Importando o RandomUnderSampler do imblearn\n",
    "\n",
    "from imblearn.under_sampling import RandomUnderSampler "
   ]
  },
  {
   "cell_type": "code",
   "execution_count": 9,
   "id": "cfbc4967",
   "metadata": {},
   "outputs": [],
   "source": [
    "# Definindo o RandomUnderSampler\n",
    "\n",
    "rus = RandomUnderSampler(random_state=42)"
   ]
  },
  {
   "cell_type": "code",
   "execution_count": 10,
   "id": "b0206629",
   "metadata": {},
   "outputs": [],
   "source": [
    "# Definindo a nova amostra\n",
    "\n",
    "X_resRUS, y_resRUS = rus.fit_resample(X_train, y_train)"
   ]
  },
  {
   "cell_type": "code",
   "execution_count": 11,
   "id": "7614eb19",
   "metadata": {},
   "outputs": [
    {
     "data": {
      "text/plain": [
       "0    330\n",
       "1    330\n",
       "Name: Class, dtype: int64"
      ]
     },
     "execution_count": 11,
     "metadata": {},
     "output_type": "execute_result"
    }
   ],
   "source": [
    "# Contando os valores após equilibrar o dataset\n",
    "\n",
    "y_resRUS.value_counts()"
   ]
  },
  {
   "cell_type": "markdown",
   "id": "1ff4eea2",
   "metadata": {},
   "source": [
    "### Nos passos anteriores, tivemos como os melhores hiperparâmetros:\n",
    "- **<font color='blue'>Regressão Logística:**\n",
    "    - {'C': 0.001, 'solver': 'liblinear'}\\\n",
    "- **<font color='blue'>SVC:**\n",
    "    - {'C': 100, 'gamma': 'auto', 'kernel': 'rbf'}\n",
    "- **<font color='blue'>Random Forest:**\n",
    "    - {'criterion': 'gini', 'max_depth': 9, 'n_estimators': 30}"
   ]
  },
  {
   "cell_type": "code",
   "execution_count": 12,
   "id": "0a7cb546",
   "metadata": {},
   "outputs": [],
   "source": [
    "# Importando a matriz de confusão\n",
    "\n",
    "from sklearn.metrics import confusion_matrix"
   ]
  },
  {
   "cell_type": "code",
   "execution_count": 13,
   "id": "99bd38e7",
   "metadata": {},
   "outputs": [
    {
     "data": {
      "text/plain": [
       "array([[85217,  8608],\n",
       "       [   10,   152]], dtype=int64)"
      ]
     },
     "execution_count": 13,
     "metadata": {},
     "output_type": "execute_result"
    }
   ],
   "source": [
    "# Regressão Logística\n",
    "\n",
    "from sklearn.linear_model import LogisticRegression\n",
    "\n",
    "clf_RL = LogisticRegression(random_state=0,\n",
    "                             C=0.001,\n",
    "                             solver='liblinear').fit(X_resRUS, y_resRUS)\n",
    "\n",
    "y_pred_RL = clf_RL.predict(X_test)\n",
    "\n",
    "confusion_matrix(y_test,y_pred_RL)"
   ]
  },
  {
   "cell_type": "code",
   "execution_count": 14,
   "id": "b3e711c5",
   "metadata": {},
   "outputs": [
    {
     "data": {
      "text/plain": [
       "array([[85791,  8034],\n",
       "       [   12,   150]], dtype=int64)"
      ]
     },
     "execution_count": 14,
     "metadata": {},
     "output_type": "execute_result"
    }
   ],
   "source": [
    "# SVC\n",
    "\n",
    "from sklearn.svm import SVC\n",
    "\n",
    "clf_SVC = SVC(random_state=0,\n",
    "              probability=True,\n",
    "             C=100,gamma='auto',\n",
    "             kernel='rbf').fit(X_resRUS, y_resRUS)\n",
    "\n",
    "y_pred_SVC = clf_SVC.predict(X_test)\n",
    "\n",
    "confusion_matrix(y_test,y_pred_SVC)"
   ]
  },
  {
   "cell_type": "code",
   "execution_count": 15,
   "id": "d0b626e4",
   "metadata": {},
   "outputs": [
    {
     "data": {
      "text/plain": [
       "array([[91476,  2349],\n",
       "       [   19,   143]], dtype=int64)"
      ]
     },
     "execution_count": 15,
     "metadata": {},
     "output_type": "execute_result"
    }
   ],
   "source": [
    "# Random Forest\n",
    "\n",
    "from sklearn.ensemble import RandomForestClassifier\n",
    "\n",
    "clf_RF = RandomForestClassifier(max_depth=9, \n",
    "                                random_state=0,\n",
    "                                criterion='gini',\n",
    "                                n_estimators=30).fit(X_resRUS, y_resRUS)\n",
    "\n",
    "y_pred_RF = clf_RF.predict(X_test)\n",
    "\n",
    "confusion_matrix(y_test,y_pred_RF)"
   ]
  },
  {
   "cell_type": "markdown",
   "id": "2a63d7a6",
   "metadata": {},
   "source": [
    "### Podemos começar adicionando novos parâmetros"
   ]
  },
  {
   "cell_type": "markdown",
   "id": "dbf495c5",
   "metadata": {},
   "source": [
    "**E novamente utilizar o GridSearchCV**"
   ]
  },
  {
   "cell_type": "code",
   "execution_count": 16,
   "id": "715e86bf",
   "metadata": {},
   "outputs": [],
   "source": [
    "# Importando o GridSearchCV\n",
    "\n",
    "from sklearn.model_selection import GridSearchCV"
   ]
  },
  {
   "cell_type": "code",
   "execution_count": 17,
   "id": "b2e14a5c",
   "metadata": {},
   "outputs": [],
   "source": [
    "# Adicionando novos parâmetros\n",
    "\n",
    "parametros = {\n",
    "    'C': [0.001,0.01,0.1,1,10,100,1000],\n",
    "    'solver': ['newton-cg','lbfgs','liblinear','sag','saga'],\n",
    "    'penalty': ['l1', 'l2', 'elasticnet', None],\n",
    "    'max_iter': [100,500,1000]\n",
    "}"
   ]
  },
  {
   "cell_type": "code",
   "execution_count": 18,
   "id": "4aadd324",
   "metadata": {},
   "outputs": [],
   "source": [
    "# Selecionando a Regressão Logística\n",
    "\n",
    "LogReg = LogisticRegression(random_state=42)"
   ]
  },
  {
   "cell_type": "markdown",
   "id": "0b9cf3ef",
   "metadata": {},
   "source": [
    "**Retirando os warnings**"
   ]
  },
  {
   "cell_type": "code",
   "execution_count": 19,
   "id": "206d0aad",
   "metadata": {},
   "outputs": [],
   "source": [
    "import warnings\n",
    "\n",
    "warnings.filterwarnings('ignore')"
   ]
  },
  {
   "cell_type": "code",
   "execution_count": 20,
   "id": "34d4a999",
   "metadata": {},
   "outputs": [],
   "source": [
    "# Criando o classificador\n",
    "\n",
    "clf_RL2 = GridSearchCV(LogReg, parametros,\n",
    "                       scoring='recall'\n",
    "                      ).fit(X_resRUS,y_resRUS)"
   ]
  },
  {
   "cell_type": "code",
   "execution_count": 21,
   "id": "96bc4df3",
   "metadata": {},
   "outputs": [
    {
     "data": {
      "text/plain": [
       "array([[78529, 15296],\n",
       "       [   11,   151]], dtype=int64)"
      ]
     },
     "execution_count": 21,
     "metadata": {},
     "output_type": "execute_result"
    }
   ],
   "source": [
    "# E avaliando o modelo\n",
    "\n",
    "y_pred_RL2 = clf_RL2.predict(X_test)\n",
    "\n",
    "confusion_matrix(y_test,y_pred_RL2)"
   ]
  },
  {
   "cell_type": "code",
   "execution_count": 22,
   "id": "f795938e",
   "metadata": {},
   "outputs": [],
   "source": [
    "# Verificando o recall apenas com C e solver\n",
    "\n",
    "from sklearn.metrics import recall_score\n",
    "\n",
    "# recall_score(y_test, y_pred_RL2)\n",
    "\n",
    "# 0.9382716049382716"
   ]
  },
  {
   "cell_type": "code",
   "execution_count": 23,
   "id": "41289df6",
   "metadata": {},
   "outputs": [
    {
     "data": {
      "text/plain": [
       "0.9320987654320988"
      ]
     },
     "execution_count": 23,
     "metadata": {},
     "output_type": "execute_result"
    }
   ],
   "source": [
    "# Verificando o recall com os novos parâmetros\n",
    "\n",
    "from sklearn.metrics import recall_score\n",
    "\n",
    "recall_score(y_test, y_pred_RL2)"
   ]
  },
  {
   "cell_type": "markdown",
   "id": "0d9baf73",
   "metadata": {},
   "source": [
    "### Podemos adicionar novas métricas no scoring (como, por exemplo, adicionar a precisão além do recall)"
   ]
  },
  {
   "cell_type": "code",
   "execution_count": 32,
   "id": "e33f4824",
   "metadata": {},
   "outputs": [],
   "source": [
    "# Criando o classificador\n",
    "\n",
    "clf_RL3 = GridSearchCV(LogReg, parametros,\n",
    "                       scoring=['recall', 'precision'],\n",
    "                       refit='recall'\n",
    "                      ).fit(X_resRUS,y_resRUS)"
   ]
  },
  {
   "cell_type": "code",
   "execution_count": 33,
   "id": "fda64376",
   "metadata": {},
   "outputs": [
    {
     "data": {
      "text/plain": [
       "array([[78529, 15296],\n",
       "       [   11,   151]], dtype=int64)"
      ]
     },
     "execution_count": 33,
     "metadata": {},
     "output_type": "execute_result"
    }
   ],
   "source": [
    "# Avaliando o novo modelo\n",
    "\n",
    "y_pred_RL3 = clf_RL3.predict(X_test)\n",
    "\n",
    "confusion_matrix(y_test,y_pred_RL3)"
   ]
  }
 ],
 "metadata": {
  "kernelspec": {
   "display_name": "Python 3 (ipykernel)",
   "language": "python",
   "name": "python3"
  },
  "language_info": {
   "codemirror_mode": {
    "name": "ipython",
    "version": 3
   },
   "file_extension": ".py",
   "mimetype": "text/x-python",
   "name": "python",
   "nbconvert_exporter": "python",
   "pygments_lexer": "ipython3",
   "version": "3.9.7"
  }
 },
 "nbformat": 4,
 "nbformat_minor": 5
}
