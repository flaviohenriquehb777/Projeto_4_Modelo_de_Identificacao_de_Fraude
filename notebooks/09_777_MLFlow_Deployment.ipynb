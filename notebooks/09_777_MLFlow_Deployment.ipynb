{
 "cells": [
  {
   "cell_type": "markdown",
   "id": "55d68565-e899-4a93-8b17-905acd07d0b3",
   "metadata": {},
   "source": [
    "# Modelo de Identificação de Fraudes\n",
    "\n",
    "- Informações da base:\n",
    "    - 'Time' (tempo): contém os segundos decorridos entre cada transação e a primeira transação no conjunto de dados. \n",
    "    - 'Amount' (valor): é o valor da transação \n",
    "    - 'Class' (classe): é a variável de resposta e assume valor 1 em caso de fraude e 0 caso contrário.\n",
    "    - \"Infelizmente, devido a questões de confidencialidade, não podemos fornecer os recursos originais e mais informações básicas sobre os dados. Características V1, V2, … V28 são os principais componentes obtidos com PCA\""
   ]
  },
  {
   "cell_type": "code",
   "execution_count": 1,
   "id": "b7dd8a5f-161c-44e4-9e3c-532296355009",
   "metadata": {},
   "outputs": [
    {
     "name": "stdout",
     "output_type": "stream",
     "text": [
      "C:\\Users\\flavi\\Documents\\GitHub\\Projeto_4_Modelo_de_Identificacao_de_Fraude\n",
      "C:\\Users\\flavi\\Documents\\GitHub\\Projeto_4_Modelo_de_Identificacao_de_Fraude\n"
     ]
    }
   ],
   "source": [
    "# Configuração do ambiente\n",
    "\n",
    "# Garante que o notebook está na raiz do projeto\n",
    "%cd .. \n",
    "\n",
    "# Verifica o diretório atual (Linux/Mac)\n",
    "# !pwd  \n",
    "\n",
    "# Verifica o diretório atual (Windows)\n",
    "!cd "
   ]
  },
  {
   "cell_type": "code",
   "execution_count": 2,
   "id": "7eeebffe-5b22-4c5d-9c40-ae40544c0fef",
   "metadata": {},
   "outputs": [],
   "source": [
    "# Importações necessárias \n",
    "\n",
    "import sys\n",
    "import os\n",
    "import pandas as pd\n",
    "import numpy as np\n",
    "import xgboost as xgb\n",
    "import joblib\n",
    "import seaborn as sns\n",
    "import warnings\n",
    "\n",
    "from sklearn.preprocessing import PowerTransformer, MinMaxScaler\n",
    "from sklearn.feature_selection import SelectKBest, f_classif\n",
    "\n",
    "from sklearn.model_selection import (\n",
    "    StratifiedKFold, \n",
    "    KFold,\n",
    "    cross_validate,\n",
    ")\n",
    "\n",
    "from sklearn.metrics import (\n",
    "    confusion_matrix, \n",
    "    accuracy_score, \n",
    "    precision_score, \n",
    "    recall_score,\n",
    "    make_scorer,\n",
    "    precision_recall_curve,\n",
    ")\n",
    "\n",
    "from src.config.paths import DADOS_CREDICARD, DADOS_CREDICARD_TRATADO\n",
    "from src.config.paths import MODELS_DIR\n",
    "\n",
    "warnings.filterwarnings('ignore')\n",
    "sns.set_theme(palette=\"bright\")\n",
    "\n",
    "import mlflow\n",
    "import mlflow.xgboost"
   ]
  },
  {
   "cell_type": "code",
   "execution_count": 3,
   "id": "7ccfed2f-7a86-4c78-af58-ad0f73c89251",
   "metadata": {},
   "outputs": [
    {
     "name": "stdout",
     "output_type": "stream",
     "text": [
      "Média das métricas após 10 dobras:\n",
      "Acurácia: 0.9996\n",
      "Precisão: 0.9227\n",
      "Recall: 0.8102\n"
     ]
    },
    {
     "data": {
      "application/vnd.jupyter.widget-view+json": {
       "model_id": "467a96120f32478f802111ccc5f481a9",
       "version_major": 2,
       "version_minor": 0
      },
      "text/plain": [
       "Downloading artifacts:   0%|          | 0/7 [00:00<?, ?it/s]"
      ]
     },
     "metadata": {},
     "output_type": "display_data"
    }
   ],
   "source": [
    "# Execução do modelo\n",
    "\n",
    "mlflow.set_experiment(\"Fraud Detection XGBoost Experiment\")\n",
    "with mlflow.start_run():\n",
    "\n",
    "   # Importando a base\n",
    "    transacoes = pd.read_parquet(DADOS_CREDICARD_TRATADO)\n",
    "\n",
    "    # Embaralha as transações para garantir aleatoriedade\n",
    "    transacoes = transacoes.sample(frac=1, random_state=42)  \n",
    "\n",
    "    # Criando os escaladores\n",
    "    power_transformer = PowerTransformer(method='yeo-johnson')  \n",
    "    minmax_scaler = MinMaxScaler()\n",
    "\n",
    "    # Aplicando a normalização nas colunas específicas\n",
    "    transacoes['Amount'] = power_transformer.fit_transform(transacoes[['Amount']])\n",
    "    transacoes['Time'] = minmax_scaler.fit_transform(transacoes[['Time']])\n",
    "\n",
    "    # Separando X e y\n",
    "    X = transacoes.drop(columns='Class')\n",
    "    y = transacoes['Class']\n",
    "\n",
    "    # KFold com 10 dobras\n",
    "    kf = KFold(n_splits=10, shuffle=True, random_state=42)\n",
    "\n",
    "    # Variáveis para armazenar as métricas de cada dobra\n",
    "    accuracy_scores = []\n",
    "    precision_scores = []\n",
    "    recall_scores = []\n",
    "\n",
    "    # Adição do MLflow: Log de Parâmetros \n",
    "    # Log dos hiperparâmetros do modelo. \n",
    "    params = {\n",
    "        \"max_depth\": 9,\n",
    "        \"n_estimators\": 200,\n",
    "        \"learning_rate\": 0.3,\n",
    "        \"random_state\": 0,\n",
    "        \"scale_pos_weight\": (y.value_counts()[0] / y.value_counts()[1]),\n",
    "    }\n",
    "    mlflow.log_params(params)\n",
    "\n",
    "    # Para iterar pelas dobras\n",
    "    for train_index, test_index in kf.split(X):\n",
    "        X_train, X_test = X.iloc[train_index], X.iloc[test_index]\n",
    "        y_train, y_test = y.iloc[train_index], y.iloc[test_index]\n",
    "        \n",
    "        # Treinando o modelo XGBoost\n",
    "        model = xgb.XGBClassifier(**params)\n",
    "        model.fit(X_train, y_train)\n",
    "        \n",
    "        # Fazendo previsões\n",
    "        y_pred = model.predict(X_test)\n",
    "        \n",
    "        # Calculando as métricas\n",
    "        accuracy_scores.append(accuracy_score(y_test, y_pred))\n",
    "        precision_scores.append(precision_score(y_test, y_pred, zero_division=0))\n",
    "        recall_scores.append(recall_score(y_test, y_pred, zero_division=0))\n",
    "\n",
    "    # Calculando a média das métricas\n",
    "    mean_accuracy = np.mean(accuracy_scores)\n",
    "    mean_precision = np.mean(precision_scores)\n",
    "    mean_recall = np.mean(recall_scores)\n",
    "\n",
    "    # Exibindo os resultados médios\n",
    "    print(\"Média das métricas após 10 dobras:\")\n",
    "    print(f\"Acurácia: {mean_accuracy:.4f}\")\n",
    "    print(f\"Precisão: {mean_precision:.4f}\")\n",
    "    print(f\"Recall: {mean_recall:.4f}\")\n",
    "\n",
    "    # Adição do MLflow: Log de Métricas e Registro do Modelo \n",
    "    # Log das métricas finais\n",
    "    mlflow.log_metric(\"mean_accuracy\", mean_accuracy)\n",
    "    mlflow.log_metric(\"mean_precision\", mean_precision)\n",
    "    mlflow.log_metric(\"mean_recall\", mean_recall)\n",
    "\n",
    "    # Captura um exemplo de entrada para a assinatura do modelo.\n",
    "    # Usamos o primeiro registro de X para garantir que a estrutura seja a mesma.\n",
    "    input_example = X_test.iloc[[0]]\n",
    "\n",
    "    # Registra o modelo com o nome correto e o exemplo de entrada.\n",
    "    mlflow.xgboost.log_model(\n",
    "        xgb_model=model, \n",
    "        name=\"best_model\", \n",
    "        input_example=input_example\n",
    "    )"
   ]
  }
 ],
 "metadata": {
  "kernelspec": {
   "display_name": "Python (base)",
   "language": "python",
   "name": "base"
  },
  "language_info": {
   "codemirror_mode": {
    "name": "ipython",
    "version": 3
   },
   "file_extension": ".py",
   "mimetype": "text/x-python",
   "name": "python",
   "nbconvert_exporter": "python",
   "pygments_lexer": "ipython3",
   "version": "3.12.3"
  }
 },
 "nbformat": 4,
 "nbformat_minor": 5
}
