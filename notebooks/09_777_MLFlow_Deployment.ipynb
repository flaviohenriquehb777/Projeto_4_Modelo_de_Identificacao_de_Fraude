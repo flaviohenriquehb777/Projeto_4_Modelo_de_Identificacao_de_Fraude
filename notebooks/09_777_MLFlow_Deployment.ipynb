{
 "cells": [
  {
   "cell_type": "markdown",
   "id": "55d68565-e899-4a93-8b17-905acd07d0b3",
   "metadata": {},
   "source": [
    "# Modelo de Identificação de Fraudes\n",
    "\n",
    "- Informações da base:\n",
    "    - 'Time' (tempo): contém os segundos decorridos entre cada transação e a primeira transação no conjunto de dados. \n",
    "    - 'Amount' (valor): é o valor da transação \n",
    "    - 'Class' (classe): é a variável de resposta e assume valor 1 em caso de fraude e 0 caso contrário.\n",
    "    - \"Infelizmente, devido a questões de confidencialidade, não podemos fornecer os recursos originais e mais informações básicas sobre os dados. Características V1, V2, … V28 são os principais componentes obtidos com PCA\""
   ]
  },
  {
   "cell_type": "code",
   "execution_count": 1,
   "id": "b7dd8a5f-161c-44e4-9e3c-532296355009",
   "metadata": {},
   "outputs": [
    {
     "name": "stdout",
     "output_type": "stream",
     "text": [
      "C:\\Users\\flavi\\Documents\\GitHub\\Projeto_4_Modelo_de_Identificacao_de_Fraude\n",
      "C:\\Users\\flavi\\Documents\\GitHub\\Projeto_4_Modelo_de_Identificacao_de_Fraude\n"
     ]
    }
   ],
   "source": [
    "# Configuração do ambiente\n",
    "\n",
    "# Garante que o notebook está na raiz do projeto\n",
    "%cd .. \n",
    "\n",
    "# Verifica o diretório atual (Linux/Mac)\n",
    "# !pwd  \n",
    "\n",
    "# Verifica o diretório atual (Windows)\n",
    "!cd "
   ]
  },
  {
   "cell_type": "code",
   "execution_count": 2,
   "id": "7eeebffe-5b22-4c5d-9c40-ae40544c0fef",
   "metadata": {},
   "outputs": [],
   "source": [
    "# Importações necessárias\n",
    "\n",
    "import sys\n",
    "import os\n",
    "import pandas as pd\n",
    "import numpy as np\n",
    "import xgboost as xgb\n",
    "import joblib\n",
    "import seaborn as sns\n",
    "import warnings\n",
    "import mlflow\n",
    "import mlflow.xgboost\n",
    "import mlflow.sklearn\n",
    "import dagshub\n",
    "\n",
    "from sklearn.preprocessing import PowerTransformer, MinMaxScaler\n",
    "from sklearn.model_selection import KFold\n",
    "from sklearn.metrics import accuracy_score, precision_score, recall_score\n",
    "from sklearn.linear_model import LogisticRegression\n",
    "from src.config.paths import DADOS_CREDICARD_TRATADO\n",
    "from src.config.paths import MODELS_DIR\n",
    "\n",
    "warnings.filterwarnings('ignore')\n",
    "sns.set_theme(palette=\"bright\")"
   ]
  },
  {
   "cell_type": "code",
   "execution_count": 3,
   "id": "653b466b-4aed-4ccb-a582-c75ca36239f2",
   "metadata": {},
   "outputs": [
    {
     "data": {
      "text/html": [
       "<pre style=\"white-space:pre;overflow-x:auto;line-height:normal;font-family:Menlo,'DejaVu Sans Mono',consolas,'Courier New',monospace\">Accessing as flaviohenriquehb777\n",
       "</pre>\n"
      ],
      "text/plain": [
       "Accessing as flaviohenriquehb777\n"
      ]
     },
     "metadata": {},
     "output_type": "display_data"
    },
    {
     "data": {
      "text/html": [
       "<pre style=\"white-space:pre;overflow-x:auto;line-height:normal;font-family:Menlo,'DejaVu Sans Mono',consolas,'Courier New',monospace\">Initialized MLflow to track repo <span style=\"color: #008000; text-decoration-color: #008000\">\"flaviohenriquehb777/Projeto_4_Modelo_de_Identificacao_de_Fraude\"</span>\n",
       "</pre>\n"
      ],
      "text/plain": [
       "Initialized MLflow to track repo \u001b[32m\"flaviohenriquehb777/Projeto_4_Modelo_de_Identificacao_de_Fraude\"\u001b[0m\n"
      ]
     },
     "metadata": {},
     "output_type": "display_data"
    },
    {
     "data": {
      "text/html": [
       "<pre style=\"white-space:pre;overflow-x:auto;line-height:normal;font-family:Menlo,'DejaVu Sans Mono',consolas,'Courier New',monospace\">Repository flaviohenriquehb777/Projeto_4_Modelo_de_Identificacao_de_Fraude initialized!\n",
       "</pre>\n"
      ],
      "text/plain": [
       "Repository flaviohenriquehb777/Projeto_4_Modelo_de_Identificacao_de_Fraude initialized!\n"
      ]
     },
     "metadata": {},
     "output_type": "display_data"
    }
   ],
   "source": [
    "# Conectando o MLflow ao DagsHub\n",
    "dagshub.init(repo_owner='flaviohenriquehb777', repo_name='Projeto_4_Modelo_de_Identificacao_de_Fraude', mlflow=True)"
   ]
  },
  {
   "cell_type": "markdown",
   "id": "4eed8040-9ae4-46f3-a846-db0415854804",
   "metadata": {},
   "source": [
    "### Funções de Preparação e Treinamento"
   ]
  },
  {
   "cell_type": "code",
   "execution_count": 4,
   "id": "44598c39-f0a7-401c-8f8f-8e384dcb6dff",
   "metadata": {},
   "outputs": [],
   "source": [
    "# Função para carregar e pré-processar os dados\n",
    "def load_and_preprocess_data(data_path):\n",
    "    \"\"\"Carrega e aplica o pré-processamento nos dados.\"\"\"\n",
    "    transacoes = pd.read_parquet(data_path)\n",
    "    transacoes = transacoes.sample(frac=1, random_state=42)\n",
    "    \n",
    "    # Criando e aplicando os escaladores\n",
    "    power_transformer = PowerTransformer(method='yeo-johnson')\n",
    "    minmax_scaler = MinMaxScaler()\n",
    "    transacoes['Amount'] = power_transformer.fit_transform(transacoes[['Amount']])\n",
    "    transacoes['Time'] = minmax_scaler.fit_transform(transacoes[['Time']])\n",
    "    \n",
    "    X = transacoes.drop(columns='Class')\n",
    "    y = transacoes['Class']\n",
    "    \n",
    "    return X, y\n",
    "\n",
    "# Função para treinar o modelo e registrar no MLflow\n",
    "def train_and_log_model(model_name, model_class, params, X, y):\n",
    "    \"\"\"Treina um modelo, calcula as métricas e registra tudo no MLflow.\"\"\"\n",
    "    \n",
    "    with mlflow.start_run(run_name=f\"Treinamento do Modelo - {model_name}\"):\n",
    "        mlflow.log_params(params)\n",
    "        \n",
    "        kf = KFold(n_splits=10, shuffle=True, random_state=42)\n",
    "        accuracy_scores = []\n",
    "        precision_scores = []\n",
    "        recall_scores = []\n",
    "\n",
    "        # Loop de validação cruzada\n",
    "        for train_index, test_index in kf.split(X):\n",
    "            X_train, X_test = X.iloc[train_index], X.iloc[test_index]\n",
    "            y_train, y_test = y.iloc[train_index], y.iloc[test_index]\n",
    "            \n",
    "            model = model_class(**params)\n",
    "            model.fit(X_train, y_train)\n",
    "            \n",
    "            y_pred = model.predict(X_test)\n",
    "            \n",
    "            accuracy_scores.append(accuracy_score(y_test, y_pred))\n",
    "            precision_scores.append(precision_score(y_test, y_pred, zero_division=0))\n",
    "            recall_scores.append(recall_score(y_test, y_pred, zero_division=0))\n",
    "\n",
    "        # Cálculo das métricas médias\n",
    "        mean_accuracy = np.mean(accuracy_scores)\n",
    "        mean_precision = np.mean(precision_scores)\n",
    "        mean_recall = np.mean(recall_scores)\n",
    "        \n",
    "        # Log das métricas no MLflow\n",
    "        mlflow.log_metric(\"mean_accuracy\", mean_accuracy)\n",
    "        mlflow.log_metric(\"mean_precision\", mean_precision)\n",
    "        mlflow.log_metric(\"mean_recall\", mean_recall)\n",
    "        \n",
    "        print(f\"Resultados Médios para {model_name}:\")\n",
    "        print(f\"Acurácia: {mean_accuracy:.4f}\")\n",
    "        print(f\"Precisão: {mean_precision:.4f}\")\n",
    "        print(f\"Recall: {mean_recall:.4f}\")\n",
    "\n",
    "        # Registra o modelo usando o sabor correto da biblioteca\n",
    "        if isinstance(model, xgb.XGBClassifier):\n",
    "            mlflow.xgboost.log_model(\n",
    "                xgb_model=model,\n",
    "                artifact_path=\"model\",\n",
    "                input_example=X_test.iloc[[0]]\n",
    "            )\n",
    "        elif isinstance(model, LogisticRegression):\n",
    "            mlflow.sklearn.log_model(\n",
    "                sk_model=model,\n",
    "                artifact_path=\"model\",\n",
    "                input_example=X_test.iloc[[0]]\n",
    "            )\n",
    "        else:\n",
    "            print(\"Aviso: Modelo de tipo desconhecido, não registrado no MLflow.\")"
   ]
  },
  {
   "cell_type": "markdown",
   "id": "d332a9a5-3a73-4c0e-b3b3-9497beff590b",
   "metadata": {},
   "source": [
    "### Execução dos Experimentos"
   ]
  },
  {
   "cell_type": "code",
   "execution_count": 5,
   "id": "f3ded54a-27dd-4877-8f18-6469a406267b",
   "metadata": {},
   "outputs": [],
   "source": [
    "# Carrega e pré-processa os dados uma única vez\n",
    "X, y = load_and_preprocess_data(DADOS_CREDICARD_TRATADO)"
   ]
  },
  {
   "cell_type": "code",
   "execution_count": 6,
   "id": "376019a7-0545-45f5-9b19-28b2f329e3d0",
   "metadata": {},
   "outputs": [
    {
     "name": "stdout",
     "output_type": "stream",
     "text": [
      "Resultados Médios para XGBoost:\n",
      "Acurácia: 0.9996\n",
      "Precisão: 0.9227\n",
      "Recall: 0.8102\n"
     ]
    }
   ],
   "source": [
    "# 1. Experimento com o Modelo XGBoost (Configuração atual)\n",
    "params_xgboost = {\n",
    "    \"max_depth\": 9,\n",
    "    \"n_estimators\": 200,\n",
    "    \"learning_rate\": 0.3,\n",
    "    \"random_state\": 0,\n",
    "    \"scale_pos_weight\": (y.value_counts()[0] / y.value_counts()[1]),\n",
    "}\n",
    "train_and_log_model(\"XGBoost\", xgb.XGBClassifier, params_xgboost, X, y)"
   ]
  },
  {
   "cell_type": "code",
   "execution_count": 7,
   "id": "b14e355c-25c6-4ca4-95d9-4f6d66b5dc57",
   "metadata": {},
   "outputs": [
    {
     "name": "stdout",
     "output_type": "stream",
     "text": [
      "Resultados Médios para XGBoost Otimizado:\n",
      "Acurácia: 0.9996\n",
      "Precisão: 0.9228\n",
      "Recall: 0.8141\n"
     ]
    }
   ],
   "source": [
    "# 2. Experimento com o Modelo XGBoost (Hiperparâmetros diferentes)\n",
    "params_xgboost_2 = {\n",
    "     \"max_depth\": 7,\n",
    "     \"n_estimators\": 300,\n",
    "     \"learning_rate\": 0.1,\n",
    "     \"random_state\": 0,\n",
    "     \"scale_pos_weight\": (y.value_counts()[0] / y.value_counts()[1]),\n",
    "}\n",
    "train_and_log_model(\"XGBoost Otimizado\", xgb.XGBClassifier, params_xgboost_2, X, y)"
   ]
  },
  {
   "cell_type": "code",
   "execution_count": 8,
   "id": "ad8eef4d-69e7-44c3-a153-1d430f65d416",
   "metadata": {},
   "outputs": [
    {
     "name": "stdout",
     "output_type": "stream",
     "text": [
      "Resultados Médios para LogisticRegression:\n",
      "Acurácia: 0.9992\n",
      "Precisão: 0.8775\n",
      "Recall: 0.6067\n"
     ]
    }
   ],
   "source": [
    "# 3. Experimento com outro modelo (Regressão Logística)\n",
    "params_logreg = {\n",
    "    \"C\": 0.1,\n",
    "    \"solver\": 'liblinear',\n",
    "    \"random_state\": 42\n",
    "}\n",
    "train_and_log_model(\"LogisticRegression\", LogisticRegression, params_logreg, X, y)"
   ]
  }
 ],
 "metadata": {
  "kernelspec": {
   "display_name": "Python (base)",
   "language": "python",
   "name": "base"
  },
  "language_info": {
   "codemirror_mode": {
    "name": "ipython",
    "version": 3
   },
   "file_extension": ".py",
   "mimetype": "text/x-python",
   "name": "python",
   "nbconvert_exporter": "python",
   "pygments_lexer": "ipython3",
   "version": "3.12.3"
  }
 },
 "nbformat": 4,
 "nbformat_minor": 5
}
