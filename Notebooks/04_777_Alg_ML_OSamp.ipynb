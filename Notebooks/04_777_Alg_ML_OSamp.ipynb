{
 "cells": [
  {
   "cell_type": "markdown",
   "id": "af5367fa-4086-450f-a173-8096d2551a92",
   "metadata": {},
   "source": [
    "# Modelo de Identificação de Fraudes\n",
    "\n",
    "- Informações da base:\n",
    "    - 'Time' (tempo): contém os segundos decorridos entre cada transação e a primeira transação no conjunto de dados. \n",
    "    - 'Amount' (valor): é o valor da transação \n",
    "    - 'Class' (classe): é a variável de resposta e assume valor 1 em caso de fraude e 0 caso contrário.\n",
    "    - \"Infelizmente, devido a questões de confidencialidade, não podemos fornecer os recursos originais e mais informações básicas sobre os dados. Características V1, V2, … V28 são os principais componentes obtidos com PCA\""
   ]
  },
  {
   "cell_type": "code",
   "execution_count": 4,
   "id": "54dc0ede-d8df-4681-a6b3-0b3728e9cdd9",
   "metadata": {},
   "outputs": [],
   "source": [
    "import pandas as pd\n",
    "import matplotlib.pyplot as plt\n",
    "import seaborn as sns\n",
    "import numpy as np\n",
    "import datetime as dt\n",
    "import xgboost as xgb\n",
    "\n",
    "from scipy.stats import kstest, normaltest, anderson\n",
    "\n",
    "from sklearn.preprocessing import PowerTransformer, MinMaxScaler\n",
    "\n",
    "from sklearn.linear_model import LogisticRegression\n",
    "from sklearn.ensemble import RandomForestClassifier\n",
    "from sklearn import tree, metrics\n",
    "from sklearn.neighbors import KNeighborsClassifier\n",
    "from sklearn.svm import SVC\n",
    "\n",
    "from sklearn.feature_selection import SelectKBest, f_classif\n",
    "\n",
    "from sklearn.model_selection import train_test_split, GridSearchCV\n",
    "from imblearn.under_sampling import RandomUnderSampler, ClusterCentroids, NearMiss \n",
    "from imblearn.over_sampling import RandomOverSampler, SMOTE, ADASYN\n",
    "from imblearn.combine import SMOTEENN\n",
    "\n",
    "from sklearn.metrics import (\n",
    "    confusion_matrix, \n",
    "    accuracy_score, \n",
    "    precision_score, \n",
    "    recall_score,\n",
    "    precision_recall_curve,\n",
    ")\n",
    "\n",
    "import warnings\n",
    "from src.config import DADOS_MASTERCARD, DADOS_MASTERCARD_TRATADO\n",
    "from src.auxiliares_ml import downcast_dataframe, testar_modelos_com_undersampling\n",
    "\n",
    "warnings.filterwarnings('ignore')\n",
    "sns.set_theme(palette=\"bright\")"
   ]
  },
  {
   "cell_type": "code",
   "execution_count": 7,
   "id": "6255cd52-f8c5-41bc-825f-506571bbb1db",
   "metadata": {},
   "outputs": [],
   "source": [
    "# Importando a base\n",
    "\n",
    "transacoes = pd.read_parquet(DADOS_MASTERCARD_TRATADO)"
   ]
  },
  {
   "cell_type": "code",
   "execution_count": 10,
   "id": "8f978964-ea2c-4bd6-a91f-5e46a08017a2",
   "metadata": {},
   "outputs": [],
   "source": [
    "# Separando X e y\n",
    "\n",
    "X = transacoes.drop(columns='Class')\n",
    "y = transacoes['Class']"
   ]
  },
  {
   "cell_type": "code",
   "execution_count": 13,
   "id": "199dc78e-31d8-413d-b4cf-de0c64552000",
   "metadata": {},
   "outputs": [],
   "source": [
    "# Separando em treino e teste\n",
    "\n",
    "X_train, X_test, y_train, y_test = train_test_split(X, y, test_size=0.33, random_state=0,stratify=y)"
   ]
  },
  {
   "cell_type": "markdown",
   "id": "c045eb0b-6bd8-4faf-b0c0-2b82e53c9c6f",
   "metadata": {},
   "source": [
    "### OBSERVAÇÃO:\n",
    "**Podemos observar que, já que queremos detectar fraudes, ou seja o que é 1, precisamos melhorar a precisão e o recall.**"
   ]
  },
  {
   "cell_type": "markdown",
   "id": "1b67631d-a5ea-48ce-8ac4-acd53a100e88",
   "metadata": {},
   "source": [
    "**PRÉ-PROCESSAMENTO**: Fazendo o balanceamento com OverSampler"
   ]
  },
  {
   "cell_type": "markdown",
   "id": "1d9acd45-d8ba-48a3-a8da-a746f784b82d",
   "metadata": {},
   "source": [
    "### Utilizando o RandomOverSampler"
   ]
  },
  {
   "cell_type": "code",
   "execution_count": 22,
   "id": "9b4dda07-3b1e-4d8a-93c8-8c3b9dc75fbf",
   "metadata": {},
   "outputs": [],
   "source": [
    "# Definindo o RandomOverSampler\n",
    "\n",
    "ros = RandomOverSampler(random_state=42, shrinkage=0.5)\n",
    "\n",
    "# Refazendo nossa amostra\n",
    "\n",
    "X_res_ROS, y_res_ROS = ros.fit_resample(X_train, y_train)"
   ]
  },
  {
   "cell_type": "markdown",
   "id": "4421db29-d183-4ff1-92e9-5739434d3cf5",
   "metadata": {},
   "source": [
    "### XGBoost "
   ]
  },
  {
   "cell_type": "code",
   "execution_count": 30,
   "id": "e9c21474-6ad8-4204-b3e3-7db6ad594106",
   "metadata": {},
   "outputs": [
    {
     "data": {
      "text/plain": [
       "array([[93687,   138],\n",
       "       [   28,   134]], dtype=int64)"
      ]
     },
     "execution_count": 30,
     "metadata": {},
     "output_type": "execute_result"
    }
   ],
   "source": [
    "# Criando o modelo XGBoost\n",
    "\n",
    "modelo_xgb_ROS = xgb.XGBClassifier(\n",
    "    max_depth=9,\n",
    "    n_estimators=200,\n",
    "    learning_rate=0.3,\n",
    "    random_state=0,\n",
    "    scale_pos_weight=(y.value_counts()[0] / y.value_counts()[1])  # Lida com desbalanceamento\n",
    ")\n",
    "\n",
    "# Treinando e avaliando o modelo\n",
    "\n",
    "modelo_xgb_ROS.fit(X_res_ROS, y_res_ROS)\n",
    "y_pred_xgb_ROS = modelo_xgb_ROS.predict(X_test)\n",
    "\n",
    "# Calculando as métricas\n",
    "\n",
    "acc_xgb = accuracy_score(y_test, y_pred_xgb_ROS)\n",
    "prec_xgb = precision_score(y_test, y_pred_xgb_ROS)\n",
    "rec_xgb = recall_score(y_test, y_pred_xgb_ROS)\n",
    "\n",
    "# Vusualizando a matriz confusão\n",
    "\n",
    "confusion_matrix(y_test, y_pred_xgb_ROS)"
   ]
  },
  {
   "cell_type": "code",
   "execution_count": 32,
   "id": "9076bd7a-3b01-4269-9ced-7d1302c6fc42",
   "metadata": {},
   "outputs": [
    {
     "name": "stdout",
     "output_type": "stream",
     "text": [
      "Acurácia: 0.998233798291253\n",
      "Precisão: 0.49264705882352944\n",
      "Recall: 0.8271604938271605\n"
     ]
    }
   ],
   "source": [
    "# Utilizando as métricas de avaliação\n",
    "\n",
    "print('Acurácia:', accuracy_score(y_test, y_pred_xgb_ROS))\n",
    "print('Precisão:', precision_score(y_test, y_pred_xgb_ROS))\n",
    "print('Recall:', recall_score(y_test, y_pred_xgb_ROS, pos_label=1))"
   ]
  },
  {
   "cell_type": "markdown",
   "id": "aec9a02c-d568-4bc7-8a14-2330c3cbd3c2",
   "metadata": {},
   "source": [
    "### Random Forest"
   ]
  },
  {
   "cell_type": "code",
   "execution_count": 38,
   "id": "0661563b-b16b-43d6-89eb-9c21d4b9bfb0",
   "metadata": {},
   "outputs": [
    {
     "data": {
      "text/plain": [
       "array([[93392,   433],\n",
       "       [   24,   138]], dtype=int64)"
      ]
     },
     "execution_count": 38,
     "metadata": {},
     "output_type": "execute_result"
    }
   ],
   "source": [
    "# Utilizando o Random Forest\n",
    "\n",
    "clf_RF_ROS = RandomForestClassifier(\n",
    "    max_depth=7,  \n",
    "    random_state=0,\n",
    "    criterion='gini',\n",
    "    n_estimators=100,  \n",
    "    class_weight='balanced_subsample' \n",
    ").fit(X_res_ROS, y_res_ROS)\n",
    "\n",
    "y_pred_RF_ROS = clf_RF_ROS.predict(X_test)\n",
    "\n",
    "# Vusualizando a matriz confusão\n",
    "\n",
    "confusion_matrix(y_test, y_pred_RF_ROS)"
   ]
  },
  {
   "cell_type": "code",
   "execution_count": 50,
   "id": "89acec0f-1910-4a38-be61-202644492f43",
   "metadata": {},
   "outputs": [
    {
     "name": "stdout",
     "output_type": "stream",
     "text": [
      "Acurácia: 0.9951376254162809\n",
      "Precisão: 0.24168126094570927\n",
      "Recall: 0.8518518518518519\n"
     ]
    }
   ],
   "source": [
    "# Utilizando as métricas de avaliação\n",
    "\n",
    "print('Acurácia:', accuracy_score(y_test, y_pred_RF_ROS))\n",
    "print('Precisão:', precision_score(y_test, y_pred_RF_ROS))\n",
    "print('Recall:', recall_score(y_test, y_pred_RF_ROS))"
   ]
  },
  {
   "cell_type": "markdown",
   "id": "1f492a99-43e7-4c26-b810-55501944770d",
   "metadata": {},
   "source": [
    "### Regressão Logística"
   ]
  },
  {
   "cell_type": "code",
   "execution_count": 52,
   "id": "c72ab58c-00b6-490d-b099-1ca41d1abd0f",
   "metadata": {},
   "outputs": [
    {
     "data": {
      "text/plain": [
       "array([[91395,  2430],\n",
       "       [   16,   146]], dtype=int64)"
      ]
     },
     "execution_count": 52,
     "metadata": {},
     "output_type": "execute_result"
    }
   ],
   "source": [
    "# Utilizando a Regressão Logística\n",
    "\n",
    "clfLog_ROS = LogisticRegression(random_state=0).fit(X_res_ROS, y_res_ROS)\n",
    "\n",
    "# Calculando as métricas\n",
    "\n",
    "y_predLog_ROS = clfLog_ROS.predict(X_test)\n",
    "y_pred_probaLog_ROS = clfLog_ROS.predict_proba(X_test)[:,1]\n",
    "\n",
    "# Vusualizando a matriz confusão\n",
    "\n",
    "confusion_matrix(y_test, y_predLog_ROS)"
   ]
  },
  {
   "cell_type": "code",
   "execution_count": 54,
   "id": "c4e86a40-91a9-49da-ac99-74784f099d82",
   "metadata": {},
   "outputs": [
    {
     "name": "stdout",
     "output_type": "stream",
     "text": [
      "Acurácia: 0.9739751242193069\n",
      "Precisão: 0.056677018633540376\n",
      "Recall: 0.9012345679012346\n"
     ]
    }
   ],
   "source": [
    "# Utilizando as métricas de avaliação\n",
    "\n",
    "print('Acurácia:', accuracy_score(y_test, y_predLog_ROS))\n",
    "print('Precisão:', precision_score(y_test, y_predLog_ROS))\n",
    "print('Recall:', recall_score(y_test, y_predLog_ROS))"
   ]
  },
  {
   "cell_type": "markdown",
   "id": "36e334e0-1031-4f88-8d11-84f444ae552b",
   "metadata": {},
   "source": [
    "### Utilizando o SMOTE"
   ]
  },
  {
   "cell_type": "code",
   "execution_count": 56,
   "id": "2b564cd5-802b-4a18-a9ce-4f3db3cc2c19",
   "metadata": {},
   "outputs": [],
   "source": [
    "# Definindo o SMOTE\n",
    "\n",
    "sm = SMOTE(random_state=42)\n",
    "\n",
    "# Refazendo nossa amostra\n",
    "\n",
    "X_res_SM, y_res_SM = sm.fit_resample(X_train, y_train)"
   ]
  },
  {
   "cell_type": "markdown",
   "id": "03af3159-879d-4fcd-a42e-37ec955e8f05",
   "metadata": {},
   "source": [
    "### XGBoost "
   ]
  },
  {
   "cell_type": "code",
   "execution_count": 60,
   "id": "e7fe8a40-0487-4698-aeb7-05e962277684",
   "metadata": {},
   "outputs": [
    {
     "data": {
      "text/plain": [
       "array([[93777,    48],\n",
       "       [   29,   133]], dtype=int64)"
      ]
     },
     "execution_count": 60,
     "metadata": {},
     "output_type": "execute_result"
    }
   ],
   "source": [
    "# Criando o modelo XGBoost\n",
    "\n",
    "modelo_xgb_SM = xgb.XGBClassifier(\n",
    "    max_depth=9,\n",
    "    n_estimators=200,\n",
    "    learning_rate=0.3,\n",
    "    random_state=0,\n",
    "    scale_pos_weight=(y.value_counts()[0] / y.value_counts()[1])  # Lida com desbalanceamento\n",
    ")\n",
    "\n",
    "# Treinando e avaliando o modelo\n",
    "\n",
    "modelo_xgb_SM.fit(X_res_SM, y_res_SM)\n",
    "y_pred_xgb_SM = modelo_xgb_SM.predict(X_test)\n",
    "\n",
    "# Calculando as métricas\n",
    "\n",
    "acc_xgb = accuracy_score(y_test, y_pred_xgb_SM)\n",
    "prec_xgb = precision_score(y_test, y_pred_xgb_SM)\n",
    "rec_xgb = recall_score(y_test, y_pred_xgb_SM)\n",
    "\n",
    "# Vusualizando a matriz confusão\n",
    "\n",
    "confusion_matrix(y_test, y_pred_xgb_SM)"
   ]
  },
  {
   "cell_type": "code",
   "execution_count": 62,
   "id": "c4676a2b-1042-4e52-ae6e-21fda3cbc16e",
   "metadata": {},
   "outputs": [
    {
     "name": "stdout",
     "output_type": "stream",
     "text": [
      "Acurácia: 0.9991807377616053\n",
      "Precisão: 0.7348066298342542\n",
      "Recall: 0.8209876543209876\n"
     ]
    }
   ],
   "source": [
    "# Utilizando as métricas de avaliação\n",
    "\n",
    "print('Acurácia:', accuracy_score(y_test, y_pred_xgb_SM))\n",
    "print('Precisão:', precision_score(y_test, y_pred_xgb_SM))\n",
    "print('Recall:', recall_score(y_test, y_pred_xgb_SM, pos_label=1))"
   ]
  },
  {
   "cell_type": "markdown",
   "id": "71864e01-0005-4fc3-a011-dd789e36c905",
   "metadata": {},
   "source": [
    "### Random Forest"
   ]
  },
  {
   "cell_type": "code",
   "execution_count": 66,
   "id": "61575504-657f-416b-ad51-3d5bb7d011f3",
   "metadata": {},
   "outputs": [
    {
     "data": {
      "text/plain": [
       "array([[93601,   224],\n",
       "       [   25,   137]], dtype=int64)"
      ]
     },
     "execution_count": 66,
     "metadata": {},
     "output_type": "execute_result"
    }
   ],
   "source": [
    "# Utilizando o Random Forest\n",
    "\n",
    "clf_RF_SM = RandomForestClassifier(\n",
    "    max_depth=7,  \n",
    "    random_state=0,\n",
    "    criterion='gini',\n",
    "    n_estimators=100,  \n",
    "    class_weight='balanced_subsample' \n",
    ").fit(X_res_SM, y_res_SM)\n",
    "\n",
    "y_pred_RF_SM = clf_RF_SM.predict(X_test)\n",
    "\n",
    "# Vusualizando a matriz confusão\n",
    "\n",
    "confusion_matrix(y_test, y_pred_RF_SM)"
   ]
  },
  {
   "cell_type": "code",
   "execution_count": 70,
   "id": "d7ced453-4498-42c4-9035-570cd847b1b0",
   "metadata": {},
   "outputs": [
    {
     "name": "stdout",
     "output_type": "stream",
     "text": [
      "Acurácia: 0.9973506974368795\n",
      "Precisão: 0.37950138504155123\n",
      "Recall: 0.845679012345679\n"
     ]
    }
   ],
   "source": [
    "# Utilizando as métricas de avaliação\n",
    "\n",
    "print('Acurácia:', accuracy_score(y_test, y_pred_RF_SM))\n",
    "print('Precisão:', precision_score(y_test, y_pred_RF_SM))\n",
    "print('Recall:', recall_score(y_test, y_pred_RF_SM))"
   ]
  },
  {
   "cell_type": "markdown",
   "id": "6918fc49-728f-4ca2-8645-7f1f2821a9fd",
   "metadata": {},
   "source": [
    "### Regressão Logística"
   ]
  },
  {
   "cell_type": "code",
   "execution_count": 72,
   "id": "2e317d62-b1a8-48de-8b75-91cdfcce9aae",
   "metadata": {},
   "outputs": [
    {
     "data": {
      "text/plain": [
       "array([[91994,  1831],\n",
       "       [   18,   144]], dtype=int64)"
      ]
     },
     "execution_count": 72,
     "metadata": {},
     "output_type": "execute_result"
    }
   ],
   "source": [
    "# Utilizando a Regressão Logística\n",
    "\n",
    "clfLog_SM = LogisticRegression(random_state=0).fit(X_res_SM, y_res_SM)\n",
    "\n",
    "# Calculando as métricas\n",
    "\n",
    "y_predLog_SM = clfLog_SM.predict(X_test)\n",
    "y_pred_probaLog_SM = clfLog_SM.predict_proba(X_test)[:,1]\n",
    "\n",
    "# Vusualizando a matriz confusão\n",
    "\n",
    "confusion_matrix(y_test, y_predLog_SM)"
   ]
  },
  {
   "cell_type": "code",
   "execution_count": 74,
   "id": "3c874a85-37af-4043-8b60-c1a2a8f7d12a",
   "metadata": {},
   "outputs": [
    {
     "name": "stdout",
     "output_type": "stream",
     "text": [
      "Acurácia: 0.9803270665091981\n",
      "Precisão: 0.0729113924050633\n",
      "Recall: 0.8888888888888888\n"
     ]
    }
   ],
   "source": [
    "# Utilizando as métricas de avaliação\n",
    "\n",
    "print('Acurácia:', accuracy_score(y_test, y_predLog_SM))\n",
    "print('Precisão:', precision_score(y_test, y_predLog_SM))\n",
    "print('Recall:', recall_score(y_test, y_predLog_SM))"
   ]
  },
  {
   "cell_type": "markdown",
   "id": "80d89090-fe3f-4125-938d-e6780462233f",
   "metadata": {},
   "source": [
    "### OBSERVAÇÕES: \n",
    "\n",
    "- Em geral os resultados foram melhores do que com UnderSampler.\n",
    "- Ainda há um grande desequilíbrio entre precisão e recall.\n",
    "\n",
    "**Os melhores resultados foram**:\n",
    "\n",
    "- **1º Lugar: XGBoost (Utilizando o SMOTE)**\n",
    "\n",
    "    Acurácia: 0.9991807377616053 / Precisão: 0.7348066298342542 / Recall: 0.8209876543209876\n",
    "\n",
    "- **2º Lugar: XGBoost (Utilizando o RandomOverSampler)**\n",
    "\n",
    "    Acurácia: 0.998233798291253 / Precisão: 0.49264705882352944 / Recall: 0.8271604938271605\n",
    "\n",
    "- **3º Lugar: Random Forest (Utilizando o RandomOverSampler)** <br>\n",
    "\n",
    "    Acurácia: 0.9951376254162809 / Precisão: 0.24168126094570927 / Recall: 0.8518518518518519190576"
   ]
  }
 ],
 "metadata": {
  "kernelspec": {
   "display_name": "Python 3 (ipykernel)",
   "language": "python",
   "name": "python3"
  },
  "language_info": {
   "codemirror_mode": {
    "name": "ipython",
    "version": 3
   },
   "file_extension": ".py",
   "mimetype": "text/x-python",
   "name": "python",
   "nbconvert_exporter": "python",
   "pygments_lexer": "ipython3",
   "version": "3.12.4"
  }
 },
 "nbformat": 4,
 "nbformat_minor": 5
}
