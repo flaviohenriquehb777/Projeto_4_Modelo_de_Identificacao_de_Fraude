{
 "cells": [
  {
   "cell_type": "markdown",
   "id": "e102664b",
   "metadata": {},
   "source": [
    "# Modelo de Identificação de Fraudes"
   ]
  },
  {
   "cell_type": "code",
   "execution_count": 2,
   "id": "94e8063e",
   "metadata": {},
   "outputs": [],
   "source": [
    "import pandas as pd\n",
    "import matplotlib.pyplot as plt\n",
    "import seaborn as sns\n",
    "import numpy as np\n",
    "import datetime as dt\n",
    "\n",
    "from scipy.stats import kstest, normaltest, anderson\n",
    "\n",
    "from sklearn.preprocessing import PowerTransformer, MinMaxScaler\n",
    "\n",
    "from sklearn.linear_model import LogisticRegression\n",
    "from sklearn.ensemble import RandomForestClassifier\n",
    "from sklearn import tree, metrics\n",
    "from sklearn.neighbors import KNeighborsClassifier\n",
    "from sklearn.svm import SVC\n",
    "\n",
    "from sklearn.model_selection import train_test_split, GridSearchCV\n",
    "from imblearn.under_sampling import RandomUnderSampler, ClusterCentroids, NearMiss \n",
    "from imblearn.over_sampling import RandomOverSampler, SMOTE, ADASYN\n",
    "from imblearn.combine import SMOTEENN\n",
    "\n",
    "from sklearn.metrics import (\n",
    "    confusion_matrix, \n",
    "    accuracy_score, \n",
    "    precision_score, \n",
    "    recall_score,\n",
    "    precision_recall_curve,\n",
    ")\n",
    "\n",
    "import warnings\n",
    "from src.config import DADOS_MASTERCARD_TRATADO\n",
    "\n",
    "warnings.filterwarnings('ignore')\n",
    "sns.set_theme(palette=\"bright\")"
   ]
  },
  {
   "cell_type": "code",
   "execution_count": 3,
   "id": "debbcc70-17fd-4802-8903-a2c5604bfcac",
   "metadata": {},
   "outputs": [],
   "source": [
    "# Importando a base\n",
    "\n",
    "transacoes = pd.read_parquet(DADOS_MASTERCARD_TRATADO)"
   ]
  },
  {
   "cell_type": "code",
   "execution_count": 4,
   "id": "4fbf7639-9067-45e6-a5b0-9d418dd83043",
   "metadata": {},
   "outputs": [],
   "source": [
    "# Verificar se todos os valores podem ser convertidos para inteiro (sem valores decimais)\n",
    "\n",
    "if (transacoes['Time'] == transacoes['Time'].astype(int)).all():\n",
    "    \n",
    "    # Se todos os valores são inteiros, realizar a conversão\n",
    "    \n",
    "    transacoes['Time'] = transacoes['Time'].astype(int)\n",
    "   \n",
    "else:\n",
    "    print(\"Nem todos os valores na coluna 'Time' podem ser convertidos para inteiro.\")"
   ]
  },
  {
   "cell_type": "markdown",
   "id": "5a0d277a-e7e5-43d9-85af-1a949200a3fb",
   "metadata": {},
   "source": [
    "### Vamos ajustar a escala de duas colunas para testar o resultado\n",
    "- As colunas Time e Amount têm valores max muito alto. Destoa do restante do dataset."
   ]
  },
  {
   "cell_type": "code",
   "execution_count": 6,
   "id": "47ba68e3-d9bd-4f64-ad70-8af8f7e3b690",
   "metadata": {},
   "outputs": [],
   "source": [
    "# Primeiro para a coluna Time\n",
    "\n",
    "transacoes.Time = transacoes.Time / transacoes.Time.max()\n",
    "\n",
    "# E então para a coluna Amount\n",
    "\n",
    "transacoes.Amount = transacoes.Amount / transacoes.Amount.max()"
   ]
  },
  {
   "cell_type": "code",
   "execution_count": 7,
   "id": "58576387",
   "metadata": {},
   "outputs": [],
   "source": [
    "# Separando X e y\n",
    "\n",
    "X = transacoes.drop('Class',axis=1)\n",
    "y = transacoes.Class"
   ]
  },
  {
   "cell_type": "markdown",
   "id": "21f9536b",
   "metadata": {},
   "source": [
    "**Separando em treino e teste**"
   ]
  },
  {
   "cell_type": "code",
   "execution_count": 9,
   "id": "a2987b97",
   "metadata": {},
   "outputs": [],
   "source": [
    "# Separando em treino e teste\n",
    "\n",
    "X_train, X_test, y_train, y_test = train_test_split(X, y, test_size=0.33, random_state=0,stratify=y)"
   ]
  },
  {
   "cell_type": "markdown",
   "id": "7b69267e",
   "metadata": {},
   "source": [
    "### Realizando o random undersampling"
   ]
  },
  {
   "cell_type": "code",
   "execution_count": 11,
   "id": "309c818d",
   "metadata": {},
   "outputs": [],
   "source": [
    "# Definindo o RandomUnderSampler\n",
    "\n",
    "rus = RandomUnderSampler(random_state=42)"
   ]
  },
  {
   "cell_type": "code",
   "execution_count": 12,
   "id": "964fcdf4",
   "metadata": {},
   "outputs": [],
   "source": [
    "# Definindo a nova amostra\n",
    "\n",
    "X_resRU, y_resRU = rus.fit_resample(X_train, y_train)"
   ]
  },
  {
   "cell_type": "markdown",
   "id": "b20a2268",
   "metadata": {},
   "source": [
    "### Nos passos anteriores, tivemos como os melhores hiperparâmetros:\n",
    "- **<font color='blue'>Regressão Logística:**\n",
    "    - {'C': 0.001, 'solver': 'liblinear'}\\\n",
    "- **<font color='blue'>SVC:**\n",
    "    - {'C': 100, 'gamma': 'auto', 'kernel': 'rbf'}\n",
    "- **<font color='blue'>Random Forest:**\n",
    "    - {'criterion': 'gini', 'max_depth': 9, 'n_estimators': 30}"
   ]
  },
  {
   "cell_type": "code",
   "execution_count": 14,
   "id": "92c1b125",
   "metadata": {},
   "outputs": [
    {
     "data": {
      "text/plain": [
       "array([[85217,  8608],\n",
       "       [   10,   152]], dtype=int64)"
      ]
     },
     "execution_count": 14,
     "metadata": {},
     "output_type": "execute_result"
    }
   ],
   "source": [
    "# Regressão Logística\n",
    "\n",
    "clf_RL = LogisticRegression(random_state=0,\n",
    "                             C=0.001,\n",
    "                             solver='liblinear').fit(X_resRU, y_resRU)\n",
    "\n",
    "y_pred_RL = clf_RL.predict(X_test)\n",
    "\n",
    "confusion_matrix(y_test,y_pred_RL)"
   ]
  },
  {
   "cell_type": "code",
   "execution_count": 15,
   "id": "0a9d7b0a",
   "metadata": {},
   "outputs": [
    {
     "data": {
      "text/plain": [
       "array([[85791,  8034],\n",
       "       [   12,   150]], dtype=int64)"
      ]
     },
     "execution_count": 15,
     "metadata": {},
     "output_type": "execute_result"
    }
   ],
   "source": [
    "# SVC\n",
    "\n",
    "clf_SVC = SVC(random_state=0,\n",
    "              probability=True,\n",
    "             C=100,gamma='auto',\n",
    "             kernel='rbf').fit(X_resRU, y_resRU)\n",
    "\n",
    "y_pred_SVC = clf_SVC.predict(X_test)\n",
    "\n",
    "confusion_matrix(y_test,y_pred_SVC)"
   ]
  },
  {
   "cell_type": "code",
   "execution_count": 16,
   "id": "c301d238",
   "metadata": {},
   "outputs": [
    {
     "data": {
      "text/plain": [
       "0.9259259259259259"
      ]
     },
     "execution_count": 16,
     "metadata": {},
     "output_type": "execute_result"
    }
   ],
   "source": [
    "recall_score(y_test,y_pred_SVC)"
   ]
  },
  {
   "cell_type": "code",
   "execution_count": 17,
   "id": "b734bf70",
   "metadata": {},
   "outputs": [
    {
     "data": {
      "text/plain": [
       "array([[91476,  2349],\n",
       "       [   19,   143]], dtype=int64)"
      ]
     },
     "execution_count": 17,
     "metadata": {},
     "output_type": "execute_result"
    }
   ],
   "source": [
    "# Random Forest\n",
    "\n",
    "clf_RF = RandomForestClassifier(max_depth=9, \n",
    "                                random_state=0,\n",
    "                                criterion='gini',\n",
    "                                n_estimators=30).fit(X_resRU, y_resRU)\n",
    "\n",
    "y_pred_RF = clf_RF.predict(X_test)\n",
    "\n",
    "confusion_matrix(y_test,y_pred_RF)"
   ]
  },
  {
   "cell_type": "code",
   "execution_count": 18,
   "id": "f68398ed",
   "metadata": {},
   "outputs": [
    {
     "data": {
      "text/plain": [
       "0.8827160493827161"
      ]
     },
     "execution_count": 18,
     "metadata": {},
     "output_type": "execute_result"
    }
   ],
   "source": [
    "# Avaliando o modelo com o recall\n",
    "\n",
    "recall_score(y_test,y_pred_RF)"
   ]
  },
  {
   "cell_type": "markdown",
   "id": "8f4a4467",
   "metadata": {},
   "source": [
    "### Podemos começar adicionando novos parâmetros"
   ]
  },
  {
   "cell_type": "markdown",
   "id": "d40c608d",
   "metadata": {},
   "source": [
    "**E novamente utilizar o GridSearchCV**"
   ]
  },
  {
   "cell_type": "code",
   "execution_count": 21,
   "id": "27ebfb4f",
   "metadata": {},
   "outputs": [],
   "source": [
    "# Adicionando novos parâmetros\n",
    "\n",
    "parametros = {\n",
    "    'C': [0.001,0.01,0.1,1,10,100,1000],\n",
    "    'solver': ['newton-cg','lbfgs','liblinear','sag','saga']\n",
    "}"
   ]
  },
  {
   "cell_type": "code",
   "execution_count": 22,
   "id": "90b00df0",
   "metadata": {},
   "outputs": [],
   "source": [
    "# Selecionando a Regressão Logística\n",
    "\n",
    "LogReg = LogisticRegression(random_state=42)"
   ]
  },
  {
   "cell_type": "code",
   "execution_count": 23,
   "id": "01a383e7",
   "metadata": {},
   "outputs": [],
   "source": [
    "# Criando o classificador\n",
    "\n",
    "clf_RL2 = GridSearchCV(LogReg, parametros,\n",
    "                       scoring='recall'\n",
    "                      ).fit(X_resRU,y_resRU)"
   ]
  },
  {
   "cell_type": "code",
   "execution_count": 24,
   "id": "b3c1bdf1",
   "metadata": {},
   "outputs": [
    {
     "data": {
      "text/plain": [
       "array([[85217,  8608],\n",
       "       [   10,   152]], dtype=int64)"
      ]
     },
     "execution_count": 24,
     "metadata": {},
     "output_type": "execute_result"
    }
   ],
   "source": [
    "# E avaliando o modelo\n",
    "\n",
    "y_pred_RL2 = clf_RL2.predict(X_test)\n",
    "\n",
    "confusion_matrix(y_test,y_pred_RL2)"
   ]
  },
  {
   "cell_type": "code",
   "execution_count": 25,
   "id": "8d44cc0b",
   "metadata": {},
   "outputs": [
    {
     "data": {
      "text/plain": [
       "0.9382716049382716"
      ]
     },
     "execution_count": 25,
     "metadata": {},
     "output_type": "execute_result"
    }
   ],
   "source": [
    "# Recall apenas com C e solver\n",
    "\n",
    "recall_score(y_test,y_pred_RL)"
   ]
  },
  {
   "cell_type": "code",
   "execution_count": 26,
   "id": "e0f6c941",
   "metadata": {},
   "outputs": [
    {
     "data": {
      "text/plain": [
       "0.9382716049382716"
      ]
     },
     "execution_count": 26,
     "metadata": {},
     "output_type": "execute_result"
    }
   ],
   "source": [
    "# Recall com todos os parâmetros\n",
    "\n",
    "recall_score(y_test,y_pred_RL2)"
   ]
  },
  {
   "cell_type": "code",
   "execution_count": 27,
   "id": "d3658175",
   "metadata": {},
   "outputs": [],
   "source": [
    "# Fazendo o resample\n",
    "\n",
    "cc = ClusterCentroids(random_state=42)\n",
    "\n",
    "X_resCC, y_resCC = cc.fit_resample(X_train, y_train)"
   ]
  },
  {
   "cell_type": "markdown",
   "id": "5c4423bd",
   "metadata": {},
   "source": [
    "##### É possível adicionar novas métricas no scoring (como, por exemplo, adicionar a precisão além do recall)"
   ]
  },
  {
   "cell_type": "code",
   "execution_count": 29,
   "id": "f064bd42",
   "metadata": {},
   "outputs": [],
   "source": [
    "# Criando o classificador\n",
    "\n",
    "clf_RL3 = GridSearchCV(LogReg, parametros,\n",
    "                       scoring=['recall','precision'],\n",
    "                       refit='recall'\n",
    "                      )"
   ]
  },
  {
   "cell_type": "code",
   "execution_count": 30,
   "id": "3c491cfa",
   "metadata": {},
   "outputs": [],
   "source": [
    "clf_RL3 = clf_RL3.fit(X_resRU,y_resRU)"
   ]
  },
  {
   "cell_type": "code",
   "execution_count": 31,
   "id": "35e97f4d",
   "metadata": {},
   "outputs": [
    {
     "data": {
      "text/plain": [
       "array([[85217,  8608],\n",
       "       [   10,   152]], dtype=int64)"
      ]
     },
     "execution_count": 31,
     "metadata": {},
     "output_type": "execute_result"
    }
   ],
   "source": [
    "# Avaliando o novo modelo\n",
    "\n",
    "y_pred_RL3 = clf_RL3.predict(X_test)\n",
    "\n",
    "confusion_matrix(y_test,y_pred_RL3)"
   ]
  }
 ],
 "metadata": {
  "kernelspec": {
   "display_name": "Python 3 (ipykernel)",
   "language": "python",
   "name": "python3"
  },
  "language_info": {
   "codemirror_mode": {
    "name": "ipython",
    "version": 3
   },
   "file_extension": ".py",
   "mimetype": "text/x-python",
   "name": "python",
   "nbconvert_exporter": "python",
   "pygments_lexer": "ipython3",
   "version": "3.12.4"
  }
 },
 "nbformat": 4,
 "nbformat_minor": 5
}
