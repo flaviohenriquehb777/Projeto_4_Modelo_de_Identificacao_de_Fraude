{
 "cells": [
  {
   "cell_type": "markdown",
   "id": "fc3a2dab-c9f2-449e-9762-ec7487930ed4",
   "metadata": {},
   "source": [
    "# Modelo de Identificação de Fraudes\n",
    "\n",
    "- Informações da base:\n",
    "    - 'Time' (tempo): contém os segundos decorridos entre cada transação e a primeira transação no conjunto de dados. \n",
    "    - 'Amount' (valor): é o valor da transação \n",
    "    - 'Class' (classe): é a variável de resposta e assume valor 1 em caso de fraude e 0 caso contrário.\n",
    "    - \"Infelizmente, devido a questões de confidencialidade, não podemos fornecer os recursos originais e mais informações básicas sobre os dados. Características V1, V2, … V28 são os principais componentes obtidos com PCA\""
   ]
  },
  {
   "cell_type": "code",
   "execution_count": 2,
   "id": "bfd69a37-9190-42f7-a199-87c9438193b9",
   "metadata": {},
   "outputs": [],
   "source": [
    "import pandas as pd\n",
    "import numpy as np\n",
    "import xgboost as xgb\n",
    "import joblib\n",
    "import seaborn as sns\n",
    "import os\n",
    "import warnings\n",
    "\n",
    "from sklearn.preprocessing import PowerTransformer, MinMaxScaler\n",
    "from sklearn.feature_selection import SelectKBest, f_classif\n",
    "\n",
    "from sklearn.model_selection import (\n",
    "    StratifiedKFold, \n",
    "    KFold,\n",
    "    cross_validate,\n",
    ")\n",
    "\n",
    "from sklearn.metrics import (\n",
    "    confusion_matrix, \n",
    "    accuracy_score, \n",
    "    precision_score, \n",
    "    recall_score,\n",
    "    make_scorer,\n",
    "    precision_recall_curve,\n",
    ")\n",
    "\n",
    "from src.config import DADOS_MASTERCARD, DADOS_MASTERCARD_TRATADO\n",
    "\n",
    "warnings.filterwarnings('ignore')\n",
    "sns.set_theme(palette=\"bright\")"
   ]
  },
  {
   "cell_type": "code",
   "execution_count": 3,
   "id": "234dc815-7776-4871-84c4-5c29340053be",
   "metadata": {},
   "outputs": [],
   "source": [
    "# Importando a base\n",
    "\n",
    "transacoes = pd.read_parquet(DADOS_MASTERCARD_TRATADO)"
   ]
  },
  {
   "cell_type": "code",
   "execution_count": 4,
   "id": "533c9a1f-4825-4527-99b7-78d6f87fada7",
   "metadata": {},
   "outputs": [],
   "source": [
    "# Embaralha as transações para garantir aleatoriedade\n",
    "\n",
    "transacoes = transacoes.sample(frac=1, random_state=42)  "
   ]
  },
  {
   "cell_type": "markdown",
   "id": "af4ab77d-8e94-4688-bb35-7c0a2c8ee519",
   "metadata": {},
   "source": [
    "### Pré-processamento: \n",
    "\n",
    "- Utilizaremos o **PowerTransformer** devido ao grande número de outliers, **exceto em 'Time'**.<br>\n",
    "- Em **'Time'** utilizaremos o **MinMaxScaler**."
   ]
  },
  {
   "cell_type": "code",
   "execution_count": 6,
   "id": "2019d26a-04d0-49d2-ac9c-270ecc32f794",
   "metadata": {},
   "outputs": [],
   "source": [
    "# Criando os escaladores\n",
    "\n",
    "power_transformer = PowerTransformer(method='yeo-johnson')  # Funciona para valores positivos e negativos\n",
    "minmax_scaler = MinMaxScaler()\n",
    "\n",
    "# Aplicando a normalização nas colunas específicas\n",
    "\n",
    "transacoes['Amount'] = power_transformer.fit_transform(transacoes[['Amount']])\n",
    "transacoes['Time'] = minmax_scaler.fit_transform(transacoes[['Time']])"
   ]
  },
  {
   "cell_type": "code",
   "execution_count": 7,
   "id": "bd23bd09-e3ed-4079-b699-f385373d01be",
   "metadata": {},
   "outputs": [],
   "source": [
    "# Separando X e y\n",
    "\n",
    "X = transacoes.drop(columns='Class')\n",
    "y = transacoes['Class']"
   ]
  },
  {
   "cell_type": "markdown",
   "id": "98c5af4c-514c-4700-935a-d240a2607c42",
   "metadata": {},
   "source": [
    "### XGBoost"
   ]
  },
  {
   "cell_type": "code",
   "execution_count": 9,
   "id": "8512a38c-7f79-4686-ab7b-ff088b28fed6",
   "metadata": {},
   "outputs": [],
   "source": [
    "# KFold com 10 dobras\n",
    "\n",
    "kf = KFold(n_splits=10, shuffle=True, random_state=42)\n",
    "\n",
    "# Variáveis para armazenar as métricas de cada dobra\n",
    "\n",
    "accuracy_scores = []\n",
    "precision_scores = []\n",
    "recall_scores = []"
   ]
  },
  {
   "cell_type": "code",
   "execution_count": 10,
   "id": "04497e3d-3a65-47c1-ab17-b7bd2e789f59",
   "metadata": {},
   "outputs": [],
   "source": [
    "# Para iterar pelas dobras\n",
    "\n",
    "for train_index, test_index in kf.split(X):\n",
    "    X_train, X_test = X.iloc[train_index], X.iloc[test_index]\n",
    "    y_train, y_test = y.iloc[train_index], y.iloc[test_index]\n",
    "    \n",
    "    # Treinando o modelo XGBoost\n",
    "    \n",
    "    model = xgb.XGBClassifier(\n",
    "        max_depth=9,\n",
    "        n_estimators=200,\n",
    "        learning_rate=0.3,\n",
    "        random_state=0,\n",
    "        scale_pos_weight=(y.value_counts()[0] / y.value_counts()[1])  # Lida com desbalanceamento\n",
    "    )\n",
    "    \n",
    "    model.fit(X_train, y_train)\n",
    "    \n",
    "    # Fazendo previsões\n",
    "    \n",
    "    y_pred = model.predict(X_test)\n",
    "    \n",
    "    # Calculando as métricas\n",
    "    \n",
    "    accuracy_scores.append(accuracy_score(y_test, y_pred))\n",
    "    precision_scores.append(precision_score(y_test, y_pred, zero_division=0))\n",
    "    recall_scores.append(recall_score(y_test, y_pred, zero_division=0))"
   ]
  },
  {
   "cell_type": "code",
   "execution_count": 11,
   "id": "566dfe75-09e3-4e08-8fe9-58b6767927f6",
   "metadata": {},
   "outputs": [],
   "source": [
    "# Calculando a média das métricas\n",
    "\n",
    "mean_accuracy = np.mean(accuracy_scores)\n",
    "mean_precision = np.mean(precision_scores)\n",
    "mean_recall = np.mean(recall_scores)"
   ]
  },
  {
   "cell_type": "code",
   "execution_count": 12,
   "id": "4b07eab5-215f-4e99-afc4-8a7b113e641f",
   "metadata": {},
   "outputs": [
    {
     "name": "stdout",
     "output_type": "stream",
     "text": [
      "Média das métricas após 10 dobras:\n",
      "Acurácia: 0.9996\n",
      "Precisão: 0.9227\n",
      "Recall: 0.8102\n"
     ]
    }
   ],
   "source": [
    "# Exibindo os resultados médios\n",
    "\n",
    "print(\"Média das métricas após 10 dobras:\")\n",
    "print(f\"Acurácia: {mean_accuracy:.4f}\")\n",
    "print(f\"Precisão: {mean_precision:.4f}\")\n",
    "print(f\"Recall: {mean_recall:.4f}\")"
   ]
  },
  {
   "cell_type": "markdown",
   "id": "0596e0c1-371b-456d-a0f4-661e8dccd0e4",
   "metadata": {},
   "source": [
    "### Salvando o modelo para testes com novos dados. \n",
    "\n",
    "**Simulando modelo em produção real.**"
   ]
  },
  {
   "cell_type": "code",
   "execution_count": 14,
   "id": "c85ec4c4-18ff-475b-9f4e-65b147dccfb3",
   "metadata": {},
   "outputs": [
    {
     "name": "stdout",
     "output_type": "stream",
     "text": [
      "Modelo salvo em: ../dados/best_model_xgboost.pkl\n"
     ]
    }
   ],
   "source": [
    "# Salvaando o melhor modelo em formato .pkl na pasta 'dados'\n",
    "\n",
    "# Criando o diretório 'dados/' caso não exista\n",
    "\n",
    "caminho_dados = '../dados/'\n",
    "os.makedirs(caminho_dados, exist_ok=True)\n",
    "\n",
    "# Caminho completo do arquivo\n",
    "\n",
    "caminho_modelo = os.path.join(caminho_dados, 'best_model_xgboost.pkl')\n",
    "\n",
    "# Salvando o modelo\n",
    "\n",
    "joblib.dump(model, caminho_modelo)\n",
    "print(f\"Modelo salvo em: {caminho_modelo}\")"
   ]
  },
  {
   "cell_type": "markdown",
   "id": "292eaaa4-3443-46ce-8e73-961d7f7f6e4d",
   "metadata": {},
   "source": [
    "## Análise Final do Modelo de Detecção de Fraudes\n",
    "\n",
    "<br>O modelo de detecção de fraudes foi avaliado utilizando validação cruzada com 10 dobras, resultando nas seguintes métricas médias:<br>\n",
    "\n",
    "- #### Acurácia: 99,96%\n",
    "- #### Precisão: 92,27%\n",
    "- #### Recall: 81,02% \n",
    "\n",
    "<br>Dado que a empresa aplicará esse modelo para transações corriqueiras com um valor máximo de **R$5.000,00**, a principal preocupação é minimizar falsos positivos para evitar reclamações de clientes.<br><br>\n",
    "\n",
    "#### Interpretação das Métricas:<br>\n",
    "\n",
    "- #### Alta Precisão (92,27%):\n",
    "\n",
    "Isso indica que a maioria das transações identificadas como fraude realmente são fraudes, o que significa que poucos clientes legítimos terão suas transações bloqueadas indevidamente.\n",
    "Esse é um ponto positivo, pois reduz o impacto negativo sobre a experiência do usuário.<br><br>\n",
    "\n",
    "- #### Recall Moderado (81,02%):\n",
    "\n",
    "O modelo consegue capturar 81% das fraudes reais, o que é bom, mas há um 19% de fraudes não detectadas.\n",
    "Como o foco principal é reduzir falsos positivos, esse recall é aceitável dentro do contexto do negócio.<br><br>\n",
    "\n",
    "- #### Alta Acurácia (99,96%):\n",
    "\n",
    "Esse valor é muito alto, mas deve ser interpretado com cuidado, pois fraudes são eventos raros.\n",
    "Como o dataset é desbalanceado, a acurácia pode estar sendo inflada pelo grande número de transações legítimas corretamente classificadas."
   ]
  }
 ],
 "metadata": {
  "kernelspec": {
   "display_name": "Python 3 (ipykernel)",
   "language": "python",
   "name": "python3"
  },
  "language_info": {
   "codemirror_mode": {
    "name": "ipython",
    "version": 3
   },
   "file_extension": ".py",
   "mimetype": "text/x-python",
   "name": "python",
   "nbconvert_exporter": "python",
   "pygments_lexer": "ipython3",
   "version": "3.12.4"
  }
 },
 "nbformat": 4,
 "nbformat_minor": 5
}
