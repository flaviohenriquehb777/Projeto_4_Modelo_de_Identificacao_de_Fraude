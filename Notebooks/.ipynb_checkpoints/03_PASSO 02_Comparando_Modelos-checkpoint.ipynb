{
 "cells": [
  {
   "cell_type": "markdown",
   "id": "4e9fb1aa",
   "metadata": {},
   "source": [
    "# Modelo de Identificação de Fraudes\n"
   ]
  },
  {
   "cell_type": "code",
   "execution_count": 4,
   "id": "8402cf0d-ed4b-4089-9f48-61494aa80846",
   "metadata": {},
   "outputs": [],
   "source": [
    "import pandas as pd\n",
    "import matplotlib.pyplot as plt\n",
    "import seaborn as sns\n",
    "import numpy as np\n",
    "import datetime as dt\n",
    "\n",
    "from scipy.stats import kstest, normaltest, anderson\n",
    "\n",
    "from sklearn.preprocessing import PowerTransformer, MinMaxScaler\n",
    "\n",
    "from sklearn.linear_model import LogisticRegression\n",
    "from sklearn.ensemble import RandomForestClassifier\n",
    "from sklearn import tree, metrics\n",
    "from sklearn.neighbors import KNeighborsClassifier\n",
    "from sklearn.svm import SVC\n",
    "\n",
    "from sklearn.model_selection import train_test_split, GridSearchCV\n",
    "from imblearn.under_sampling import RandomUnderSampler, ClusterCentroids, NearMiss \n",
    "from imblearn.over_sampling import RandomOverSampler, SMOTE, ADASYN\n",
    "from imblearn.combine import SMOTEENN\n",
    "\n",
    "from sklearn.metrics import (\n",
    "    confusion_matrix, \n",
    "    accuracy_score, \n",
    "    precision_score, \n",
    "    recall_score,\n",
    "    precision_recall_curve,\n",
    ")\n",
    "\n",
    "import warnings\n",
    "from src.config import DADOS_MASTERCARD\n",
    "\n",
    "warnings.filterwarnings('ignore')\n",
    "sns.set_theme(palette=\"bright\")"
   ]
  },
  {
   "cell_type": "code",
   "execution_count": 6,
   "id": "59d92d9e",
   "metadata": {},
   "outputs": [],
   "source": [
    "# Importando a base\n",
    "\n",
    "transacoes = pd.read_csv(DADOS_MASTERCARD)"
   ]
  },
  {
   "cell_type": "code",
   "execution_count": 4,
   "id": "f1a6a585-7523-4ff5-b46b-b69cbe10dc82",
   "metadata": {},
   "outputs": [],
   "source": [
    "# Verificar se todos os valores podem ser convertidos para inteiro (sem valores decimais)\n",
    "\n",
    "if (transacoes['Time'] == transacoes['Time'].astype(int)).all():\n",
    "    \n",
    "    # Se todos os valores são inteiros, realizar a conversão\n",
    "    \n",
    "    transacoes['Time'] = transacoes['Time'].astype(int)\n",
    "   \n",
    "else:\n",
    "    print(\"Nem todos os valores na coluna 'Time' podem ser convertidos para inteiro.\")"
   ]
  },
  {
   "cell_type": "markdown",
   "id": "d863a4f2-ae10-4f7b-8f93-f51518b2fbb0",
   "metadata": {},
   "source": [
    "### Vamos ajustar a escala de duas colunas para testar o resultado\n",
    "- As colunas Time e Amount têm valores max muito alto. Destoa do restante do dataset."
   ]
  },
  {
   "cell_type": "code",
   "execution_count": 6,
   "id": "3cc706ac-f24c-4658-b374-10100aa86eb4",
   "metadata": {},
   "outputs": [
    {
     "data": {
      "text/html": [
       "<div>\n",
       "<style scoped>\n",
       "    .dataframe tbody tr th:only-of-type {\n",
       "        vertical-align: middle;\n",
       "    }\n",
       "\n",
       "    .dataframe tbody tr th {\n",
       "        vertical-align: top;\n",
       "    }\n",
       "\n",
       "    .dataframe thead th {\n",
       "        text-align: right;\n",
       "    }\n",
       "</style>\n",
       "<table border=\"1\" class=\"dataframe\">\n",
       "  <thead>\n",
       "    <tr style=\"text-align: right;\">\n",
       "      <th></th>\n",
       "      <th>Time</th>\n",
       "      <th>V1</th>\n",
       "      <th>V2</th>\n",
       "      <th>V3</th>\n",
       "      <th>V4</th>\n",
       "      <th>V5</th>\n",
       "      <th>V6</th>\n",
       "      <th>V7</th>\n",
       "      <th>V8</th>\n",
       "      <th>V9</th>\n",
       "      <th>...</th>\n",
       "      <th>V21</th>\n",
       "      <th>V22</th>\n",
       "      <th>V23</th>\n",
       "      <th>V24</th>\n",
       "      <th>V25</th>\n",
       "      <th>V26</th>\n",
       "      <th>V27</th>\n",
       "      <th>V28</th>\n",
       "      <th>Amount</th>\n",
       "      <th>Class</th>\n",
       "    </tr>\n",
       "  </thead>\n",
       "  <tbody>\n",
       "    <tr>\n",
       "      <th>count</th>\n",
       "      <td>284807.000000</td>\n",
       "      <td>2.848070e+05</td>\n",
       "      <td>2.848070e+05</td>\n",
       "      <td>2.848070e+05</td>\n",
       "      <td>2.848070e+05</td>\n",
       "      <td>2.848070e+05</td>\n",
       "      <td>2.848070e+05</td>\n",
       "      <td>2.848070e+05</td>\n",
       "      <td>2.848070e+05</td>\n",
       "      <td>2.848070e+05</td>\n",
       "      <td>...</td>\n",
       "      <td>2.848070e+05</td>\n",
       "      <td>2.848070e+05</td>\n",
       "      <td>2.848070e+05</td>\n",
       "      <td>2.848070e+05</td>\n",
       "      <td>2.848070e+05</td>\n",
       "      <td>2.848070e+05</td>\n",
       "      <td>2.848070e+05</td>\n",
       "      <td>2.848070e+05</td>\n",
       "      <td>284807.000000</td>\n",
       "      <td>284807.000000</td>\n",
       "    </tr>\n",
       "    <tr>\n",
       "      <th>mean</th>\n",
       "      <td>94813.859575</td>\n",
       "      <td>1.168375e-15</td>\n",
       "      <td>3.416908e-16</td>\n",
       "      <td>-1.379537e-15</td>\n",
       "      <td>2.074095e-15</td>\n",
       "      <td>9.604066e-16</td>\n",
       "      <td>1.487313e-15</td>\n",
       "      <td>-5.556467e-16</td>\n",
       "      <td>1.213481e-16</td>\n",
       "      <td>-2.406331e-15</td>\n",
       "      <td>...</td>\n",
       "      <td>1.654067e-16</td>\n",
       "      <td>-3.568593e-16</td>\n",
       "      <td>2.578648e-16</td>\n",
       "      <td>4.473266e-15</td>\n",
       "      <td>5.340915e-16</td>\n",
       "      <td>1.683437e-15</td>\n",
       "      <td>-3.660091e-16</td>\n",
       "      <td>-1.227390e-16</td>\n",
       "      <td>88.349619</td>\n",
       "      <td>0.001727</td>\n",
       "    </tr>\n",
       "    <tr>\n",
       "      <th>std</th>\n",
       "      <td>47488.145955</td>\n",
       "      <td>1.958696e+00</td>\n",
       "      <td>1.651309e+00</td>\n",
       "      <td>1.516255e+00</td>\n",
       "      <td>1.415869e+00</td>\n",
       "      <td>1.380247e+00</td>\n",
       "      <td>1.332271e+00</td>\n",
       "      <td>1.237094e+00</td>\n",
       "      <td>1.194353e+00</td>\n",
       "      <td>1.098632e+00</td>\n",
       "      <td>...</td>\n",
       "      <td>7.345240e-01</td>\n",
       "      <td>7.257016e-01</td>\n",
       "      <td>6.244603e-01</td>\n",
       "      <td>6.056471e-01</td>\n",
       "      <td>5.212781e-01</td>\n",
       "      <td>4.822270e-01</td>\n",
       "      <td>4.036325e-01</td>\n",
       "      <td>3.300833e-01</td>\n",
       "      <td>250.120109</td>\n",
       "      <td>0.041527</td>\n",
       "    </tr>\n",
       "    <tr>\n",
       "      <th>min</th>\n",
       "      <td>0.000000</td>\n",
       "      <td>-5.640751e+01</td>\n",
       "      <td>-7.271573e+01</td>\n",
       "      <td>-4.832559e+01</td>\n",
       "      <td>-5.683171e+00</td>\n",
       "      <td>-1.137433e+02</td>\n",
       "      <td>-2.616051e+01</td>\n",
       "      <td>-4.355724e+01</td>\n",
       "      <td>-7.321672e+01</td>\n",
       "      <td>-1.343407e+01</td>\n",
       "      <td>...</td>\n",
       "      <td>-3.483038e+01</td>\n",
       "      <td>-1.093314e+01</td>\n",
       "      <td>-4.480774e+01</td>\n",
       "      <td>-2.836627e+00</td>\n",
       "      <td>-1.029540e+01</td>\n",
       "      <td>-2.604551e+00</td>\n",
       "      <td>-2.256568e+01</td>\n",
       "      <td>-1.543008e+01</td>\n",
       "      <td>0.000000</td>\n",
       "      <td>0.000000</td>\n",
       "    </tr>\n",
       "    <tr>\n",
       "      <th>25%</th>\n",
       "      <td>54201.500000</td>\n",
       "      <td>-9.203734e-01</td>\n",
       "      <td>-5.985499e-01</td>\n",
       "      <td>-8.903648e-01</td>\n",
       "      <td>-8.486401e-01</td>\n",
       "      <td>-6.915971e-01</td>\n",
       "      <td>-7.682956e-01</td>\n",
       "      <td>-5.540759e-01</td>\n",
       "      <td>-2.086297e-01</td>\n",
       "      <td>-6.430976e-01</td>\n",
       "      <td>...</td>\n",
       "      <td>-2.283949e-01</td>\n",
       "      <td>-5.423504e-01</td>\n",
       "      <td>-1.618463e-01</td>\n",
       "      <td>-3.545861e-01</td>\n",
       "      <td>-3.171451e-01</td>\n",
       "      <td>-3.269839e-01</td>\n",
       "      <td>-7.083953e-02</td>\n",
       "      <td>-5.295979e-02</td>\n",
       "      <td>5.600000</td>\n",
       "      <td>0.000000</td>\n",
       "    </tr>\n",
       "    <tr>\n",
       "      <th>50%</th>\n",
       "      <td>84692.000000</td>\n",
       "      <td>1.810880e-02</td>\n",
       "      <td>6.548556e-02</td>\n",
       "      <td>1.798463e-01</td>\n",
       "      <td>-1.984653e-02</td>\n",
       "      <td>-5.433583e-02</td>\n",
       "      <td>-2.741871e-01</td>\n",
       "      <td>4.010308e-02</td>\n",
       "      <td>2.235804e-02</td>\n",
       "      <td>-5.142873e-02</td>\n",
       "      <td>...</td>\n",
       "      <td>-2.945017e-02</td>\n",
       "      <td>6.781943e-03</td>\n",
       "      <td>-1.119293e-02</td>\n",
       "      <td>4.097606e-02</td>\n",
       "      <td>1.659350e-02</td>\n",
       "      <td>-5.213911e-02</td>\n",
       "      <td>1.342146e-03</td>\n",
       "      <td>1.124383e-02</td>\n",
       "      <td>22.000000</td>\n",
       "      <td>0.000000</td>\n",
       "    </tr>\n",
       "    <tr>\n",
       "      <th>75%</th>\n",
       "      <td>139320.500000</td>\n",
       "      <td>1.315642e+00</td>\n",
       "      <td>8.037239e-01</td>\n",
       "      <td>1.027196e+00</td>\n",
       "      <td>7.433413e-01</td>\n",
       "      <td>6.119264e-01</td>\n",
       "      <td>3.985649e-01</td>\n",
       "      <td>5.704361e-01</td>\n",
       "      <td>3.273459e-01</td>\n",
       "      <td>5.971390e-01</td>\n",
       "      <td>...</td>\n",
       "      <td>1.863772e-01</td>\n",
       "      <td>5.285536e-01</td>\n",
       "      <td>1.476421e-01</td>\n",
       "      <td>4.395266e-01</td>\n",
       "      <td>3.507156e-01</td>\n",
       "      <td>2.409522e-01</td>\n",
       "      <td>9.104512e-02</td>\n",
       "      <td>7.827995e-02</td>\n",
       "      <td>77.165000</td>\n",
       "      <td>0.000000</td>\n",
       "    </tr>\n",
       "    <tr>\n",
       "      <th>max</th>\n",
       "      <td>172792.000000</td>\n",
       "      <td>2.454930e+00</td>\n",
       "      <td>2.205773e+01</td>\n",
       "      <td>9.382558e+00</td>\n",
       "      <td>1.687534e+01</td>\n",
       "      <td>3.480167e+01</td>\n",
       "      <td>7.330163e+01</td>\n",
       "      <td>1.205895e+02</td>\n",
       "      <td>2.000721e+01</td>\n",
       "      <td>1.559499e+01</td>\n",
       "      <td>...</td>\n",
       "      <td>2.720284e+01</td>\n",
       "      <td>1.050309e+01</td>\n",
       "      <td>2.252841e+01</td>\n",
       "      <td>4.584549e+00</td>\n",
       "      <td>7.519589e+00</td>\n",
       "      <td>3.517346e+00</td>\n",
       "      <td>3.161220e+01</td>\n",
       "      <td>3.384781e+01</td>\n",
       "      <td>25691.160000</td>\n",
       "      <td>1.000000</td>\n",
       "    </tr>\n",
       "  </tbody>\n",
       "</table>\n",
       "<p>8 rows × 31 columns</p>\n",
       "</div>"
      ],
      "text/plain": [
       "                Time            V1            V2            V3            V4  \\\n",
       "count  284807.000000  2.848070e+05  2.848070e+05  2.848070e+05  2.848070e+05   \n",
       "mean    94813.859575  1.168375e-15  3.416908e-16 -1.379537e-15  2.074095e-15   \n",
       "std     47488.145955  1.958696e+00  1.651309e+00  1.516255e+00  1.415869e+00   \n",
       "min         0.000000 -5.640751e+01 -7.271573e+01 -4.832559e+01 -5.683171e+00   \n",
       "25%     54201.500000 -9.203734e-01 -5.985499e-01 -8.903648e-01 -8.486401e-01   \n",
       "50%     84692.000000  1.810880e-02  6.548556e-02  1.798463e-01 -1.984653e-02   \n",
       "75%    139320.500000  1.315642e+00  8.037239e-01  1.027196e+00  7.433413e-01   \n",
       "max    172792.000000  2.454930e+00  2.205773e+01  9.382558e+00  1.687534e+01   \n",
       "\n",
       "                 V5            V6            V7            V8            V9  \\\n",
       "count  2.848070e+05  2.848070e+05  2.848070e+05  2.848070e+05  2.848070e+05   \n",
       "mean   9.604066e-16  1.487313e-15 -5.556467e-16  1.213481e-16 -2.406331e-15   \n",
       "std    1.380247e+00  1.332271e+00  1.237094e+00  1.194353e+00  1.098632e+00   \n",
       "min   -1.137433e+02 -2.616051e+01 -4.355724e+01 -7.321672e+01 -1.343407e+01   \n",
       "25%   -6.915971e-01 -7.682956e-01 -5.540759e-01 -2.086297e-01 -6.430976e-01   \n",
       "50%   -5.433583e-02 -2.741871e-01  4.010308e-02  2.235804e-02 -5.142873e-02   \n",
       "75%    6.119264e-01  3.985649e-01  5.704361e-01  3.273459e-01  5.971390e-01   \n",
       "max    3.480167e+01  7.330163e+01  1.205895e+02  2.000721e+01  1.559499e+01   \n",
       "\n",
       "       ...           V21           V22           V23           V24  \\\n",
       "count  ...  2.848070e+05  2.848070e+05  2.848070e+05  2.848070e+05   \n",
       "mean   ...  1.654067e-16 -3.568593e-16  2.578648e-16  4.473266e-15   \n",
       "std    ...  7.345240e-01  7.257016e-01  6.244603e-01  6.056471e-01   \n",
       "min    ... -3.483038e+01 -1.093314e+01 -4.480774e+01 -2.836627e+00   \n",
       "25%    ... -2.283949e-01 -5.423504e-01 -1.618463e-01 -3.545861e-01   \n",
       "50%    ... -2.945017e-02  6.781943e-03 -1.119293e-02  4.097606e-02   \n",
       "75%    ...  1.863772e-01  5.285536e-01  1.476421e-01  4.395266e-01   \n",
       "max    ...  2.720284e+01  1.050309e+01  2.252841e+01  4.584549e+00   \n",
       "\n",
       "                V25           V26           V27           V28         Amount  \\\n",
       "count  2.848070e+05  2.848070e+05  2.848070e+05  2.848070e+05  284807.000000   \n",
       "mean   5.340915e-16  1.683437e-15 -3.660091e-16 -1.227390e-16      88.349619   \n",
       "std    5.212781e-01  4.822270e-01  4.036325e-01  3.300833e-01     250.120109   \n",
       "min   -1.029540e+01 -2.604551e+00 -2.256568e+01 -1.543008e+01       0.000000   \n",
       "25%   -3.171451e-01 -3.269839e-01 -7.083953e-02 -5.295979e-02       5.600000   \n",
       "50%    1.659350e-02 -5.213911e-02  1.342146e-03  1.124383e-02      22.000000   \n",
       "75%    3.507156e-01  2.409522e-01  9.104512e-02  7.827995e-02      77.165000   \n",
       "max    7.519589e+00  3.517346e+00  3.161220e+01  3.384781e+01   25691.160000   \n",
       "\n",
       "               Class  \n",
       "count  284807.000000  \n",
       "mean        0.001727  \n",
       "std         0.041527  \n",
       "min         0.000000  \n",
       "25%         0.000000  \n",
       "50%         0.000000  \n",
       "75%         0.000000  \n",
       "max         1.000000  \n",
       "\n",
       "[8 rows x 31 columns]"
      ]
     },
     "execution_count": 6,
     "metadata": {},
     "output_type": "execute_result"
    }
   ],
   "source": [
    "# Verificando o resumo das colunas\n",
    "\n",
    "transacoes.describe()"
   ]
  },
  {
   "cell_type": "markdown",
   "id": "b227279b-0562-4746-8a1c-b1823787fffa",
   "metadata": {},
   "source": [
    "**Podemos ajustar as colunas Time e Amount para que elas fiquem entre 0 e 1**\n",
    "- Para isso, vamos dividir toda a coluna pelo valor máximo."
   ]
  },
  {
   "cell_type": "code",
   "execution_count": 8,
   "id": "fd8e0920-b075-4db7-b7e2-8a3b1aef1bb9",
   "metadata": {},
   "outputs": [],
   "source": [
    "# Primeiro para a coluna Time\n",
    "\n",
    "transacoes.Time = transacoes.Time / transacoes.Time.max()\n",
    "\n",
    "# E então para a coluna Amount\n",
    "\n",
    "transacoes.Amount = transacoes.Amount / transacoes.Amount.max()"
   ]
  },
  {
   "cell_type": "markdown",
   "id": "da62e0c7",
   "metadata": {},
   "source": [
    "<a id='modelo'></a>\n",
    "### Criando um modelo de aprendizado de máquinas para identificar fraude\n",
    "- Vamos criar um modelo para identificar fraude sem fazer nenhum tratamento nessa base"
   ]
  },
  {
   "cell_type": "code",
   "execution_count": 10,
   "id": "f348ced9",
   "metadata": {},
   "outputs": [],
   "source": [
    "# Separando X e y\n",
    "\n",
    "X = transacoes.drop('Class', axis=1)\n",
    "y = transacoes.Class"
   ]
  },
  {
   "cell_type": "markdown",
   "id": "95bb802f",
   "metadata": {},
   "source": [
    "**Separando em treino e teste**"
   ]
  },
  {
   "cell_type": "code",
   "execution_count": 12,
   "id": "364b2832",
   "metadata": {},
   "outputs": [],
   "source": [
    "# Separando em treino e teste\n",
    "\n",
    "X_train, X_test, y_train, y_test = train_test_split(X, y, test_size=0.33, random_state=42,stratify=y)"
   ]
  },
  {
   "cell_type": "markdown",
   "id": "f6869865",
   "metadata": {},
   "source": [
    "**Utilizando a árvore de decisão como fizemos anteriormente**"
   ]
  },
  {
   "cell_type": "code",
   "execution_count": 14,
   "id": "e91552c5",
   "metadata": {},
   "outputs": [],
   "source": [
    "# Definindo o nosso classificador\n",
    "\n",
    "clf = tree.DecisionTreeClassifier(random_state=42, max_depth=3)"
   ]
  },
  {
   "cell_type": "code",
   "execution_count": 15,
   "id": "041cb5a2",
   "metadata": {},
   "outputs": [],
   "source": [
    "# Fazendo o fit para os dados de treino\n",
    "\n",
    "clf = clf.fit(X_train, y_train)"
   ]
  },
  {
   "cell_type": "code",
   "execution_count": 16,
   "id": "08fe6b29",
   "metadata": {},
   "outputs": [],
   "source": [
    "# Prevendo os valores\n",
    "\n",
    "y_pred = clf.predict(X_test)"
   ]
  },
  {
   "cell_type": "markdown",
   "id": "41c2493a",
   "metadata": {},
   "source": [
    "**Visualizando a matriz confusão**"
   ]
  },
  {
   "cell_type": "code",
   "execution_count": 18,
   "id": "cf7b48a7",
   "metadata": {},
   "outputs": [
    {
     "data": {
      "text/plain": [
       "array([[93793,    32],\n",
       "       [   42,   120]], dtype=int64)"
      ]
     },
     "execution_count": 18,
     "metadata": {},
     "output_type": "execute_result"
    }
   ],
   "source": [
    "confusion_matrix(y_test,y_pred)"
   ]
  },
  {
   "cell_type": "markdown",
   "id": "ef94088a",
   "metadata": {},
   "source": [
    "### Realizando o random undersampling"
   ]
  },
  {
   "cell_type": "code",
   "execution_count": 20,
   "id": "6f18a776",
   "metadata": {},
   "outputs": [],
   "source": [
    "# Definindo o RandomUnderSampler\n",
    "\n",
    "rus = RandomUnderSampler(random_state=42)"
   ]
  },
  {
   "cell_type": "code",
   "execution_count": 21,
   "id": "756a1c4c",
   "metadata": {},
   "outputs": [],
   "source": [
    "# Definindo a nova amostra\n",
    "\n",
    "X_res_RUS, y_res_RUS = rus.fit_resample(X_train, y_train)"
   ]
  },
  {
   "cell_type": "markdown",
   "id": "4cdd5024",
   "metadata": {},
   "source": [
    "**<font color='blue'>Com árvore de decisão**"
   ]
  },
  {
   "cell_type": "code",
   "execution_count": 23,
   "id": "c81c0df9",
   "metadata": {},
   "outputs": [],
   "source": [
    "# Fazendo o fit para os dados de treino já balanceados\n",
    "\n",
    "clfTree_RUS = tree.DecisionTreeClassifier(random_state=42, max_depth=3)\n",
    "\n",
    "clfTree_RUS = clf.fit(X_res_RUS, y_res_RUS)"
   ]
  },
  {
   "cell_type": "code",
   "execution_count": 24,
   "id": "dd115f01",
   "metadata": {},
   "outputs": [],
   "source": [
    "# Fazendo a previsão para os dados de teste\n",
    "\n",
    "y_predTree_RUS = clfTree_RUS.predict(X_test)\n",
    "y_pred_probaTree_RUS = clfTree_RUS.predict_proba(X_test)[:,1]"
   ]
  },
  {
   "cell_type": "code",
   "execution_count": 25,
   "id": "a44a1bd6",
   "metadata": {},
   "outputs": [
    {
     "data": {
      "text/plain": [
       "array([[90661,  3164],\n",
       "       [   21,   141]], dtype=int64)"
      ]
     },
     "execution_count": 25,
     "metadata": {},
     "output_type": "execute_result"
    }
   ],
   "source": [
    "# Visualizando a matriz confusão\n",
    "\n",
    "confusion_matrix(y_test,y_predTree_RUS)"
   ]
  },
  {
   "cell_type": "markdown",
   "id": "9115092f",
   "metadata": {},
   "source": [
    "**<font color='blue'>Com Regressão Logística**"
   ]
  },
  {
   "cell_type": "code",
   "execution_count": 27,
   "id": "a172c114",
   "metadata": {},
   "outputs": [],
   "source": [
    "# Fazendo o fit\n",
    "\n",
    "clfLog_RUS = LogisticRegression(random_state=0).fit(X_res_RUS, y_res_RUS)"
   ]
  },
  {
   "cell_type": "code",
   "execution_count": 28,
   "id": "f93decb4",
   "metadata": {},
   "outputs": [],
   "source": [
    "# Fazendo a previsão\n",
    "\n",
    "y_predLog_RUS = clfLog_RUS.predict(X_test)\n",
    "y_pred_probaLog_RUS = clfLog_RUS.predict_proba(X_test)[:,1]"
   ]
  },
  {
   "cell_type": "code",
   "execution_count": 29,
   "id": "37cdca8b",
   "metadata": {},
   "outputs": [
    {
     "data": {
      "text/plain": [
       "array([[89868,  3957],\n",
       "       [   15,   147]], dtype=int64)"
      ]
     },
     "execution_count": 29,
     "metadata": {},
     "output_type": "execute_result"
    }
   ],
   "source": [
    "# Visualizando a matriz confusão\n",
    "\n",
    "confusion_matrix(y_test,y_predLog_RUS)"
   ]
  },
  {
   "cell_type": "markdown",
   "id": "c886e574",
   "metadata": {},
   "source": [
    "**<font color='blue'>Com Support Vector Machine**"
   ]
  },
  {
   "cell_type": "code",
   "execution_count": 31,
   "id": "53cfb190",
   "metadata": {},
   "outputs": [],
   "source": [
    "# Fazendo o fit\n",
    "\n",
    "clfSVC_RUS = SVC(random_state=0, probability=True).fit(X_res_RUS, y_res_RUS)"
   ]
  },
  {
   "cell_type": "code",
   "execution_count": 32,
   "id": "d615d931",
   "metadata": {},
   "outputs": [],
   "source": [
    "# Fazendo a previsão\n",
    "\n",
    "y_predSVC_RUS = clfSVC_RUS.predict(X_test)\n",
    "y_pred_probaSVC_RUS = clfSVC_RUS.predict_proba(X_test)[:,1]"
   ]
  },
  {
   "cell_type": "code",
   "execution_count": 33,
   "id": "5006dd81",
   "metadata": {},
   "outputs": [
    {
     "data": {
      "text/plain": [
       "array([[92433,  1392],\n",
       "       [   24,   138]], dtype=int64)"
      ]
     },
     "execution_count": 33,
     "metadata": {},
     "output_type": "execute_result"
    }
   ],
   "source": [
    "# Visualizando a matriz confusão\n",
    "\n",
    "confusion_matrix(y_test,y_predSVC_RUS)"
   ]
  },
  {
   "cell_type": "markdown",
   "id": "24fa97e3",
   "metadata": {},
   "source": [
    "**<font color='blue'>Utilizando KNN**"
   ]
  },
  {
   "cell_type": "code",
   "execution_count": 35,
   "id": "1678c059",
   "metadata": {},
   "outputs": [],
   "source": [
    "# Fazendo o fit\n",
    "\n",
    "clfKNN_RUS = KNeighborsClassifier(n_neighbors=3).fit(X_res_RUS, y_res_RUS)"
   ]
  },
  {
   "cell_type": "code",
   "execution_count": 36,
   "id": "f3f96b63",
   "metadata": {},
   "outputs": [],
   "source": [
    "# Fazendo a previsão\n",
    "\n",
    "y_predKNN_RUS = clfKNN_RUS.predict(X_test)\n",
    "y_pred_probaKNN_RUS = clfKNN_RUS.predict_proba(X_test)[:,1]"
   ]
  },
  {
   "cell_type": "code",
   "execution_count": 37,
   "id": "590be6c9",
   "metadata": {},
   "outputs": [
    {
     "data": {
      "text/plain": [
       "array([[91136,  2689],\n",
       "       [   15,   147]], dtype=int64)"
      ]
     },
     "execution_count": 37,
     "metadata": {},
     "output_type": "execute_result"
    }
   ],
   "source": [
    "# Visualizando a matriz confusão\n",
    "\n",
    "confusion_matrix(y_test,y_predKNN_RUS)"
   ]
  },
  {
   "cell_type": "markdown",
   "id": "a2860e48",
   "metadata": {},
   "source": [
    "**<font color='blue'>Random Forest**"
   ]
  },
  {
   "cell_type": "code",
   "execution_count": 39,
   "id": "5fc6134f",
   "metadata": {},
   "outputs": [],
   "source": [
    "# Fazendo o fit\n",
    "\n",
    "clfRFC_RUS = RandomForestClassifier(max_depth=2, random_state=0).fit(X_res_RUS, y_res_RUS)"
   ]
  },
  {
   "cell_type": "code",
   "execution_count": 40,
   "id": "92b28fdf",
   "metadata": {},
   "outputs": [],
   "source": [
    "# Fazendo a previsão\n",
    "\n",
    "y_predRFC_RUS = clfRFC_RUS.predict(X_test)\n",
    "y_pred_probaRFC_RUS = clfRFC_RUS.predict_proba(X_test)[:,1]"
   ]
  },
  {
   "cell_type": "code",
   "execution_count": 41,
   "id": "fe97b9e1",
   "metadata": {},
   "outputs": [
    {
     "data": {
      "text/plain": [
       "array([[93168,   657],\n",
       "       [   25,   137]], dtype=int64)"
      ]
     },
     "execution_count": 41,
     "metadata": {},
     "output_type": "execute_result"
    }
   ],
   "source": [
    "# Visualizando a matriz confusão\n",
    "\n",
    "confusion_matrix(y_test,y_predRFC_RUS)"
   ]
  },
  {
   "cell_type": "markdown",
   "id": "9bd58ed5",
   "metadata": {},
   "source": [
    "### Comparando os modelos com recall e precisão"
   ]
  },
  {
   "cell_type": "code",
   "execution_count": 43,
   "id": "b7780172",
   "metadata": {},
   "outputs": [
    {
     "name": "stdout",
     "output_type": "stream",
     "text": [
      "0.04266263237518911\n",
      "0.8703703703703703\n",
      "0.035818713450292396\n",
      "0.9074074074074074\n",
      "0.09019607843137255\n",
      "0.8518518518518519\n",
      "0.05183356840620593\n",
      "0.9074074074074074\n",
      "0.172544080604534\n",
      "0.845679012345679\n"
     ]
    }
   ],
   "source": [
    "# Visualizando precisão e recall\n",
    "\n",
    "print(precision_score(y_test,y_predTree_RUS))\n",
    "print(recall_score(y_test,y_predTree_RUS))\n",
    "print(precision_score(y_test,y_predLog_RUS))\n",
    "print(recall_score(y_test,y_predLog_RUS))\n",
    "print(precision_score(y_test,y_predSVC_RUS))\n",
    "print(recall_score(y_test,y_predSVC_RUS))\n",
    "print(precision_score(y_test,y_predKNN_RUS))\n",
    "print(recall_score(y_test,y_predKNN_RUS))\n",
    "print(precision_score(y_test,y_predRFC_RUS))\n",
    "print(recall_score(y_test,y_predRFC_RUS))"
   ]
  },
  {
   "cell_type": "code",
   "execution_count": 44,
   "id": "8f288d36",
   "metadata": {},
   "outputs": [],
   "source": [
    "# Gerando os parâmetros da curva precisão x recall para a base\n",
    "\n",
    "precisionTree_RUS, recallTree_RUS, thresholdsTree_RUS = precision_recall_curve(y_test,y_pred_probaTree_RUS)\n",
    "precisionLog_RUS, recallLog_RUS, thresholdsLog_RUS = precision_recall_curve(y_test,y_pred_probaLog_RUS)\n",
    "precisionSVC_RUS, recallSVC_RUS, thresholdsSVC_RUS = precision_recall_curve(y_test,y_pred_probaSVC_RUS)\n",
    "precisionKNN_RUS, recallKNN_RUS, thresholdsKNN_RUS = precision_recall_curve(y_test,y_pred_probaKNN_RUS)\n",
    "precisionRFC_RUS, recallRFC_RUS, thresholdsRFC_RUS = precision_recall_curve(y_test,y_pred_probaRFC_RUS)"
   ]
  },
  {
   "cell_type": "code",
   "execution_count": 45,
   "id": "26950bd0",
   "metadata": {},
   "outputs": [
    {
     "data": {
      "image/png": "[encoded data removed]",
      "text/plain": [
       "<Figure size 640x480 with 1 Axes>"
      ]
     },
     "metadata": {},
     "output_type": "display_data"
    }
   ],
   "source": [
    "# Visualizando graficamente\n",
    "\n",
    "import matplotlib.pyplot as plt\n",
    "\n",
    "# Traçando a curva ROC\n",
    "\n",
    "fig, ax = plt.subplots()\n",
    "\n",
    "ax.plot(recallTree_RUS, precisionTree_RUS, label='Tree')\n",
    "ax.plot(recallLog_RUS, precisionLog_RUS, label='Log')\n",
    "ax.plot(recallSVC_RUS, precisionSVC_RUS, label='SVC')\n",
    "ax.plot(recallKNN_RUS, precisionKNN_RUS, label='KNN')\n",
    "ax.plot(recallRFC_RUS, precisionRFC_RUS, label='RFC')\n",
    "\n",
    "ax.legend()\n",
    "plt.show()"
   ]
  },
  {
   "cell_type": "code",
   "execution_count": 46,
   "id": "da6998ad-ce1f-48d4-9531-69b4ca55d2a2",
   "metadata": {},
   "outputs": [
    {
     "name": "stdout",
     "output_type": "stream",
     "text": [
      "0.45591395591445655\n",
      "0.7177264329605954\n",
      "0.6152583149080748\n",
      "0.49345655068764066\n",
      "0.6504912358563952\n"
     ]
    }
   ],
   "source": [
    "# Avaliando a área abaixo da curva de cada um dos casos (Após a mundança em Times e Amount)\n",
    "\n",
    "print(metrics.auc(recallTree_RUS, precisionTree_RUS))\n",
    "print(metrics.auc(recallLog_RUS, precisionLog_RUS))\n",
    "print(metrics.auc(recallSVC_RUS, precisionSVC_RUS))\n",
    "print(metrics.auc(recallKNN_RUS, precisionKNN_RUS))\n",
    "print(metrics.auc(recallRFC_RUS, precisionRFC_RUS))"
   ]
  }
 ],
 "metadata": {
  "kernelspec": {
   "display_name": "Python 3 (ipykernel)",
   "language": "python",
   "name": "python3"
  },
  "language_info": {
   "codemirror_mode": {
    "name": "ipython",
    "version": 3
   },
   "file_extension": ".py",
   "mimetype": "text/x-python",
   "name": "python",
   "nbconvert_exporter": "python",
   "pygments_lexer": "ipython3",
   "version": "3.12.4"
  }
 },
 "nbformat": 4,
 "nbformat_minor": 5
}
