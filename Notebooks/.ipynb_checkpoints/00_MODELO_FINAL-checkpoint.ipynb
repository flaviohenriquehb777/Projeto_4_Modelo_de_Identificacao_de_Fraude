{
 "cells": [
  {
   "cell_type": "markdown",
   "id": "e102664b",
   "metadata": {},
   "source": [
    "# Modelo de Identificação de Fraudes\n",
    "\n",
    "- Informações da base:\n",
    "    - 'Time' (tempo): contém os segundos decorridos entre cada transação e a primeira transação no conjunto de dados. \n",
    "    - 'Amount' (valor): é o valor da transação \n",
    "    - 'Class' (classe): é a variável de resposta e assume valor 1 em caso de fraude e 0 caso contrário.\n",
    "    - \"Infelizmente, devido a questões de confidencialidade, não podemos fornecer os recursos originais e mais informações básicas sobre os dados. Características V1, V2, … V28 são os principais componentes obtidos com PCA\""
   ]
  },
  {
   "cell_type": "code",
   "execution_count": 2,
   "id": "e165df18",
   "metadata": {},
   "outputs": [],
   "source": [
    "import pandas as pd\n",
    "import numpy as np\n",
    "import seaborn as sns\n",
    "import joblib\n",
    "\n",
    "from sklearn.preprocessing import PowerTransformer, MinMaxScaler\n",
    "from sklearn.linear_model import LogisticRegression\n",
    "from sklearn import metrics\n",
    "from sklearn.model_selection import train_test_split, GridSearchCV\n",
    "from imblearn.under_sampling import RandomUnderSampler\n",
    "\n",
    "from sklearn.metrics import (\n",
    "    confusion_matrix, \n",
    "    accuracy_score, \n",
    "    precision_score, \n",
    "    recall_score,\n",
    "    precision_recall_curve,\n",
    ")\n",
    "\n",
    "import warnings\n",
    "from src.config import DADOS_MASTERCARD_TRATADO\n",
    "\n",
    "warnings.filterwarnings('ignore')\n",
    "sns.set_theme(palette=\"bright\")"
   ]
  },
  {
   "cell_type": "code",
   "execution_count": 3,
   "id": "fa49d0a7",
   "metadata": {},
   "outputs": [],
   "source": [
    "# Importando a base\n",
    "\n",
    "transacoes = pd.read_parquet(DADOS_MASTERCARD_TRATADO)"
   ]
  },
  {
   "cell_type": "code",
   "execution_count": 4,
   "id": "3ec865b9-e16d-4c56-85dd-8c6c3c52b776",
   "metadata": {},
   "outputs": [],
   "source": [
    "# Verificar se todos os valores podem ser convertidos para inteiro (sem valores decimais)\n",
    "\n",
    "if (transacoes['Time'] == transacoes['Time'].astype(int)).all():\n",
    "    \n",
    "    # Se todos os valores são inteiros, realizar a conversão\n",
    "    \n",
    "    transacoes['Time'] = transacoes['Time'].astype(int)\n",
    "   \n",
    "else:\n",
    "    print(\"Nem todos os valores na coluna 'Time' podem ser convertidos para inteiro.\")"
   ]
  },
  {
   "cell_type": "markdown",
   "id": "69dd073f-b1eb-4d6a-b441-ac07111a9678",
   "metadata": {},
   "source": [
    "### Pré-processamento: \n",
    "\n",
    "**- Utilizaremos o PowerTransformer devido ao grande número de outliers, exceto em 'Time'.**<br>\n",
    "**- Em 'Time' utilizaremos o MinMaxScaler.**"
   ]
  },
  {
   "cell_type": "code",
   "execution_count": 6,
   "id": "1f391c2e-03fe-42c4-837d-1a3687f469d9",
   "metadata": {},
   "outputs": [],
   "source": [
    "# Selecionar as colunas para normalização (exceto 'Class' e 'Time')\n",
    "\n",
    "colunas_para_normalizar = [col for col in transacoes.columns if col not in ['Class', 'Time']]\n",
    "\n",
    "# Inicializar o PowerTransformer (Yeo-Johnson)\n",
    "\n",
    "pt = PowerTransformer(method='yeo-johnson')\n",
    "\n",
    "# Inicializar o MinMaxScaler para a coluna 'Time'\n",
    "\n",
    "scaler = MinMaxScaler()\n",
    "\n",
    "# Criar uma cópia do DataFrame para preservar o original\n",
    "\n",
    "transacoes_normalizadas = transacoes.copy()\n",
    "\n",
    "# Normalizar as colunas com PowerTransformer (exceto 'Class' e 'Time')\n",
    "\n",
    "transacoes_normalizadas[colunas_para_normalizar] = pt.fit_transform(transacoes[colunas_para_normalizar])\n",
    "\n",
    "# Normalizar a coluna 'Time' com MinMaxScaler\n",
    "\n",
    "transacoes_normalizadas[['Time']] = scaler.fit_transform(transacoes[['Time']])"
   ]
  },
  {
   "cell_type": "markdown",
   "id": "34bd3208",
   "metadata": {},
   "source": [
    "### Criando um modelo de aprendizado de máquinas para identificar fraude"
   ]
  },
  {
   "cell_type": "markdown",
   "id": "25ea096f",
   "metadata": {},
   "source": [
    "**Podemos ajustar as colunas Time e Amount para que elas fiquem entre 0 e 1**"
   ]
  },
  {
   "cell_type": "code",
   "execution_count": 9,
   "id": "58576387",
   "metadata": {},
   "outputs": [],
   "source": [
    "# Separando X e y\n",
    "\n",
    "X = transacoes_normalizadas.drop('Class',axis=1)\n",
    "y = transacoes_normalizadas.Class"
   ]
  },
  {
   "cell_type": "markdown",
   "id": "21f9536b",
   "metadata": {},
   "source": [
    "### Separando em treino e teste"
   ]
  },
  {
   "cell_type": "code",
   "execution_count": 11,
   "id": "a2987b97",
   "metadata": {},
   "outputs": [],
   "source": [
    "# Separando em treino e teste\n",
    "\n",
    "X_train, X_test, y_train, y_test = train_test_split(X, y, test_size=0.33, random_state=0,stratify=y)"
   ]
  },
  {
   "cell_type": "markdown",
   "id": "7b69267e",
   "metadata": {},
   "source": [
    "### Realizando o random undersampling"
   ]
  },
  {
   "cell_type": "code",
   "execution_count": 13,
   "id": "309c818d",
   "metadata": {},
   "outputs": [],
   "source": [
    "# Definindo o RandomUnderSampler\n",
    "\n",
    "rus = RandomUnderSampler(random_state=42)"
   ]
  },
  {
   "cell_type": "code",
   "execution_count": 14,
   "id": "964fcdf4",
   "metadata": {},
   "outputs": [],
   "source": [
    "# Definindo a nova amostra\n",
    "\n",
    "X_resRU, y_resRU = rus.fit_resample(X_train, y_train)"
   ]
  },
  {
   "cell_type": "markdown",
   "id": "964e2462-730f-4d3c-9a50-03d634c1f2e0",
   "metadata": {},
   "source": [
    "### Regressão Logística:\n",
    "\n",
    "**Utilizaremos a Regressão Logística. Pois foi o estimador com o melhor desempenho.**"
   ]
  },
  {
   "cell_type": "code",
   "execution_count": 16,
   "id": "92c1b125",
   "metadata": {},
   "outputs": [
    {
     "data": {
      "text/plain": [
       "array([[85420,  8405],\n",
       "       [   13,   149]], dtype=int64)"
      ]
     },
     "execution_count": 16,
     "metadata": {},
     "output_type": "execute_result"
    }
   ],
   "source": [
    "# Utilizando a Regressão Logística\n",
    "\n",
    "clf_RL = LogisticRegression(random_state=0,\n",
    "                            C=0.001,\n",
    "                            solver='liblinear').fit(X_resRU, y_resRU)\n",
    "\n",
    "y_pred_RL = clf_RL.predict(X_test)\n",
    "\n",
    "confusion_matrix(y_test,y_pred_RL)"
   ]
  },
  {
   "cell_type": "code",
   "execution_count": 17,
   "id": "4c29d684-1b43-48d4-a000-cf65777baf9d",
   "metadata": {},
   "outputs": [
    {
     "data": {
      "text/plain": [
       "0.9197530864197531"
      ]
     },
     "execution_count": 17,
     "metadata": {},
     "output_type": "execute_result"
    }
   ],
   "source": [
    "# Avaliando o modelo\n",
    "\n",
    "recall_score(y_test,y_pred_RL)"
   ]
  },
  {
   "cell_type": "markdown",
   "id": "8f4a4467",
   "metadata": {},
   "source": [
    "### Para melhorar, podemos adicionar novos parâmetros."
   ]
  },
  {
   "cell_type": "markdown",
   "id": "d40c608d",
   "metadata": {},
   "source": [
    "**E novamente utilizar o GridSearchCV**"
   ]
  },
  {
   "cell_type": "code",
   "execution_count": 20,
   "id": "27ebfb4f",
   "metadata": {},
   "outputs": [],
   "source": [
    "# Adicionando novos parâmetros\n",
    "\n",
    "parametros = {\n",
    "    'C': [0.001,0.01,0.1,1,10,100,1000],\n",
    "    'solver': ['newton-cg','lbfgs','liblinear','sag','saga']\n",
    "}"
   ]
  },
  {
   "cell_type": "code",
   "execution_count": 21,
   "id": "90b00df0",
   "metadata": {},
   "outputs": [],
   "source": [
    "# Selecionando a Regressão Logística\n",
    "\n",
    "LogReg = LogisticRegression(random_state=0)"
   ]
  },
  {
   "cell_type": "code",
   "execution_count": 22,
   "id": "01a383e7",
   "metadata": {},
   "outputs": [],
   "source": [
    "# Criando o classificador\n",
    "\n",
    "clf_RL2 = GridSearchCV(LogReg, parametros,\n",
    "                       scoring='recall'\n",
    "                      ).fit(X_resRU,y_resRU)"
   ]
  },
  {
   "cell_type": "code",
   "execution_count": 23,
   "id": "368271e9-de19-4992-a285-cc547575bb01",
   "metadata": {},
   "outputs": [
    {
     "data": {
      "text/plain": [
       "{'C': 0.001, 'solver': 'liblinear'}"
      ]
     },
     "execution_count": 23,
     "metadata": {},
     "output_type": "execute_result"
    }
   ],
   "source": [
    "clf_RL2.best_params_"
   ]
  },
  {
   "cell_type": "code",
   "execution_count": 24,
   "id": "b3c1bdf1",
   "metadata": {},
   "outputs": [
    {
     "data": {
      "text/plain": [
       "array([[85420,  8405],\n",
       "       [   13,   149]], dtype=int64)"
      ]
     },
     "execution_count": 24,
     "metadata": {},
     "output_type": "execute_result"
    }
   ],
   "source": [
    "# E avaliando o modelo\n",
    "\n",
    "y_pred_RL2 = clf_RL2.predict(X_test)\n",
    "\n",
    "confusion_matrix(y_test,y_pred_RL2)"
   ]
  },
  {
   "cell_type": "code",
   "execution_count": 25,
   "id": "d6cc1249-729a-4f14-9e4a-9c9a419c34e5",
   "metadata": {},
   "outputs": [
    {
     "data": {
      "text/plain": [
       "0.9104344217817357"
      ]
     },
     "execution_count": 25,
     "metadata": {},
     "output_type": "execute_result"
    }
   ],
   "source": [
    "# Utilizando a Acurácia\n",
    "\n",
    "accuracy_score(y_test, y_pred_RL2)"
   ]
  },
  {
   "cell_type": "code",
   "execution_count": 26,
   "id": "5322d1bd-42d2-4315-ba46-f73b2b962b97",
   "metadata": {},
   "outputs": [
    {
     "data": {
      "text/plain": [
       "0.9981544773261866"
      ]
     },
     "execution_count": 26,
     "metadata": {},
     "output_type": "execute_result"
    }
   ],
   "source": [
    "# Utilizando a Precisão\n",
    "\n",
    "precision_score(y_test, y_pred_RL2, average='weighted')"
   ]
  },
  {
   "cell_type": "code",
   "execution_count": 27,
   "id": "e0f6c941",
   "metadata": {},
   "outputs": [
    {
     "data": {
      "text/plain": [
       "0.9197530864197531"
      ]
     },
     "execution_count": 27,
     "metadata": {},
     "output_type": "execute_result"
    }
   ],
   "source": [
    "# Recall com todos os parâmetros\n",
    "\n",
    "recall_score(y_test,y_pred_RL2)"
   ]
  },
  {
   "cell_type": "markdown",
   "id": "7111723f",
   "metadata": {},
   "source": [
    "## CONCLUSÃO:"
   ]
  },
  {
   "cell_type": "markdown",
   "id": "2bcadbed",
   "metadata": {},
   "source": [
    "**Chegamos ao melhor resultado, dado o fator tempo e os termos acortados com a empresa, utilizando o algoritmo REGRESSÃO LOGÍSTICA com os seguintes termos:**\n",
    "- Balanceando o dataset utilizando o random undersampling;\n",
    "- Utilizando GridSearchCV para diferentes parâmetros de 'C' e 'solver';\n",
    "- Utilizando scoring para 'recall."
   ]
  },
  {
   "cell_type": "markdown",
   "id": "12993a87",
   "metadata": {},
   "source": [
    "## Resultado da avaliação final do modelo: \n",
    "\n",
    "### acurácia = 91,04%\n",
    "\n",
    "### precisão = 99,82%\n",
    "\n",
    "### recall = 91,98%\n",
    "\n",
    "Alto desempenho geral: O modelo evita falsos positivos (alta precisão) e detecta a maioria das fraudes (alto recall).\n",
    "Pouquíssimos falsos positivos: A altíssima precisão (99,82%) indica que quase todas as transações rotuladas como fraude realmente são fraudes.\n",
    "Baixa taxa de falsos negativos: Um recall de 91,98% indica que o modelo perde apenas cerca de 8% das fraudes, o que é um desempenho muito bom.\n",
    "Acurácia moderadamente alta: A acurácia de 91,04% pode ser um reflexo da boa performance do modelo, mas deve sempre ser analisada em conjunto com precisão e recall.\n",
    "\n",
    "🔹 Esse modelo é bem equilibrado entre detectar fraudes e evitar falsos alarmes."
   ]
  },
  {
   "cell_type": "code",
   "execution_count": 31,
   "id": "a75a3ad0-ac0f-4ef5-b8ff-723275b80d83",
   "metadata": {},
   "outputs": [
    {
     "name": "stdout",
     "output_type": "stream",
     "text": [
      "Modelo salvo em: ../dados/modelo_fraude.pkl\n"
     ]
    }
   ],
   "source": [
    "import joblib\n",
    "import os\n",
    "\n",
    "# Criando o diretório 'dados/' caso não exista\n",
    "caminho_dados = '../dados/'\n",
    "os.makedirs(caminho_dados, exist_ok=True)\n",
    "\n",
    "# Caminho completo do arquivo\n",
    "caminho_modelo = os.path.join(caminho_dados, 'modelo_fraude.pkl')\n",
    "\n",
    "# Salvando o modelo\n",
    "joblib.dump(clf_RL2, caminho_modelo)\n",
    "print(f\"Modelo salvo em: {caminho_modelo}\")\n"
   ]
  }
 ],
 "metadata": {
  "kernelspec": {
   "display_name": "Python 3 (ipykernel)",
   "language": "python",
   "name": "python3"
  },
  "language_info": {
   "codemirror_mode": {
    "name": "ipython",
    "version": 3
   },
   "file_extension": ".py",
   "mimetype": "text/x-python",
   "name": "python",
   "nbconvert_exporter": "python",
   "pygments_lexer": "ipython3",
   "version": "3.12.4"
  }
 },
 "nbformat": 4,
 "nbformat_minor": 5
}
