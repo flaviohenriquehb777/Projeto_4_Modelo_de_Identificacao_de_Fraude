{
 "cells": [
  {
   "cell_type": "markdown",
   "id": "5a715ad7-4b5b-4ef9-994c-4a208c02e007",
   "metadata": {},
   "source": [
    "# Modelo de Identificação de Fraudes\n",
    "\n",
    "- Informações da base:\n",
    "    - 'Time' (tempo): contém os segundos decorridos entre cada transação e a primeira transação no conjunto de dados. \n",
    "    - 'Amount' (valor): é o valor da transação \n",
    "    - 'Class' (classe): é a variável de resposta e assume valor 1 em caso de fraude e 0 caso contrário.\n",
    "    - \"Infelizmente, devido a questões de confidencialidade, não podemos fornecer os recursos originais e mais informações básicas sobre os dados. Características V1, V2, … V28 são os principais componentes obtidos com PCA\""
   ]
  },
  {
   "cell_type": "code",
   "execution_count": 2,
   "id": "a611bf4e-c8ac-442b-9eeb-27b7ad21f455",
   "metadata": {},
   "outputs": [],
   "source": [
    "import pandas as pd\n",
    "import matplotlib.pyplot as plt\n",
    "import seaborn as sns\n",
    "import numpy as np\n",
    "import datetime as dt\n",
    "import xgboost as xgb\n",
    "\n",
    "from scipy.stats import kstest, normaltest, anderson\n",
    "\n",
    "from sklearn.preprocessing import PowerTransformer, MinMaxScaler\n",
    "\n",
    "from sklearn.linear_model import LogisticRegression\n",
    "from sklearn.ensemble import RandomForestClassifier\n",
    "from sklearn import tree, metrics\n",
    "from sklearn.neighbors import KNeighborsClassifier\n",
    "from sklearn.svm import SVC\n",
    "\n",
    "from sklearn.feature_selection import SelectKBest, f_classif\n",
    "\n",
    "from sklearn.model_selection import train_test_split, GridSearchCV\n",
    "from imblearn.under_sampling import RandomUnderSampler, ClusterCentroids, NearMiss \n",
    "from imblearn.over_sampling import RandomOverSampler, SMOTE, ADASYN\n",
    "from imblearn.combine import SMOTEENN\n",
    "\n",
    "from sklearn.metrics import (\n",
    "    confusion_matrix, \n",
    "    accuracy_score, \n",
    "    precision_score, \n",
    "    recall_score,\n",
    "    precision_recall_curve,\n",
    ")\n",
    "\n",
    "import warnings\n",
    "from src.config import DADOS_CREDICARD, DADOS_CREDICARD_TRATADO\n",
    "from src.auxiliares_ml import downcast_dataframe, testar_modelos_com_undersampling\n",
    "\n",
    "warnings.filterwarnings('ignore')\n",
    "sns.set_theme(palette=\"bright\")"
   ]
  },
  {
   "cell_type": "code",
   "execution_count": 3,
   "id": "ab5b51db-480e-4449-9ba1-734ebe25c795",
   "metadata": {},
   "outputs": [],
   "source": [
    "# Importando a base\n",
    "\n",
    "transacoes = pd.read_parquet(DADOS_CREDICARD_TRATADO)"
   ]
  },
  {
   "cell_type": "code",
   "execution_count": 4,
   "id": "2b5dc16c-f719-4564-aff6-a457901edbf2",
   "metadata": {},
   "outputs": [],
   "source": [
    "# Separando X e y\n",
    "\n",
    "X = transacoes.drop(columns='Class')\n",
    "y = transacoes['Class']"
   ]
  },
  {
   "cell_type": "code",
   "execution_count": 5,
   "id": "b6f7c15f-88ab-49a2-917a-756af3c7b103",
   "metadata": {},
   "outputs": [],
   "source": [
    "# Separando em treino e teste\n",
    "\n",
    "X_train, X_test, y_train, y_test = train_test_split(X, y, test_size=0.33, random_state=0,stratify=y)"
   ]
  },
  {
   "cell_type": "markdown",
   "id": "80386853-81fc-4b96-88a0-12c1c9844c3f",
   "metadata": {},
   "source": [
    "### OBSERVAÇÃO:\n",
    "**Podemos observar que, já que queremos detectar fraudes, ou seja o que é 1, precisamos melhorar a precisão e o recall.**"
   ]
  },
  {
   "cell_type": "markdown",
   "id": "f79ed35e-6345-46e7-aaed-3ad5724f6b63",
   "metadata": {},
   "source": [
    "**PRÉ-PROCESSAMENTO**: Fazendo o balanceamento com UnderSampler"
   ]
  },
  {
   "cell_type": "markdown",
   "id": "54ec18f8-d344-4a65-b999-f4174c53f0be",
   "metadata": {},
   "source": [
    "### Utilizando o RandomUnderSampler"
   ]
  },
  {
   "cell_type": "code",
   "execution_count": 9,
   "id": "391ccb47-57e6-47ea-beb0-d949180b14c9",
   "metadata": {},
   "outputs": [],
   "source": [
    "# Definindo o RandomUnderSampler\n",
    "\n",
    "rus = RandomUnderSampler(random_state=42)\n",
    "\n",
    "# Definindo a nova amostra\n",
    "\n",
    "X_resRUS, y_resRUS = rus.fit_resample(X_train, y_train)"
   ]
  },
  {
   "cell_type": "markdown",
   "id": "c5189b49-1165-487f-8469-b6bf2077ac15",
   "metadata": {},
   "source": [
    "### XGBoost "
   ]
  },
  {
   "cell_type": "code",
   "execution_count": 11,
   "id": "75d3c4ff-c789-4863-8e03-c80751225adc",
   "metadata": {},
   "outputs": [
    {
     "data": {
      "text/plain": [
       "array([[87263,  6562],\n",
       "       [   14,   148]], dtype=int64)"
      ]
     },
     "execution_count": 11,
     "metadata": {},
     "output_type": "execute_result"
    }
   ],
   "source": [
    "# Criando o modelo XGBoost\n",
    "\n",
    "modelo_xgb_RUS = xgb.XGBClassifier(\n",
    "    max_depth=9,\n",
    "    n_estimators=200,\n",
    "    learning_rate=0.3,\n",
    "    random_state=0,\n",
    "    scale_pos_weight=(y.value_counts()[0] / y.value_counts()[1])  # Lida com desbalanceamento\n",
    ")\n",
    "\n",
    "# Treinando e avaliando o modelo\n",
    "\n",
    "modelo_xgb_RUS.fit(X_resRUS, y_resRUS)\n",
    "y_pred_xgb_RUS = modelo_xgb_RUS.predict(X_test)\n",
    "\n",
    "# Calculando as métricas\n",
    "\n",
    "acc_xgb = accuracy_score(y_test, y_pred_xgb_RUS)\n",
    "prec_xgb = precision_score(y_test, y_pred_xgb_RUS)\n",
    "rec_xgb = recall_score(y_test, y_pred_xgb_RUS)\n",
    "\n",
    "# Vusualizando a matriz confusão\n",
    "\n",
    "confusion_matrix(y_test, y_pred_xgb_RUS)"
   ]
  },
  {
   "cell_type": "code",
   "execution_count": 12,
   "id": "66c157e9-64bd-4274-8288-4f617df8f29c",
   "metadata": {},
   "outputs": [
    {
     "name": "stdout",
     "output_type": "stream",
     "text": [
      "Acurácia: 0.9300328768872291\n",
      "Precisão: 0.022056631892697468\n",
      "Recall: 0.9135802469135802\n"
     ]
    }
   ],
   "source": [
    "# Utilizando as métricas de avaliação\n",
    "\n",
    "print('Acurácia:', accuracy_score(y_test, y_pred_xgb_RUS))\n",
    "print('Precisão:', precision_score(y_test, y_pred_xgb_RUS))\n",
    "print('Recall:', recall_score(y_test, y_pred_xgb_RUS, pos_label=1))"
   ]
  },
  {
   "cell_type": "markdown",
   "id": "49da1c79-6664-4003-acb3-6891ccd2aeae",
   "metadata": {},
   "source": [
    "### Random Forest"
   ]
  },
  {
   "cell_type": "code",
   "execution_count": 14,
   "id": "f201bb51-f26e-4bde-9dbf-0f32861a327b",
   "metadata": {},
   "outputs": [
    {
     "data": {
      "text/plain": [
       "array([[92022,  1803],\n",
       "       [   21,   141]], dtype=int64)"
      ]
     },
     "execution_count": 14,
     "metadata": {},
     "output_type": "execute_result"
    }
   ],
   "source": [
    "# Utilizando o Random Forest\n",
    "\n",
    "clf_RF_RUS = RandomForestClassifier(\n",
    "    max_depth=7,  \n",
    "    random_state=0,\n",
    "    criterion='gini',\n",
    "    n_estimators=100,  \n",
    "    class_weight='balanced_subsample' \n",
    ").fit(X_resRUS, y_resRUS)\n",
    "\n",
    "y_pred_RF_RUS = clf_RF_RUS.predict(X_test)\n",
    "\n",
    "# Vusualizando a matriz confusão\n",
    "\n",
    "confusion_matrix(y_test, y_pred_RF_RUS)"
   ]
  },
  {
   "cell_type": "code",
   "execution_count": 15,
   "id": "7a7c04b7-f23b-405e-9cc2-7760f6a29ae4",
   "metadata": {},
   "outputs": [
    {
     "name": "stdout",
     "output_type": "stream",
     "text": [
      "Acurácia: 0.9805930607424431\n",
      "Precisão: 0.07253086419753087\n",
      "Recall: 0.8703703703703703\n"
     ]
    }
   ],
   "source": [
    "# Utilizando as métricas de avaliação\n",
    "\n",
    "print('Acurácia:', accuracy_score(y_test, y_pred_RF_RUS))\n",
    "print('Precisão:', precision_score(y_test, y_pred_RF_RUS))\n",
    "print('Recall:', recall_score(y_test, y_pred_RF_RUS))"
   ]
  },
  {
   "cell_type": "markdown",
   "id": "153e42b8-53fc-418e-99dd-2497c030a26e",
   "metadata": {},
   "source": [
    "### Regressão Logística"
   ]
  },
  {
   "cell_type": "code",
   "execution_count": 17,
   "id": "c158bb48-d3c8-4650-94ea-e3da6f10a751",
   "metadata": {},
   "outputs": [
    {
     "data": {
      "text/plain": [
       "array([[90932,  2893],\n",
       "       [   16,   146]], dtype=int64)"
      ]
     },
     "execution_count": 17,
     "metadata": {},
     "output_type": "execute_result"
    }
   ],
   "source": [
    "# Utilizando a Regressão Logística\n",
    "\n",
    "clfLog_RUS = LogisticRegression(random_state=0).fit(X_resRUS, y_resRUS)\n",
    "\n",
    "# Calculando as métricas\n",
    "\n",
    "y_predLog_RUS = clfLog_RUS.predict(X_test)\n",
    "y_pred_probaLog_RUS = clfLog_RUS.predict_proba(X_test)[:,1]\n",
    "\n",
    "# Vusualizando a matriz confusão\n",
    "\n",
    "confusion_matrix(y_test, y_predLog_RUS)"
   ]
  },
  {
   "cell_type": "code",
   "execution_count": 18,
   "id": "3583a32b-a10d-45f2-a719-82c03e2ad3b2",
   "metadata": {},
   "outputs": [
    {
     "name": "stdout",
     "output_type": "stream",
     "text": [
      "Acurácia: 0.9690489110196091\n",
      "Precisão: 0.048042119118130965\n",
      "Recall: 0.9012345679012346\n"
     ]
    }
   ],
   "source": [
    "# Utilizando as métricas de avaliação\n",
    "\n",
    "print('Acurácia:', accuracy_score(y_test, y_predLog_RUS))\n",
    "print('Precisão:', precision_score(y_test, y_predLog_RUS))\n",
    "print('Recall:', recall_score(y_test, y_predLog_RUS))"
   ]
  },
  {
   "cell_type": "markdown",
   "id": "c44fd227-d1e6-4a1f-a1f1-385fb4e57c54",
   "metadata": {},
   "source": [
    "### SVC"
   ]
  },
  {
   "cell_type": "code",
   "execution_count": 20,
   "id": "d16c72df-84ab-4d1b-81c6-aba1b1550e43",
   "metadata": {},
   "outputs": [
    {
     "data": {
      "text/plain": [
       "array([[42859, 50966],\n",
       "       [   54,   108]], dtype=int64)"
      ]
     },
     "execution_count": 20,
     "metadata": {},
     "output_type": "execute_result"
    }
   ],
   "source": [
    "# Utilizando o SVC\n",
    "\n",
    "clfSVC_RUS = SVC(random_state=0, probability=True).fit(X_resRUS, y_resRUS)\n",
    "\n",
    "# Fazendo a previsão\n",
    "\n",
    "y_predSVC_RUS = clfSVC_RUS.predict(X_test)\n",
    "y_pred_probaSVC_RUS = clfSVC_RUS.predict_proba(X_test)[:,1]\n",
    "\n",
    "# Visualizando a matriz confusão\n",
    "\n",
    "confusion_matrix(y_test, y_predSVC_RUS)"
   ]
  },
  {
   "cell_type": "code",
   "execution_count": 21,
   "id": "8c61afad-938f-4cb0-a1f5-dcb580f5cd02",
   "metadata": {},
   "outputs": [
    {
     "name": "stdout",
     "output_type": "stream",
     "text": [
      "Acurácia: 0.45715896879355655\n",
      "Precisão: 0.0021145788463797625\n",
      "Recall: 0.6666666666666666\n"
     ]
    }
   ],
   "source": [
    "# Utilizando as métricas de avaliação\n",
    "\n",
    "print('Acurácia:', accuracy_score(y_test, y_predSVC_RUS))\n",
    "print('Precisão:', precision_score(y_test, y_predSVC_RUS))\n",
    "print('Recall:', recall_score(y_test, y_predSVC_RUS))"
   ]
  },
  {
   "cell_type": "markdown",
   "id": "e97428ed-46d9-4dbf-858d-47779705b087",
   "metadata": {},
   "source": [
    "### Utilizando o ClusterCentroids"
   ]
  },
  {
   "cell_type": "code",
   "execution_count": 23,
   "id": "66eeb32e-908a-43de-94a4-35c4756bcc67",
   "metadata": {},
   "outputs": [],
   "source": [
    "# Definindo ClusterCentroids\n",
    "\n",
    "cc = ClusterCentroids(random_state=42)\n",
    "\n",
    "# Criando a amostra dos dados\n",
    "\n",
    "X_res_CC, y_res_CC = cc.fit_resample(X_train, y_train)"
   ]
  },
  {
   "cell_type": "markdown",
   "id": "d413f246-05b3-4b7a-a4e6-a81a0e713aad",
   "metadata": {},
   "source": [
    "### XGBoost "
   ]
  },
  {
   "cell_type": "code",
   "execution_count": 25,
   "id": "e4d9e68b-e3eb-46b5-807c-07517e9de435",
   "metadata": {},
   "outputs": [
    {
     "data": {
      "text/plain": [
       "array([[16738, 77087],\n",
       "       [    0,   162]], dtype=int64)"
      ]
     },
     "execution_count": 25,
     "metadata": {},
     "output_type": "execute_result"
    }
   ],
   "source": [
    "# Criando o modelo XGBoost\n",
    "\n",
    "modelo_xgb_CC = xgb.XGBClassifier(\n",
    "    max_depth=9,\n",
    "    n_estimators=200,\n",
    "    learning_rate=0.3,\n",
    "    random_state=0,\n",
    "    scale_pos_weight=(y.value_counts()[0] / y.value_counts()[1])  # Lida com desbalanceamento\n",
    ")\n",
    "\n",
    "# Treinando e avaliando o modelo\n",
    "\n",
    "modelo_xgb_CC.fit(X_res_CC, y_res_CC)\n",
    "y_pred_xgb_CC = modelo_xgb_CC.predict(X_test)\n",
    "\n",
    "# Calculando as métricas\n",
    "\n",
    "acc_xgb = accuracy_score(y_test, y_pred_xgb_CC)\n",
    "prec_xgb = precision_score(y_test, y_pred_xgb_CC)\n",
    "rec_xgb = recall_score(y_test, y_pred_xgb_CC)\n",
    "\n",
    "# Vusualizando a matriz confusão\n",
    "\n",
    "confusion_matrix(y_test, y_pred_xgb_CC)"
   ]
  },
  {
   "cell_type": "code",
   "execution_count": 26,
   "id": "55e744c8-211c-4094-b067-fb70eb83d470",
   "metadata": {},
   "outputs": [
    {
     "name": "stdout",
     "output_type": "stream",
     "text": [
      "Acurácia: 0.1798121016736357\n",
      "Precisão: 0.0020971145257543786\n",
      "Recall: 1.0\n"
     ]
    }
   ],
   "source": [
    "# Utilizando as métricas de avaliação\n",
    "\n",
    "print('Acurácia:', accuracy_score(y_test, y_pred_xgb_CC))\n",
    "print('Precisão:', precision_score(y_test, y_pred_xgb_CC))\n",
    "print('Recall:', recall_score(y_test, y_pred_xgb_CC, pos_label=1))"
   ]
  },
  {
   "cell_type": "markdown",
   "id": "d19377c0-69b3-450e-a4ea-4972d049c249",
   "metadata": {},
   "source": [
    "### Random Forest"
   ]
  },
  {
   "cell_type": "code",
   "execution_count": 28,
   "id": "e6e53c37-a7ae-4b2c-9ce8-ce0cc161fd0f",
   "metadata": {},
   "outputs": [
    {
     "data": {
      "text/plain": [
       "array([[ 7252, 86573],\n",
       "       [    1,   161]], dtype=int64)"
      ]
     },
     "execution_count": 28,
     "metadata": {},
     "output_type": "execute_result"
    }
   ],
   "source": [
    "# Utilizando o Random Forest\n",
    "\n",
    "clf_RF_CC = RandomForestClassifier(\n",
    "    max_depth=7,  \n",
    "    random_state=0,\n",
    "    criterion='gini',\n",
    "    n_estimators=100,  \n",
    "    class_weight='balanced_subsample' \n",
    ").fit(X_res_CC, y_res_CC)\n",
    "\n",
    "y_pred_RF_CC = clf_RF_CC.predict(X_test)\n",
    "\n",
    "# Vusualizando a matriz confusão\n",
    "\n",
    "confusion_matrix(y_test, y_pred_RF_CC)"
   ]
  },
  {
   "cell_type": "code",
   "execution_count": 29,
   "id": "2e830779-f720-4612-9b9b-7b3bf3d06b40",
   "metadata": {},
   "outputs": [
    {
     "name": "stdout",
     "output_type": "stream",
     "text": [
      "Acurácia: 0.0788726100418143\n",
      "Precisão: 0.0018562501441188\n",
      "Recall: 0.9938271604938271\n"
     ]
    }
   ],
   "source": [
    "# Utilizando as métricas de avaliação\n",
    "\n",
    "print('Acurácia:', accuracy_score(y_test, y_pred_RF_CC))\n",
    "print('Precisão:', precision_score(y_test, y_pred_RF_CC))\n",
    "print('Recall:', recall_score(y_test,y_pred_RF_CC))"
   ]
  },
  {
   "cell_type": "markdown",
   "id": "f5652d42-1fdf-462b-9f1b-fd4c2575b749",
   "metadata": {},
   "source": [
    "### Regressão Logística"
   ]
  },
  {
   "cell_type": "code",
   "execution_count": 31,
   "id": "6f19258d-5b4c-4f8b-9772-3df55b30d3ae",
   "metadata": {},
   "outputs": [
    {
     "data": {
      "text/plain": [
       "array([[84518,  9307],\n",
       "       [   12,   150]], dtype=int64)"
      ]
     },
     "execution_count": 31,
     "metadata": {},
     "output_type": "execute_result"
    }
   ],
   "source": [
    "# Utilizando a Regressão Logística\n",
    "\n",
    "clfLog_CC = LogisticRegression(random_state=0).fit(X_res_CC, y_res_CC)\n",
    "\n",
    "# Calculando as métricas\n",
    "\n",
    "y_predLog_CC = clfLog_CC.predict(X_test)\n",
    "y_pred_probaLog_CC = clfLog_RUS.predict_proba(X_test)[:,1]\n",
    "\n",
    "# Vusualizando a matriz confusão\n",
    "\n",
    "confusion_matrix(y_test, y_predLog_CC)"
   ]
  },
  {
   "cell_type": "code",
   "execution_count": 32,
   "id": "4c050b0b-d73d-4ae9-a6ae-e0252cfa2bb8",
   "metadata": {},
   "outputs": [
    {
     "name": "stdout",
     "output_type": "stream",
     "text": [
      "Acurácia: 0.9008479896155851\n",
      "Precisão: 0.015861266786507348\n",
      "Recall: 0.9259259259259259\n"
     ]
    }
   ],
   "source": [
    "# Utilizando as métricas de avaliação\n",
    "\n",
    "print('Acurácia:', accuracy_score(y_test, y_predLog_CC))\n",
    "print('Precisão:', precision_score(y_test, y_predLog_CC))\n",
    "print('Recall:', recall_score(y_test, y_predLog_CC))"
   ]
  },
  {
   "cell_type": "markdown",
   "id": "2d4addba-e49d-49ab-88dc-030f4d0bea9e",
   "metadata": {},
   "source": [
    "### SVC"
   ]
  },
  {
   "cell_type": "code",
   "execution_count": 34,
   "id": "3c9fe627-65c2-4057-a109-063f09a272f3",
   "metadata": {},
   "outputs": [
    {
     "data": {
      "text/plain": [
       "array([[44889, 48936],\n",
       "       [   79,    83]], dtype=int64)"
      ]
     },
     "execution_count": 34,
     "metadata": {},
     "output_type": "execute_result"
    }
   ],
   "source": [
    "# Utilizando o SVC\n",
    "\n",
    "clfSVC_CC = SVC(random_state=0, probability=True).fit(X_res_CC, y_res_CC)\n",
    "\n",
    "# Fazendo a previsão\n",
    "\n",
    "y_predSVC_CC = clfSVC_CC.predict(X_test)\n",
    "y_pred_probaSVC_CC = clfSVC_CC.predict_proba(X_test)[:,1]\n",
    "\n",
    "# Visualizando a matriz confusão\n",
    "\n",
    "confusion_matrix(y_test, y_predSVC_CC)"
   ]
  },
  {
   "cell_type": "code",
   "execution_count": 35,
   "id": "647f8c29-6d6a-4e7c-957f-de567223e8ea",
   "metadata": {},
   "outputs": [
    {
     "name": "stdout",
     "output_type": "stream",
     "text": [
      "Acurácia: 0.4784917062998074\n",
      "Precisão: 0.0016932209959403496\n",
      "Recall: 0.5123456790123457\n"
     ]
    }
   ],
   "source": [
    "# Utilizando as métricas de avaliação\n",
    "\n",
    "print('Acurácia:', accuracy_score(y_test, y_predSVC_CC))\n",
    "print('Precisão:', precision_score(y_test, y_predSVC_CC))\n",
    "print('Recall:', recall_score(y_test, y_predSVC_CC))"
   ]
  },
  {
   "cell_type": "markdown",
   "id": "0738f0a4-b9a2-4160-91d3-c195b0612784",
   "metadata": {},
   "source": [
    "### Utilizando o NearMiss"
   ]
  },
  {
   "cell_type": "code",
   "execution_count": 37,
   "id": "2945db4f-a4ae-4663-8a24-cbfaf9fb7c1e",
   "metadata": {},
   "outputs": [],
   "source": [
    "# Utilizando o NearMiss\n",
    "\n",
    "nm = NearMiss()\n",
    "\n",
    "# Criando a amostra dos dados\n",
    "\n",
    "X_res_NM, y_res_NM = nm.fit_resample(X_train, y_train)"
   ]
  },
  {
   "cell_type": "markdown",
   "id": "dc61c183-743b-4a7a-8a61-08b8abc894a1",
   "metadata": {},
   "source": [
    "### XGBoost "
   ]
  },
  {
   "cell_type": "code",
   "execution_count": 39,
   "id": "a02c22db-509c-4367-86e0-cd58c3faf75c",
   "metadata": {},
   "outputs": [
    {
     "data": {
      "text/plain": [
       "array([[66431, 27394],\n",
       "       [    7,   155]], dtype=int64)"
      ]
     },
     "execution_count": 39,
     "metadata": {},
     "output_type": "execute_result"
    }
   ],
   "source": [
    "# Criando o modelo XGBoost\n",
    "\n",
    "modelo_xgb_NM = xgb.XGBClassifier(\n",
    "    max_depth=9,\n",
    "    n_estimators=200,\n",
    "    learning_rate=0.3,\n",
    "    random_state=0,\n",
    "    scale_pos_weight=(y.value_counts()[0] / y.value_counts()[1])  # Lida com desbalanceamento\n",
    ")\n",
    "\n",
    "# Treinando e avaliando o modelo\n",
    "\n",
    "modelo_xgb_NM.fit(X_res_NM, y_res_NM)\n",
    "y_pred_xgb_NM = modelo_xgb_NM.predict(X_test)\n",
    "\n",
    "# Calculando as métricas\n",
    "\n",
    "acc_xgb = accuracy_score(y_test, y_pred_xgb_NM)\n",
    "prec_xgb = precision_score(y_test, y_pred_xgb_NM)\n",
    "rec_xgb = recall_score(y_test, y_pred_xgb_NM)\n",
    "\n",
    "# Vusualizando a matriz confusão\n",
    "\n",
    "confusion_matrix(y_test, y_pred_xgb_NM)"
   ]
  },
  {
   "cell_type": "code",
   "execution_count": 40,
   "id": "8516c372-d059-427e-b0e0-0ae021f6192b",
   "metadata": {},
   "outputs": [
    {
     "name": "stdout",
     "output_type": "stream",
     "text": [
      "Acurácia: 0.7084596805941247\n",
      "Precisão: 0.005626338524084359\n",
      "Recall: 0.9567901234567902\n"
     ]
    }
   ],
   "source": [
    "# Utilizando as métricas de avaliação\n",
    "\n",
    "print('Acurácia:', accuracy_score(y_test, y_pred_xgb_NM))\n",
    "print('Precisão:', precision_score(y_test, y_pred_xgb_NM))\n",
    "print('Recall:', recall_score(y_test, y_pred_xgb_NM, pos_label=1))"
   ]
  },
  {
   "cell_type": "markdown",
   "id": "87439124-256d-472c-9f67-8abddcc725a6",
   "metadata": {},
   "source": [
    "### Random Forest"
   ]
  },
  {
   "cell_type": "code",
   "execution_count": 42,
   "id": "d46aa1f5-10d4-4aef-8227-2b723c260070",
   "metadata": {},
   "outputs": [
    {
     "data": {
      "text/plain": [
       "array([[71471, 22354],\n",
       "       [   13,   149]], dtype=int64)"
      ]
     },
     "execution_count": 42,
     "metadata": {},
     "output_type": "execute_result"
    }
   ],
   "source": [
    "# Utilizando o Random Forest\n",
    "\n",
    "clf_RF_NM = RandomForestClassifier(\n",
    "    max_depth=7,  \n",
    "    random_state=0,\n",
    "    criterion='gini',\n",
    "    n_estimators=100,  \n",
    "    class_weight='balanced_subsample' \n",
    ").fit(X_res_NM, y_res_NM)\n",
    "\n",
    "y_pred_RF_NM = clf_RF_NM.predict(X_test)\n",
    "\n",
    "# Vusualizando a matriz confusão\n",
    "\n",
    "confusion_matrix(y_test, y_pred_RF_NM)"
   ]
  },
  {
   "cell_type": "code",
   "execution_count": 43,
   "id": "b3d8c7b3-ecdb-4c41-bd7b-bd4444289304",
   "metadata": {},
   "outputs": [
    {
     "name": "stdout",
     "output_type": "stream",
     "text": [
      "Acurácia: 0.7620202794003426\n",
      "Precisão: 0.006621339376971959\n",
      "Recall: 0.9197530864197531\n"
     ]
    }
   ],
   "source": [
    "# Utilizando as métricas de avaliação\n",
    "\n",
    "print('Acurácia:', accuracy_score(y_test, y_pred_RF_NM))\n",
    "print('Precisão:', precision_score(y_test, y_pred_RF_NM))\n",
    "print('Recall:', recall_score(y_test,y_pred_RF_NM))"
   ]
  },
  {
   "cell_type": "markdown",
   "id": "9df954c9-cbe1-488a-8c7b-68b7a460f82e",
   "metadata": {},
   "source": [
    "### SVC"
   ]
  },
  {
   "cell_type": "code",
   "execution_count": 45,
   "id": "26800926-e115-430a-b33f-063d4b5aa104",
   "metadata": {},
   "outputs": [
    {
     "data": {
      "text/plain": [
       "array([[39470, 54355],\n",
       "       [   52,   110]], dtype=int64)"
      ]
     },
     "execution_count": 45,
     "metadata": {},
     "output_type": "execute_result"
    }
   ],
   "source": [
    "# Utilizando o SVC\n",
    "\n",
    "clfSVC_NM = SVC(random_state=0, probability=True).fit(X_res_NM, y_res_NM)\n",
    "\n",
    "# Fazendo a previsão\n",
    "\n",
    "y_predSVC_NM = clfSVC_NM.predict(X_test)\n",
    "y_pred_probaSVC_NM = clfSVC_NM.predict_proba(X_test)[:,1]\n",
    "\n",
    "# Visualizando a matriz confusão\n",
    "\n",
    "confusion_matrix(y_test, y_predSVC_NM)"
   ]
  },
  {
   "cell_type": "code",
   "execution_count": 46,
   "id": "2298b330-5978-41b1-87bf-9d1e45c11607",
   "metadata": {},
   "outputs": [
    {
     "name": "stdout",
     "output_type": "stream",
     "text": [
      "Acurácia: 0.4211220700735208\n",
      "Precisão: 0.002019645643991554\n",
      "Recall: 0.6790123456790124\n"
     ]
    }
   ],
   "source": [
    "# Utilizando as métricas de avaliação\n",
    "\n",
    "print('Acurácia:', accuracy_score(y_test, y_predSVC_NM))\n",
    "print('Precisão:', precision_score(y_test, y_predSVC_NM))\n",
    "print('Recall:', recall_score(y_test, y_predSVC_NM))"
   ]
  },
  {
   "cell_type": "markdown",
   "id": "2483759f-bf8a-45a0-9073-7d4f4b3bab87",
   "metadata": {},
   "source": [
    "### OBSERVAÇÕES: \n",
    "\n",
    "- Em geral os resultados não foram bons. <br> \n",
    "- O único balanceamento que faz algum sentido é com RandomUnderSampler.<br>\n",
    "- Porém, há um desequilíbrio muito grande entre precisão e recall.<br>\n",
    "- Isso vai contra as expectativas da empresa para o modelo em questão."
   ]
  }
 ],
 "metadata": {
  "kernelspec": {
   "display_name": "Python 3 (ipykernel)",
   "language": "python",
   "name": "python3"
  },
  "language_info": {
   "codemirror_mode": {
    "name": "ipython",
    "version": 3
   },
   "file_extension": ".py",
   "mimetype": "text/x-python",
   "name": "python",
   "nbconvert_exporter": "python",
   "pygments_lexer": "ipython3",
   "version": "3.12.3"
  }
 },
 "nbformat": 4,
 "nbformat_minor": 5
}
