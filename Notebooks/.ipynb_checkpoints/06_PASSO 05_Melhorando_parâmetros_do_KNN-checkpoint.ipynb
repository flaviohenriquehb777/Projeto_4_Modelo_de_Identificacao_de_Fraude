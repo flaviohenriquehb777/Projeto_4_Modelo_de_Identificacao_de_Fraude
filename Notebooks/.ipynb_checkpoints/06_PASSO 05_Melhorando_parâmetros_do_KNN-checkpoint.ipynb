{
 "cells": [
  {
   "cell_type": "markdown",
   "id": "9a4514e9",
   "metadata": {},
   "source": [
    "# Modelo de Identificação de Fraudes"
   ]
  },
  {
   "cell_type": "code",
   "execution_count": 4,
   "id": "28ee7a83-5862-4bb6-a5eb-bcc34fa37818",
   "metadata": {},
   "outputs": [],
   "source": [
    "import pandas as pd\n",
    "import matplotlib.pyplot as plt\n",
    "import seaborn as sns\n",
    "import numpy as np\n",
    "import datetime as dt\n",
    "\n",
    "from scipy.stats import kstest, normaltest, anderson\n",
    "\n",
    "from sklearn.preprocessing import PowerTransformer, MinMaxScaler\n",
    "\n",
    "from sklearn.linear_model import LogisticRegression\n",
    "from sklearn.ensemble import RandomForestClassifier\n",
    "from sklearn import tree, metrics\n",
    "from sklearn.neighbors import KNeighborsClassifier\n",
    "from sklearn.svm import SVC\n",
    "\n",
    "from sklearn.model_selection import train_test_split, GridSearchCV\n",
    "from imblearn.under_sampling import RandomUnderSampler, ClusterCentroids, NearMiss \n",
    "from imblearn.over_sampling import RandomOverSampler, SMOTE, ADASYN\n",
    "from imblearn.combine import SMOTEENN\n",
    "\n",
    "from sklearn.metrics import (\n",
    "    confusion_matrix, \n",
    "    accuracy_score, \n",
    "    precision_score, \n",
    "    recall_score,\n",
    "    precision_recall_curve,\n",
    ")\n",
    "\n",
    "import warnings\n",
    "from src.config import DADOS_MASTERCARD\n",
    "\n",
    "warnings.filterwarnings('ignore')\n",
    "sns.set_theme(palette=\"bright\")"
   ]
  },
  {
   "cell_type": "code",
   "execution_count": 6,
   "id": "0dc5231c",
   "metadata": {},
   "outputs": [],
   "source": [
    "# Importando a base\n",
    "\n",
    "transacoes = pd.read_csv(DADOS_MASTERCARD)"
   ]
  },
  {
   "cell_type": "code",
   "execution_count": 4,
   "id": "83113b15-04ca-4f1c-937b-47fd21b24faa",
   "metadata": {},
   "outputs": [],
   "source": [
    "# Verificar se todos os valores podem ser convertidos para inteiro (sem valores decimais)\n",
    "\n",
    "if (transacoes['Time'] == transacoes['Time'].astype(int)).all():\n",
    "    \n",
    "    # Se todos os valores são inteiros, realizar a conversão\n",
    "    \n",
    "    transacoes['Time'] = transacoes['Time'].astype(int)\n",
    "   \n",
    "else:\n",
    "    print(\"Nem todos os valores na coluna 'Time' podem ser convertidos para inteiro.\")"
   ]
  },
  {
   "cell_type": "markdown",
   "id": "f6dd4b74-e282-47d9-a750-bc7dc6773a4a",
   "metadata": {},
   "source": [
    "### Vamos ajustar a escala de duas colunas para testar o resultado\n",
    "- As colunas Time e Amount têm valores max muito alto. Destoa do restante do dataset."
   ]
  },
  {
   "cell_type": "code",
   "execution_count": 6,
   "id": "9a858d29-cf70-423e-a8f0-db250bc550e1",
   "metadata": {},
   "outputs": [],
   "source": [
    "# Primeiro para a coluna Time\n",
    "\n",
    "transacoes.Time = transacoes.Time / transacoes.Time.max()\n",
    "\n",
    "# E então para a coluna Amount\n",
    "\n",
    "transacoes.Amount = transacoes.Amount / transacoes.Amount.max()"
   ]
  },
  {
   "cell_type": "code",
   "execution_count": 7,
   "id": "3c335c5c",
   "metadata": {},
   "outputs": [],
   "source": [
    "# Separando X e y\n",
    "\n",
    "X = transacoes.drop('Class',axis=1)\n",
    "y = transacoes.Class"
   ]
  },
  {
   "cell_type": "markdown",
   "id": "89f17718",
   "metadata": {},
   "source": [
    "**Separando em treino e teste**"
   ]
  },
  {
   "cell_type": "code",
   "execution_count": 9,
   "id": "e34690b4",
   "metadata": {},
   "outputs": [],
   "source": [
    "# Separando em treino e teste\n",
    "\n",
    "X_train, X_test, y_train, y_test = train_test_split(X, y, test_size=0.33, random_state=0,stratify=y)"
   ]
  },
  {
   "cell_type": "markdown",
   "id": "e34992d2",
   "metadata": {},
   "source": [
    "### Realizando o random undersampling"
   ]
  },
  {
   "cell_type": "code",
   "execution_count": 11,
   "id": "b6edf236",
   "metadata": {},
   "outputs": [],
   "source": [
    "# Definindo o RandomUnderSampler\n",
    "\n",
    "rus = RandomUnderSampler(random_state=42)"
   ]
  },
  {
   "cell_type": "code",
   "execution_count": 12,
   "id": "43fff476",
   "metadata": {},
   "outputs": [],
   "source": [
    "# Definindo a nova amostra\n",
    "\n",
    "X_resRUS, y_resRUS = rus.fit_resample(X_train, y_train)"
   ]
  },
  {
   "cell_type": "markdown",
   "id": "02349b25",
   "metadata": {},
   "source": [
    "**<font color='blue'>Com KNN**"
   ]
  },
  {
   "cell_type": "code",
   "execution_count": 14,
   "id": "6333ba66",
   "metadata": {},
   "outputs": [],
   "source": [
    "# Fazendo o fit\n",
    "\n",
    "clf_KNN = KNeighborsClassifier(n_neighbors=3).fit(X_resRUS, y_resRUS)"
   ]
  },
  {
   "cell_type": "code",
   "execution_count": 15,
   "id": "559ac19a",
   "metadata": {},
   "outputs": [],
   "source": [
    "# Fazendo a previsão\n",
    "\n",
    "y_pred_KNN = clf_KNN.predict(X_test)\n",
    "\n",
    "y_pred_proba_KNN = clf_KNN.predict_proba(X_test)[:,1]"
   ]
  },
  {
   "cell_type": "code",
   "execution_count": 16,
   "id": "72e23e96",
   "metadata": {},
   "outputs": [
    {
     "data": {
      "text/plain": [
       "array([[91227,  2598],\n",
       "       [   18,   144]], dtype=int64)"
      ]
     },
     "execution_count": 16,
     "metadata": {},
     "output_type": "execute_result"
    }
   ],
   "source": [
    "# Visualizando a matriz confusão\n",
    "\n",
    "confusion_matrix(y_test,y_pred_KNN)  "
   ]
  },
  {
   "cell_type": "code",
   "execution_count": 17,
   "id": "72b3d99a",
   "metadata": {},
   "outputs": [
    {
     "name": "stdout",
     "output_type": "stream",
     "text": [
      "0.5534876929920411\n"
     ]
    }
   ],
   "source": [
    "# Calculando a área sob a curva precisão x recall\n",
    "\n",
    "precision_KNN,recall_KNN,thresholds_KNN = metrics.precision_recall_curve(y_test,y_pred_proba_KNN)\n",
    "\n",
    "print(metrics.auc(recall_KNN, precision_KNN))"
   ]
  },
  {
   "cell_type": "markdown",
   "id": "8c29595b",
   "metadata": {},
   "source": [
    "**E novamente utilizar o GridSearchCV**"
   ]
  },
  {
   "cell_type": "code",
   "execution_count": 19,
   "id": "2ad291c4",
   "metadata": {},
   "outputs": [],
   "source": [
    "# Utilizando os parâmetros do KNN\n",
    "\n",
    "parametros = {'n_neighbors': [3,5,7,9,11], 'algorithm': ['auto', 'ball_tree', 'kd_tree', 'brute'], 'weights': ['uniform', 'distance']}"
   ]
  },
  {
   "cell_type": "code",
   "execution_count": 20,
   "id": "9eed4aeb",
   "metadata": {},
   "outputs": [],
   "source": [
    "# Selecionando o KNN\n",
    "\n",
    "KNN_GS = KNeighborsClassifier()"
   ]
  },
  {
   "cell_type": "code",
   "execution_count": 21,
   "id": "acd69275",
   "metadata": {},
   "outputs": [],
   "source": [
    "# Criando um novo classificador usando os parâmetros que escolhemos anteriormente\n",
    "\n",
    "clf_KNN_GS = GridSearchCV(KNN_GS, parametros, scoring='recall')"
   ]
  },
  {
   "cell_type": "code",
   "execution_count": 22,
   "id": "dfb958c5",
   "metadata": {},
   "outputs": [],
   "source": [
    "# Fazendo o fit dos nossos dados\n",
    "\n",
    "clf_KNN_GS = clf_KNN_GS.fit(X_resRUS, y_resRUS)"
   ]
  },
  {
   "cell_type": "code",
   "execution_count": 23,
   "id": "c8e65f5d",
   "metadata": {},
   "outputs": [
    {
     "data": {
      "text/plain": [
       "{'algorithm': 'auto', 'n_neighbors': 3, 'weights': 'uniform'}"
      ]
     },
     "execution_count": 23,
     "metadata": {},
     "output_type": "execute_result"
    }
   ],
   "source": [
    "# Visualizando os melhores parâmetros definidos pelo GridSearchCV \n",
    "\n",
    "clf_KNN_GS.best_params_"
   ]
  },
  {
   "cell_type": "code",
   "execution_count": 24,
   "id": "17e22c61",
   "metadata": {},
   "outputs": [],
   "source": [
    "# Usando esse modelo para fazer as previsões\n",
    "\n",
    "y_pred_KNN_GS = clf_KNN_GS.predict(X_test)"
   ]
  },
  {
   "cell_type": "code",
   "execution_count": 25,
   "id": "9ef44ff6",
   "metadata": {},
   "outputs": [
    {
     "data": {
      "text/plain": [
       "array([[91227,  2598],\n",
       "       [   18,   144]], dtype=int64)"
      ]
     },
     "execution_count": 25,
     "metadata": {},
     "output_type": "execute_result"
    }
   ],
   "source": [
    "# Analisando a matriz confusão\n",
    "\n",
    "confusion_matrix(y_test,y_pred_KNN_GS)  "
   ]
  }
 ],
 "metadata": {
  "kernelspec": {
   "display_name": "Python 3 (ipykernel)",
   "language": "python",
   "name": "python3"
  },
  "language_info": {
   "codemirror_mode": {
    "name": "ipython",
    "version": 3
   },
   "file_extension": ".py",
   "mimetype": "text/x-python",
   "name": "python",
   "nbconvert_exporter": "python",
   "pygments_lexer": "ipython3",
   "version": "3.12.4"
  }
 },
 "nbformat": 4,
 "nbformat_minor": 5
}
