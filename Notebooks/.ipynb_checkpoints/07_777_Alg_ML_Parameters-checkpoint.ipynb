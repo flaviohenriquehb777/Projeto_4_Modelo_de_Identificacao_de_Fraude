{
 "cells": [
  {
   "cell_type": "markdown",
   "id": "56bb1ccf-971e-4931-b148-8b38f61cdbcd",
   "metadata": {},
   "source": [
    "# Modelo de Identificação de Fraudes\n",
    "\n",
    "- Informações da base:\n",
    "    - 'Time' (tempo): contém os segundos decorridos entre cada transação e a primeira transação no conjunto de dados. \n",
    "    - 'Amount' (valor): é o valor da transação \n",
    "    - 'Class' (classe): é a variável de resposta e assume valor 1 em caso de fraude e 0 caso contrário.\n",
    "    - \"Infelizmente, devido a questões de confidencialidade, não podemos fornecer os recursos originais e mais informações básicas sobre os dados. Características V1, V2, … V28 são os principais componentes obtidos com PCA\""
   ]
  },
  {
   "cell_type": "code",
   "execution_count": 2,
   "id": "3108fa9c-e2d9-4ac3-86b1-d5e56edc628e",
   "metadata": {},
   "outputs": [],
   "source": [
    "import pandas as pd\n",
    "import matplotlib.pyplot as plt\n",
    "import seaborn as sns\n",
    "import numpy as np\n",
    "import datetime as dt\n",
    "import xgboost as xgb\n",
    "\n",
    "from scipy.stats import kstest, normaltest, anderson\n",
    "\n",
    "from sklearn.preprocessing import PowerTransformer, MinMaxScaler\n",
    "from sklearn.linear_model import LogisticRegression\n",
    "from sklearn.ensemble import RandomForestClassifier\n",
    "from sklearn import tree, metrics\n",
    "from sklearn.neighbors import KNeighborsClassifier\n",
    "from sklearn.svm import SVC\n",
    "from sklearn.feature_selection import SelectKBest, f_classif\n",
    "\n",
    "from sklearn.model_selection import (\n",
    "    train_test_split, \n",
    "    GridSearchCV, \n",
    "    StratifiedKFold, \n",
    "    cross_validate,\n",
    ")\n",
    "\n",
    "from imblearn.under_sampling import RandomUnderSampler, ClusterCentroids, NearMiss \n",
    "from imblearn.over_sampling import RandomOverSampler, SMOTE, ADASYN\n",
    "from imblearn.combine import SMOTEENN\n",
    "\n",
    "from sklearn.metrics import (\n",
    "    confusion_matrix, \n",
    "    accuracy_score, \n",
    "    precision_score, \n",
    "    recall_score,\n",
    "    make_scorer,\n",
    "    precision_recall_curve,\n",
    ")\n",
    "\n",
    "import warnings\n",
    "from src.config import DADOS_CREDICARD, DADOS_CREDICARD_TRATADO\n",
    "from src.auxiliares_ml import downcast_dataframe, testar_modelos_com_undersampling\n",
    "\n",
    "warnings.filterwarnings('ignore')\n",
    "sns.set_theme(palette=\"bright\")"
   ]
  },
  {
   "cell_type": "code",
   "execution_count": 3,
   "id": "bf5e3246-2d5a-4c4b-b80a-e64567189174",
   "metadata": {},
   "outputs": [],
   "source": [
    "# Importando a base\n",
    "\n",
    "transacoes = pd.read_parquet(DADOS_CREDICARD_TRATADO)"
   ]
  },
  {
   "cell_type": "markdown",
   "id": "e4a3d8ff-d31e-4a3f-8f04-953572ba86fc",
   "metadata": {},
   "source": [
    "### Pré-processamento: \n",
    "\n",
    "- Utilizaremos o **PowerTransformer** devido ao grande número de outliers, **exceto em 'Time'**. <br>\n",
    "- Em **'Time'** utilizaremos o MinMaxScaler."
   ]
  },
  {
   "cell_type": "code",
   "execution_count": 5,
   "id": "3ea68489-661f-483b-9078-fc4b458074f8",
   "metadata": {},
   "outputs": [
    {
     "data": {
      "text/html": [
       "<div>\n",
       "<style scoped>\n",
       "    .dataframe tbody tr th:only-of-type {\n",
       "        vertical-align: middle;\n",
       "    }\n",
       "\n",
       "    .dataframe tbody tr th {\n",
       "        vertical-align: top;\n",
       "    }\n",
       "\n",
       "    .dataframe thead th {\n",
       "        text-align: right;\n",
       "    }\n",
       "</style>\n",
       "<table border=\"1\" class=\"dataframe\">\n",
       "  <thead>\n",
       "    <tr style=\"text-align: right;\">\n",
       "      <th></th>\n",
       "      <th>Time</th>\n",
       "      <th>V1</th>\n",
       "      <th>V2</th>\n",
       "      <th>V3</th>\n",
       "      <th>V4</th>\n",
       "      <th>V5</th>\n",
       "      <th>V6</th>\n",
       "      <th>V7</th>\n",
       "      <th>V8</th>\n",
       "      <th>V9</th>\n",
       "      <th>...</th>\n",
       "      <th>V21</th>\n",
       "      <th>V22</th>\n",
       "      <th>V23</th>\n",
       "      <th>V24</th>\n",
       "      <th>V25</th>\n",
       "      <th>V26</th>\n",
       "      <th>V27</th>\n",
       "      <th>V28</th>\n",
       "      <th>Amount</th>\n",
       "      <th>Class</th>\n",
       "    </tr>\n",
       "  </thead>\n",
       "  <tbody>\n",
       "    <tr>\n",
       "      <th>0</th>\n",
       "      <td>0.0</td>\n",
       "      <td>-1.359807</td>\n",
       "      <td>-0.072781</td>\n",
       "      <td>2.536347</td>\n",
       "      <td>1.378155</td>\n",
       "      <td>-0.338321</td>\n",
       "      <td>0.462388</td>\n",
       "      <td>0.239599</td>\n",
       "      <td>0.098698</td>\n",
       "      <td>0.363787</td>\n",
       "      <td>...</td>\n",
       "      <td>-0.018307</td>\n",
       "      <td>0.277838</td>\n",
       "      <td>-0.110474</td>\n",
       "      <td>0.066928</td>\n",
       "      <td>0.128539</td>\n",
       "      <td>-0.189115</td>\n",
       "      <td>0.133558</td>\n",
       "      <td>-0.021053</td>\n",
       "      <td>1.119013</td>\n",
       "      <td>0</td>\n",
       "    </tr>\n",
       "    <tr>\n",
       "      <th>1</th>\n",
       "      <td>0.0</td>\n",
       "      <td>1.191857</td>\n",
       "      <td>0.266151</td>\n",
       "      <td>0.166480</td>\n",
       "      <td>0.448154</td>\n",
       "      <td>0.060018</td>\n",
       "      <td>-0.082361</td>\n",
       "      <td>-0.078803</td>\n",
       "      <td>0.085102</td>\n",
       "      <td>-0.255425</td>\n",
       "      <td>...</td>\n",
       "      <td>-0.225775</td>\n",
       "      <td>-0.638672</td>\n",
       "      <td>0.101288</td>\n",
       "      <td>-0.339846</td>\n",
       "      <td>0.167170</td>\n",
       "      <td>0.125895</td>\n",
       "      <td>-0.008983</td>\n",
       "      <td>0.014724</td>\n",
       "      <td>-1.128464</td>\n",
       "      <td>0</td>\n",
       "    </tr>\n",
       "  </tbody>\n",
       "</table>\n",
       "<p>2 rows × 31 columns</p>\n",
       "</div>"
      ],
      "text/plain": [
       "   Time        V1        V2        V3        V4        V5        V6        V7  \\\n",
       "0   0.0 -1.359807 -0.072781  2.536347  1.378155 -0.338321  0.462388  0.239599   \n",
       "1   0.0  1.191857  0.266151  0.166480  0.448154  0.060018 -0.082361 -0.078803   \n",
       "\n",
       "         V8        V9  ...       V21       V22       V23       V24       V25  \\\n",
       "0  0.098698  0.363787  ... -0.018307  0.277838 -0.110474  0.066928  0.128539   \n",
       "1  0.085102 -0.255425  ... -0.225775 -0.638672  0.101288 -0.339846  0.167170   \n",
       "\n",
       "        V26       V27       V28    Amount  Class  \n",
       "0 -0.189115  0.133558 -0.021053  1.119013      0  \n",
       "1  0.125895 -0.008983  0.014724 -1.128464      0  \n",
       "\n",
       "[2 rows x 31 columns]"
      ]
     },
     "execution_count": 5,
     "metadata": {},
     "output_type": "execute_result"
    }
   ],
   "source": [
    "# Criando os escaladores\n",
    "\n",
    "power_transformer = PowerTransformer(method='yeo-johnson')  # Funciona para valores positivos e negativos\n",
    "minmax_scaler = MinMaxScaler()\n",
    "\n",
    "# Aplicando a normalização nas colunas específicas\n",
    "\n",
    "transacoes['Amount'] = power_transformer.fit_transform(transacoes[['Amount']])\n",
    "transacoes['Time'] = minmax_scaler.fit_transform(transacoes[['Time']])\n",
    "\n",
    "transacoes.head(2)"
   ]
  },
  {
   "cell_type": "code",
   "execution_count": 6,
   "id": "1c79c873-3196-4796-a62b-1b2c95c4bb03",
   "metadata": {},
   "outputs": [],
   "source": [
    "# Separando X e y\n",
    "\n",
    "X = transacoes.drop(columns='Class')\n",
    "y = transacoes['Class']"
   ]
  },
  {
   "cell_type": "markdown",
   "id": "ebc8de53-478f-4a93-98aa-304c35607d3b",
   "metadata": {},
   "source": [
    "### XGBoost "
   ]
  },
  {
   "cell_type": "code",
   "execution_count": 8,
   "id": "a33fcd7f-ce6c-4a93-89f7-55e38a6a120d",
   "metadata": {},
   "outputs": [],
   "source": [
    "# Configuração do cross-validation\n",
    "\n",
    "cv = StratifiedKFold(n_splits=3, shuffle=True, random_state=0)\n",
    "\n",
    "# Criando o modelo XGBoost\n",
    "\n",
    "modelo_xgb = xgb.XGBClassifier(\n",
    "    max_depth=9,\n",
    "    n_estimators=200,\n",
    "    learning_rate=0.3,\n",
    "    random_state=0,\n",
    "    scale_pos_weight=(y.value_counts()[0] / y.value_counts()[1])  # Lida com desbalanceamento\n",
    ")"
   ]
  },
  {
   "cell_type": "code",
   "execution_count": 9,
   "id": "3c5b2671-1933-48cc-bf42-ffa03f7924ae",
   "metadata": {},
   "outputs": [],
   "source": [
    "# Métricas personalizadas\n",
    "\n",
    "scoring = {\n",
    "    'accuracy': make_scorer(accuracy_score),\n",
    "    'precision': make_scorer(precision_score),\n",
    "    'recall': make_scorer(recall_score)\n",
    "}"
   ]
  },
  {
   "cell_type": "code",
   "execution_count": 10,
   "id": "e3e10c70-1746-43aa-875a-e35739970cef",
   "metadata": {},
   "outputs": [],
   "source": [
    "# Executa o cross-validation\n",
    "\n",
    "cv_results = cross_validate(modelo_xgb, X, y, cv=cv, scoring=scoring, return_train_score=False)"
   ]
  },
  {
   "cell_type": "code",
   "execution_count": 11,
   "id": "2331e50e-9b92-43bd-88af-9ce82aa170a3",
   "metadata": {},
   "outputs": [
    {
     "name": "stdout",
     "output_type": "stream",
     "text": [
      "Resultados por dobra:\n",
      "\n",
      "Dobra 1:\n",
      "  Acurácia:  0.9996\n",
      "  Precisão:  0.9236\n",
      "  Recall:    0.8110\n",
      "\n",
      "Dobra 2:\n",
      "  Acurácia:  0.9996\n",
      "  Precisão:  0.9247\n",
      "  Recall:    0.8232\n",
      "\n",
      "Dobra 3:\n",
      "  Acurácia:  0.9996\n",
      "  Precisão:  0.9178\n",
      "  Recall:    0.8171\n"
     ]
    }
   ],
   "source": [
    "# Exibir os resultados\n",
    "\n",
    "print(\"Resultados por dobra:\")\n",
    "for i in range(3):\n",
    "    print(f\"\\nDobra {i+1}:\")\n",
    "    print(f\"  Acurácia:  {cv_results['test_accuracy'][i]:.4f}\")\n",
    "    print(f\"  Precisão:  {cv_results['test_precision'][i]:.4f}\")\n",
    "    print(f\"  Recall:    {cv_results['test_recall'][i]:.4f}\")"
   ]
  },
  {
   "cell_type": "markdown",
   "id": "deb9e713-de02-4f3c-894e-4a3324f8ba93",
   "metadata": {},
   "source": [
    "### Utilizando o GridSearchCV para melhorar os parâmetros do XGBoost"
   ]
  },
  {
   "cell_type": "code",
   "execution_count": 13,
   "id": "2343ed45-0a9a-49e9-8304-1595a5027a6e",
   "metadata": {},
   "outputs": [],
   "source": [
    "# Definição do modelo\n",
    "modelo_xgb = xgb.XGBClassifier(random_state=0, scale_pos_weight=(y.value_counts()[0] / y.value_counts()[1]))\n",
    "\n",
    "# Definição dos hiperparâmetros a serem testados\n",
    "param_grid = {\n",
    "    'max_depth': [6, 9, 12],            # Testa árvores menos profundas e mais profundas\n",
    "    'n_estimators': [100, 200, 300],    # Testa diferentes quantidades de árvores\n",
    "    'learning_rate': [0.1, 0.2, 0.3],   # Testa diferentes taxas de aprendizado\n",
    "    'gamma': [0, 0.1, 0.2],             # Testa regularização da complexidade da árvore\n",
    "    'subsample': [0.8, 1.0],            # Testa redução de amostras para cada árvore\n",
    "    'colsample_bytree': [0.8, 1.0]      # Testa redução de features usadas por árvore\n",
    "}"
   ]
  },
  {
   "cell_type": "code",
   "execution_count": 14,
   "id": "aae0a804-c4a4-414f-9c88-ea5f71354d33",
   "metadata": {},
   "outputs": [],
   "source": [
    "# Configuração do GridSearchCV\n",
    "\n",
    "grid_search = GridSearchCV(\n",
    "    estimator=modelo_xgb,\n",
    "    param_grid=param_grid,\n",
    "    scoring='recall',  # Foco principal em Recall para evitar fraudes não detectadas\n",
    "    cv=StratifiedKFold(n_splits=3, shuffle=True, random_state=0),\n",
    "    n_jobs=-1,  # Usa todos os núcleos disponíveis\n",
    "    verbose=2\n",
    ")"
   ]
  },
  {
   "cell_type": "code",
   "execution_count": 15,
   "id": "60db4e50-dc49-4972-ac59-836973204a61",
   "metadata": {},
   "outputs": [
    {
     "name": "stdout",
     "output_type": "stream",
     "text": [
      "Fitting 3 folds for each of 324 candidates, totalling 972 fits\n",
      "Melhores parâmetros encontrados:\n",
      "{'colsample_bytree': 0.8, 'gamma': 0, 'learning_rate': 0.1, 'max_depth': 6, 'n_estimators': 100, 'subsample': 0.8}\n",
      "Melhor Recall encontrado: 0.839430894308943\n"
     ]
    }
   ],
   "source": [
    "# Executa a busca pelos melhores parâmetros\n",
    "\n",
    "grid_search.fit(X, y)\n",
    "\n",
    "# Exibe os melhores parâmetros encontrados\n",
    "\n",
    "print(\"Melhores parâmetros encontrados:\")\n",
    "print(grid_search.best_params_)\n",
    "\n",
    "# Melhor resultado encontrado\n",
    "\n",
    "print(\"Melhor Recall encontrado:\", grid_search.best_score_)"
   ]
  },
  {
   "cell_type": "markdown",
   "id": "6dfa531f-5d0c-478b-8629-e52379690856",
   "metadata": {},
   "source": [
    "### XGBoost (Melhores parâmetros)"
   ]
  },
  {
   "cell_type": "code",
   "execution_count": 17,
   "id": "7925fc6b-db34-4241-b937-d7b592c3717e",
   "metadata": {},
   "outputs": [],
   "source": [
    "# Configuração do cross-validation\n",
    "\n",
    "cv = StratifiedKFold(n_splits=3, shuffle=True, random_state=0)\n",
    "\n",
    "# Criando o modelo XGBoost\n",
    "\n",
    "modelo_xgb = xgb.XGBClassifier(\n",
    "    max_depth=6,\n",
    "    n_estimators=100,\n",
    "    learning_rate=0.1,\n",
    "    random_state=0,\n",
    "    colsample_bytree=0.8,\n",
    "    gamma=0, \n",
    "    subsample=0.8,\n",
    "    scale_pos_weight=(y.value_counts()[0] / y.value_counts()[1])  # Lida com desbalanceamento\n",
    ")"
   ]
  },
  {
   "cell_type": "code",
   "execution_count": 18,
   "id": "28393a0f-df91-40e3-b76e-8b859eccfd09",
   "metadata": {},
   "outputs": [],
   "source": [
    "# Métricas personalizadas\n",
    "\n",
    "scoring = {\n",
    "    'accuracy': make_scorer(accuracy_score),\n",
    "    'precision': make_scorer(precision_score),\n",
    "    'recall': make_scorer(recall_score)\n",
    "}"
   ]
  },
  {
   "cell_type": "code",
   "execution_count": 19,
   "id": "4bbcbab1-0aa8-44e7-a975-38aca24d46f6",
   "metadata": {},
   "outputs": [],
   "source": [
    "# Executa o cross-validation\n",
    "\n",
    "cv_results = cross_validate(modelo_xgb, X, y, cv=cv, scoring=scoring, return_train_score=False)"
   ]
  },
  {
   "cell_type": "code",
   "execution_count": 20,
   "id": "4de5e335-bd12-46b7-b283-d6fabcd2b982",
   "metadata": {},
   "outputs": [
    {
     "name": "stdout",
     "output_type": "stream",
     "text": [
      "Resultados por dobra:\n",
      "\n",
      "Dobra 1:\n",
      "  Acurácia:  0.9994\n",
      "  Precisão:  0.8084\n",
      "  Recall:    0.8232\n",
      "\n",
      "Dobra 2:\n",
      "  Acurácia:  0.9995\n",
      "  Precisão:  0.8519\n",
      "  Recall:    0.8415\n",
      "\n",
      "Dobra 3:\n",
      "  Acurácia:  0.9994\n",
      "  Precisão:  0.8000\n",
      "  Recall:    0.8537\n"
     ]
    }
   ],
   "source": [
    "# Exibir os resultados\n",
    "\n",
    "print(\"Resultados por dobra:\")\n",
    "for i in range(3):\n",
    "    print(f\"\\nDobra {i+1}:\")\n",
    "    print(f\"  Acurácia:  {cv_results['test_accuracy'][i]:.4f}\")\n",
    "    print(f\"  Precisão:  {cv_results['test_precision'][i]:.4f}\")\n",
    "    print(f\"  Recall:    {cv_results['test_recall'][i]:.4f}\")"
   ]
  },
  {
   "cell_type": "markdown",
   "id": "191d1c1f-1176-4bdb-a4bd-a39e72027bbb",
   "metadata": {},
   "source": [
    "### OBSERVAÇÃO:\n",
    "\n",
    "Agora utilizamos apenas o algoritmo que se saiu melhor até aqui: **XGBoost**\n",
    "\n",
    "### NOTA:\n",
    "\n",
    "Utilizamos o **GridSearchCV** para trazer novos parâmetros e encontrar os melhores valores possíveis para o **XGBoost**"
   ]
  }
 ],
 "metadata": {
  "kernelspec": {
   "display_name": "Python 3 (ipykernel)",
   "language": "python",
   "name": "python3"
  },
  "language_info": {
   "codemirror_mode": {
    "name": "ipython",
    "version": 3
   },
   "file_extension": ".py",
   "mimetype": "text/x-python",
   "name": "python",
   "nbconvert_exporter": "python",
   "pygments_lexer": "ipython3",
   "version": "3.12.3"
  }
 },
 "nbformat": 4,
 "nbformat_minor": 5
}
