{
 "cells": [
  {
   "cell_type": "code",
   "execution_count": 1,
   "id": "3a2a2c6d-6c86-4d4d-9b15-360d5fb77f32",
   "metadata": {},
   "outputs": [],
   "source": [
    "import joblib\n",
    "import pandas as pd\n",
    "import os\n",
    "import numpy as np\n",
    "from termcolor import colored"
   ]
  },
  {
   "cell_type": "code",
   "execution_count": 2,
   "id": "6c3eef88-2998-46ae-9018-861bd61123a1",
   "metadata": {},
   "outputs": [],
   "source": [
    "# Criando o diretório 'dados/' caso não exista\n",
    "caminho_dados = '../dados/'\n",
    "os.makedirs(caminho_dados, exist_ok=True)\n",
    "\n",
    "# Caminho do modelo na pasta dados\n",
    "caminho_modelo = os.path.join(caminho_dados, 'best_model_xgboost.pkl')\n",
    "\n",
    "# Carregar o modelo\n",
    "modelo = joblib.load(caminho_modelo)"
   ]
  },
  {
   "cell_type": "code",
   "execution_count": 11,
   "id": "6c4adaf5-12cc-44ec-8453-0e3ed9aefbd2",
   "metadata": {},
   "outputs": [
    {
     "name": "stdout",
     "output_type": "stream",
     "text": [
      "Transação segura.\n",
      "Transação segura.\n",
      "Transação segura.\n",
      "Transação segura.\n",
      "Transação segura.\n",
      "Transação segura.\n",
      "Transação segura.\n",
      "Transação segura.\n",
      "Transação segura.\n",
      "Transação segura.\n",
      "Transação segura.\n",
      "Transação segura.\n",
      "Transação segura.\n",
      "Transação segura.\n",
      "Transação segura.\n",
      "Transação segura.\n",
      "Transação segura.\n",
      "Transação segura.\n",
      "Transação segura.\n",
      "Transação segura.\n",
      "\u001b[31mTeste 21: Transação de R$4741.88 - Fraude detectada!\u001b[0m\n",
      "Transação segura.\n",
      "Transação segura.\n",
      "Transação segura.\n",
      "Transação segura.\n",
      "Transação segura.\n",
      "Transação segura.\n",
      "Transação segura.\n",
      "Transação segura.\n",
      "Transação segura.\n",
      "Transação segura.\n",
      "Transação segura.\n",
      "Transação segura.\n",
      "Transação segura.\n",
      "Transação segura.\n",
      "Transação segura.\n",
      "Transação segura.\n",
      "Transação segura.\n",
      "Transação segura.\n",
      "Transação segura.\n"
     ]
    }
   ],
   "source": [
    "# Gerar e testar 40 transações aleatórias\n",
    "for i in range(40):\n",
    "    nova_transacao = pd.DataFrame({\n",
    "        'Time': [np.random.uniform(0, 1)],  # Normalizado entre 0 e 1\n",
    "        'V1': [np.random.uniform(-5, 5)],\n",
    "        'V2': [np.random.uniform(-5, 5)],\n",
    "        'V3': [np.random.uniform(-5, 5)],\n",
    "        'V4': [np.random.uniform(-5, 5)],\n",
    "        'V5': [np.random.uniform(-5, 5)],\n",
    "        'V6': [np.random.uniform(-5, 5)],\n",
    "        'V7': [np.random.uniform(-5, 5)],\n",
    "        'V8': [np.random.uniform(-5, 5)],\n",
    "        'V9': [np.random.uniform(-5, 5)],\n",
    "        'V10': [np.random.uniform(-5, 5)],\n",
    "        'V11': [np.random.uniform(-5, 5)],\n",
    "        'V12': [np.random.uniform(-5, 5)],\n",
    "        'V13': [np.random.uniform(-5, 5)],\n",
    "        'V14': [np.random.uniform(-5, 5)],\n",
    "        'V15': [np.random.uniform(-5, 5)],\n",
    "        'V16': [np.random.uniform(-5, 5)],\n",
    "        'V17': [np.random.uniform(-5, 5)],\n",
    "        'V18': [np.random.uniform(-5, 5)],\n",
    "        'V19': [np.random.uniform(-5, 5)],\n",
    "        'V20': [np.random.uniform(-5, 5)],\n",
    "        'V21': [np.random.uniform(-5, 5)],\n",
    "        'V22': [np.random.uniform(-5, 5)],\n",
    "        'V23': [np.random.uniform(-5, 5)],\n",
    "        'V24': [np.random.uniform(-5, 5)],\n",
    "        'V25': [np.random.uniform(-5, 5)],\n",
    "        'V26': [np.random.uniform(-5, 5)],\n",
    "        'V27': [np.random.uniform(-5, 5)],\n",
    "        'V28': [np.random.uniform(-5, 5)],\n",
    "        'Amount': [np.random.uniform(1, 5000)]  # Valores entre 1 e 5000 reais\n",
    "    })\n",
    "    \n",
    "    # Fazer a previsão\n",
    "    previsao = modelo.predict(nova_transacao)\n",
    "    \n",
    "    # Exibir resultado com destaque em vermelho para fraudes\n",
    "    resultado = (f\"Teste {i+1}: Transação de R${nova_transacao['Amount'][0]:.2f} - \"\n",
    "                 \"Fraude detectada!\" if previsao[0] == 1 else \"Transação segura.\")\n",
    "    \n",
    "    if previsao[0] == 1:\n",
    "        print(colored(resultado, 'red'))\n",
    "    else:\n",
    "        print(resultado)"
   ]
  }
 ],
 "metadata": {
  "kernelspec": {
   "display_name": "Python 3 (ipykernel)",
   "language": "python",
   "name": "python3"
  },
  "language_info": {
   "codemirror_mode": {
    "name": "ipython",
    "version": 3
   },
   "file_extension": ".py",
   "mimetype": "text/x-python",
   "name": "python",
   "nbconvert_exporter": "python",
   "pygments_lexer": "ipython3",
   "version": "3.12.4"
  }
 },
 "nbformat": 4,
 "nbformat_minor": 5
}
