{
 "cells": [
  {
   "cell_type": "markdown",
   "id": "fcbcb834",
   "metadata": {},
   "source": [
    "# Modelo de Identificação de Fraudes"
   ]
  },
  {
   "cell_type": "code",
   "execution_count": 3,
   "id": "a82f7e20",
   "metadata": {},
   "outputs": [],
   "source": [
    "import pandas as pd\n",
    "import matplotlib.pyplot as plt\n",
    "import seaborn as sns\n",
    "import numpy as np\n",
    "import datetime as dt\n",
    "\n",
    "from scipy.stats import kstest, normaltest, anderson\n",
    "\n",
    "from sklearn.preprocessing import PowerTransformer, MinMaxScaler\n",
    "\n",
    "from sklearn.linear_model import LogisticRegression\n",
    "from sklearn.ensemble import RandomForestClassifier\n",
    "from sklearn import tree, metrics\n",
    "from sklearn.neighbors import KNeighborsClassifier\n",
    "from sklearn.svm import SVC\n",
    "\n",
    "from sklearn.model_selection import train_test_split, GridSearchCV\n",
    "from imblearn.under_sampling import RandomUnderSampler, ClusterCentroids, NearMiss \n",
    "from imblearn.over_sampling import RandomOverSampler, SMOTE, ADASYN\n",
    "from imblearn.combine import SMOTEENN\n",
    "\n",
    "from sklearn.metrics import (\n",
    "    confusion_matrix, \n",
    "    accuracy_score, \n",
    "    precision_score, \n",
    "    recall_score,\n",
    "    precision_recall_curve,\n",
    ")\n",
    "\n",
    "import warnings\n",
    "from src.config import DADOS_MASTERCARD\n",
    "\n",
    "warnings.filterwarnings('ignore')\n",
    "sns.set_theme(palette=\"bright\")"
   ]
  },
  {
   "cell_type": "code",
   "execution_count": 5,
   "id": "5ddf401c",
   "metadata": {},
   "outputs": [],
   "source": [
    "# Importando a base\n",
    "\n",
    "transacoes = pd.read_csv(DADOS_MASTERCARD)"
   ]
  },
  {
   "cell_type": "code",
   "execution_count": 4,
   "id": "3a26393f-29fb-4923-8cbe-3f5d1a294c23",
   "metadata": {},
   "outputs": [],
   "source": [
    "# Verificar se todos os valores podem ser convertidos para inteiro (sem valores decimais)\n",
    "\n",
    "if (transacoes['Time'] == transacoes['Time'].astype(int)).all():\n",
    "    \n",
    "    # Se todos os valores são inteiros, realizar a conversão\n",
    "    \n",
    "    transacoes['Time'] = transacoes['Time'].astype(int)\n",
    "   \n",
    "else:\n",
    "    print(\"Nem todos os valores na coluna 'Time' podem ser convertidos para inteiro.\")"
   ]
  },
  {
   "cell_type": "markdown",
   "id": "2177dbca-c9a4-4f3d-aa6e-d6546cf33629",
   "metadata": {},
   "source": [
    "### Vamos ajustar a escala de duas colunas para testar o resultado\n",
    "- As colunas Time e Amount têm valores max muito alto. Destoa do restante do dataset."
   ]
  },
  {
   "cell_type": "code",
   "execution_count": 6,
   "id": "1bcd7268-394d-4f04-aea7-a6337f3efa15",
   "metadata": {},
   "outputs": [],
   "source": [
    "# Primeiro para a coluna Time\n",
    "\n",
    "transacoes.Time = transacoes.Time / transacoes.Time.max()\n",
    "\n",
    "# E então para a coluna Amount\n",
    "\n",
    "transacoes.Amount = transacoes.Amount / transacoes.Amount.max()"
   ]
  },
  {
   "cell_type": "code",
   "execution_count": 7,
   "id": "34c3eb7a",
   "metadata": {},
   "outputs": [],
   "source": [
    "# Separando X e y\n",
    "\n",
    "X = transacoes.drop('Class',axis=1)\n",
    "y = transacoes.Class"
   ]
  },
  {
   "cell_type": "markdown",
   "id": "2abb04b8",
   "metadata": {},
   "source": [
    "**Separando em treino e teste**"
   ]
  },
  {
   "cell_type": "code",
   "execution_count": 9,
   "id": "3bd99723",
   "metadata": {},
   "outputs": [],
   "source": [
    "# Separando em treino e teste\n",
    "\n",
    "X_train, X_test, y_train, y_test = train_test_split(X, y, test_size=0.33, random_state=0,stratify=y)"
   ]
  },
  {
   "cell_type": "code",
   "execution_count": 10,
   "id": "e515c64e",
   "metadata": {},
   "outputs": [
    {
     "data": {
      "text/plain": [
       "Class\n",
       "0    190490\n",
       "1       330\n",
       "Name: count, dtype: int64"
      ]
     },
     "execution_count": 10,
     "metadata": {},
     "output_type": "execute_result"
    }
   ],
   "source": [
    "# Contando os valores\n",
    "\n",
    "y_train.value_counts()"
   ]
  },
  {
   "cell_type": "markdown",
   "id": "2acfe60b",
   "metadata": {},
   "source": [
    "### Realizando o random undersampling"
   ]
  },
  {
   "cell_type": "code",
   "execution_count": 12,
   "id": "cfbc4967",
   "metadata": {},
   "outputs": [],
   "source": [
    "# Definindo o RandomUnderSampler\n",
    "\n",
    "rus = RandomUnderSampler(random_state=42)"
   ]
  },
  {
   "cell_type": "code",
   "execution_count": 13,
   "id": "b0206629",
   "metadata": {},
   "outputs": [],
   "source": [
    "# Definindo a nova amostra\n",
    "\n",
    "X_resRUS, y_resRUS = rus.fit_resample(X_train, y_train)"
   ]
  },
  {
   "cell_type": "code",
   "execution_count": 14,
   "id": "7614eb19",
   "metadata": {},
   "outputs": [
    {
     "data": {
      "text/plain": [
       "Class\n",
       "0    330\n",
       "1    330\n",
       "Name: count, dtype: int64"
      ]
     },
     "execution_count": 14,
     "metadata": {},
     "output_type": "execute_result"
    }
   ],
   "source": [
    "# Contando os valores após equilibrar o dataset\n",
    "\n",
    "y_resRUS.value_counts()"
   ]
  },
  {
   "cell_type": "markdown",
   "id": "1ff4eea2",
   "metadata": {},
   "source": [
    "### Nos passos anteriores, tivemos como os melhores hiperparâmetros:\n",
    "- **<font color='blue'>Regressão Logística:**\n",
    "    - {'C': 0.001, 'solver': 'liblinear'}\\\n",
    "- **<font color='blue'>SVC:**\n",
    "    - {'C': 100, 'gamma': 'auto', 'kernel': 'rbf'}\n",
    "- **<font color='blue'>Random Forest:**\n",
    "    - {'criterion': 'gini', 'max_depth': 9, 'n_estimators': 30}"
   ]
  },
  {
   "cell_type": "code",
   "execution_count": 16,
   "id": "99bd38e7",
   "metadata": {},
   "outputs": [
    {
     "data": {
      "text/plain": [
       "array([[85217,  8608],\n",
       "       [   10,   152]], dtype=int64)"
      ]
     },
     "execution_count": 16,
     "metadata": {},
     "output_type": "execute_result"
    }
   ],
   "source": [
    "# Regressão Logística\n",
    "\n",
    "clf_RL = LogisticRegression(random_state=0,\n",
    "                             C=0.001,\n",
    "                             solver='liblinear').fit(X_resRUS, y_resRUS)\n",
    "\n",
    "y_pred_RL = clf_RL.predict(X_test)\n",
    "\n",
    "confusion_matrix(y_test,y_pred_RL)"
   ]
  },
  {
   "cell_type": "code",
   "execution_count": 17,
   "id": "b3e711c5",
   "metadata": {},
   "outputs": [
    {
     "data": {
      "text/plain": [
       "array([[85791,  8034],\n",
       "       [   12,   150]], dtype=int64)"
      ]
     },
     "execution_count": 17,
     "metadata": {},
     "output_type": "execute_result"
    }
   ],
   "source": [
    "# SVC\n",
    "\n",
    "clf_SVC = SVC(random_state=0,\n",
    "              probability=True,\n",
    "             C=100,gamma='auto',\n",
    "             kernel='rbf').fit(X_resRUS, y_resRUS)\n",
    "\n",
    "y_pred_SVC = clf_SVC.predict(X_test)\n",
    "\n",
    "confusion_matrix(y_test,y_pred_SVC)"
   ]
  },
  {
   "cell_type": "code",
   "execution_count": 18,
   "id": "d0b626e4",
   "metadata": {},
   "outputs": [
    {
     "data": {
      "text/plain": [
       "array([[91476,  2349],\n",
       "       [   19,   143]], dtype=int64)"
      ]
     },
     "execution_count": 18,
     "metadata": {},
     "output_type": "execute_result"
    }
   ],
   "source": [
    "# Random Forest\n",
    "\n",
    "clf_RF = RandomForestClassifier(max_depth=9, \n",
    "                                random_state=0,\n",
    "                                criterion='gini',\n",
    "                                n_estimators=30).fit(X_resRUS, y_resRUS)\n",
    "\n",
    "y_pred_RF = clf_RF.predict(X_test)\n",
    "\n",
    "confusion_matrix(y_test,y_pred_RF)"
   ]
  },
  {
   "cell_type": "markdown",
   "id": "2a63d7a6",
   "metadata": {},
   "source": [
    "### Podemos começar adicionando novos parâmetros"
   ]
  },
  {
   "cell_type": "markdown",
   "id": "dbf495c5",
   "metadata": {},
   "source": [
    "**E novamente utilizar o GridSearchCV**"
   ]
  },
  {
   "cell_type": "code",
   "execution_count": 21,
   "id": "b2e14a5c",
   "metadata": {},
   "outputs": [],
   "source": [
    "# Adicionando novos parâmetros\n",
    "\n",
    "parametros = {\n",
    "    'C': [0.001,0.01,0.1,1,10,100,1000],\n",
    "    'solver': ['newton-cg','lbfgs','liblinear','sag','saga'],\n",
    "    'penalty': ['l1', 'l2', 'elasticnet', None],\n",
    "    'max_iter': [100,500,1000]\n",
    "}"
   ]
  },
  {
   "cell_type": "code",
   "execution_count": 22,
   "id": "4aadd324",
   "metadata": {},
   "outputs": [],
   "source": [
    "# Selecionando a Regressão Logística\n",
    "\n",
    "LogReg = LogisticRegression(random_state=42)"
   ]
  },
  {
   "cell_type": "code",
   "execution_count": 24,
   "id": "34d4a999",
   "metadata": {},
   "outputs": [],
   "source": [
    "# Criando o classificador\n",
    "\n",
    "clf_RL2 = GridSearchCV(LogReg, parametros,\n",
    "                       scoring='recall'\n",
    "                      ).fit(X_resRUS,y_resRUS)"
   ]
  },
  {
   "cell_type": "code",
   "execution_count": 25,
   "id": "96bc4df3",
   "metadata": {},
   "outputs": [
    {
     "data": {
      "text/plain": [
       "array([[78529, 15296],\n",
       "       [   11,   151]], dtype=int64)"
      ]
     },
     "execution_count": 25,
     "metadata": {},
     "output_type": "execute_result"
    }
   ],
   "source": [
    "# E avaliando o modelo\n",
    "\n",
    "y_pred_RL2 = clf_RL2.predict(X_test)\n",
    "\n",
    "confusion_matrix(y_test,y_pred_RL2)"
   ]
  },
  {
   "cell_type": "code",
   "execution_count": 26,
   "id": "41289df6",
   "metadata": {},
   "outputs": [
    {
     "data": {
      "text/plain": [
       "0.9320987654320988"
      ]
     },
     "execution_count": 26,
     "metadata": {},
     "output_type": "execute_result"
    }
   ],
   "source": [
    "# Verificando o recall com os novos parâmetros\n",
    "\n",
    "recall_score(y_test, y_pred_RL2)"
   ]
  },
  {
   "cell_type": "markdown",
   "id": "0d9baf73",
   "metadata": {},
   "source": [
    "#### Podemos adicionar novas métricas no scoring (como, por exemplo, adicionar a precisão além do recall)"
   ]
  },
  {
   "cell_type": "code",
   "execution_count": 28,
   "id": "e33f4824",
   "metadata": {},
   "outputs": [],
   "source": [
    "# Criando o classificador\n",
    "\n",
    "clf_RL3 = GridSearchCV(LogReg, parametros,\n",
    "                       scoring=['recall', 'precision'],\n",
    "                       refit='recall'\n",
    "                      ).fit(X_resRUS,y_resRUS)"
   ]
  },
  {
   "cell_type": "code",
   "execution_count": 29,
   "id": "fda64376",
   "metadata": {},
   "outputs": [
    {
     "data": {
      "text/plain": [
       "array([[78529, 15296],\n",
       "       [   11,   151]], dtype=int64)"
      ]
     },
     "execution_count": 29,
     "metadata": {},
     "output_type": "execute_result"
    }
   ],
   "source": [
    "# Avaliando o novo modelo\n",
    "\n",
    "y_pred_RL3 = clf_RL3.predict(X_test)\n",
    "\n",
    "confusion_matrix(y_test,y_pred_RL3)"
   ]
  },
  {
   "cell_type": "code",
   "execution_count": 30,
   "id": "cf4a5c01-4157-41fb-8234-73e9e5df4813",
   "metadata": {},
   "outputs": [
    {
     "data": {
      "text/plain": [
       "0.9320987654320988"
      ]
     },
     "execution_count": 30,
     "metadata": {},
     "output_type": "execute_result"
    }
   ],
   "source": [
    "# Verificando o recall com os novos parâmetros\n",
    "\n",
    "recall_score(y_test, y_pred_RL3)"
   ]
  }
 ],
 "metadata": {
  "kernelspec": {
   "display_name": "Python 3 (ipykernel)",
   "language": "python",
   "name": "python3"
  },
  "language_info": {
   "codemirror_mode": {
    "name": "ipython",
    "version": 3
   },
   "file_extension": ".py",
   "mimetype": "text/x-python",
   "name": "python",
   "nbconvert_exporter": "python",
   "pygments_lexer": "ipython3",
   "version": "3.12.4"
  }
 },
 "nbformat": 4,
 "nbformat_minor": 5
}
