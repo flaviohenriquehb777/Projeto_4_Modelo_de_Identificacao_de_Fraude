{
 "cells": [
  {
   "cell_type": "code",
   "execution_count": 1,
   "id": "3a2a2c6d-6c86-4d4d-9b15-360d5fb77f32",
   "metadata": {},
   "outputs": [],
   "source": [
    "import joblib\n",
    "import pandas as pd\n",
    "import os"
   ]
  },
  {
   "cell_type": "code",
   "execution_count": 2,
   "id": "6c3eef88-2998-46ae-9018-861bd61123a1",
   "metadata": {},
   "outputs": [],
   "source": [
    "# Criando o diretório 'dados/' caso não exista\n",
    "\n",
    "caminho_dados = '../dados/'\n",
    "\n",
    "os.makedirs(caminho_dados, exist_ok=True)\n",
    "\n",
    "# Caminho do modelo na pasta dados\n",
    "\n",
    "caminho_modelo = os.path.join(caminho_dados, 'modelo_fraude.pkl')\n",
    "\n",
    "# Carregar o modelo\n",
    "\n",
    "modelo = joblib.load(caminho_modelo)"
   ]
  },
  {
   "cell_type": "code",
   "execution_count": 3,
   "id": "6c4adaf5-12cc-44ec-8453-0e3ed9aefbd2",
   "metadata": {},
   "outputs": [],
   "source": [
    "# Simulando novos dados (incluindo a coluna 'Amount')\n",
    "\n",
    "nova_transacao = pd.DataFrame({\n",
    "    'Time': [0.5],  # Exemplo de dado normalizado\n",
    "    'V1': [-1.3598071336738],\n",
    "    'V2': [-0.0727811733098497],\n",
    "    'V3': [2.53634673796914],\n",
    "    'V4': [1.37815522427443],\n",
    "    'V5': [-0.338320769942518],\n",
    "    'V6': [0.462387777762292],\n",
    "    'V7': [0.239598554061257],\n",
    "    'V8': [0.0986979012610507],\n",
    "    'V9': [0.363786969611213],\n",
    "    'V10': [0.0907941719789316],\n",
    "    'V11': [-0.551599533260813],\n",
    "    'V12': [-0.617800855762348],\n",
    "    'V13': [-0.991389847235408],\n",
    "    'V14': [-0.311169353699879],\n",
    "    'V15': [1.46817697209427],\n",
    "    'V16': [-0.470400525259478],\n",
    "    'V17': [0.207971241929242],\n",
    "    'V18': [0.0257905801985591],\n",
    "    'V19': [0.403992960255733],\n",
    "    'V20': [0.251412098239705],\n",
    "    'V21': [-0.018306777944153],\n",
    "    'V22': [0.277837575558899],\n",
    "    'V23': [-0.110473910188767],\n",
    "    'V24': [0.0669280749146731],\n",
    "    'V25': [0.128539358273528],\n",
    "    'V26': [-0.189114843888824],\n",
    "    'V27': [0.133558376740387],\n",
    "    'V28': [-0.0210530534538215],\n",
    "    'Amount': [50.0]  # Adicionando a coluna 'Amount'\n",
    "})"
   ]
  },
  {
   "cell_type": "code",
   "execution_count": 4,
   "id": "c7e5ebb3-d6ff-4a38-aec8-b05e050f3882",
   "metadata": {},
   "outputs": [
    {
     "name": "stdout",
     "output_type": "stream",
     "text": [
      "Transação segura.\n"
     ]
    }
   ],
   "source": [
    "# Fazer a previsão\n",
    "\n",
    "previsao = modelo.predict(nova_transacao)\n",
    "\n",
    "# Exibir resultado\n",
    "\n",
    "print(\"Fraude detectada!\" if previsao[0] == 1 else \"Transação segura.\")"
   ]
  }
 ],
 "metadata": {
  "kernelspec": {
   "display_name": "Python 3 (ipykernel)",
   "language": "python",
   "name": "python3"
  },
  "language_info": {
   "codemirror_mode": {
    "name": "ipython",
    "version": 3
   },
   "file_extension": ".py",
   "mimetype": "text/x-python",
   "name": "python",
   "nbconvert_exporter": "python",
   "pygments_lexer": "ipython3",
   "version": "3.12.4"
  }
 },
 "nbformat": 4,
 "nbformat_minor": 5
}
